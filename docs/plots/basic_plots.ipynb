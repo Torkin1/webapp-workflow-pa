{
 "cells": [
  {
   "cell_type": "markdown",
   "metadata": {},
   "source": [
    "## Preprocessing\n",
    "\n",
    "\n",
    "Vengono letti tutti i file csv contenenti le statistiche delle run e viene creato un unico dataframe con i csv concatenati aggiungendo una colonna 'lambda' con i valori del tasso di arrivo. Dalla colonna 'statistic' ne vengono estratte tre: node contenente il nodo di riferimento della statistica o sysem se è globale, metric indicante la metrica misurata ed infine stat specifica se il valore misurato è media, minimo, massimo o deviazione standard.\n",
    "\n",
    "Infine viene creata una lista di dataframe uno per ogni metrica e nodo prendendo come statistica solo la media."
   ]
  },
  {
   "cell_type": "code",
   "execution_count": 67,
   "metadata": {},
   "outputs": [],
   "source": [
    "import pandas as pd\n",
    "import numpy as np\n",
    "import matplotlib.pyplot as plt\n",
    "import os\n",
    "import scipy\n",
    "\n",
    "path = '..\\..\\src\\caballo\\domestico\\wwsimulator\\statistics'\n",
    "\n",
    "filenames = os.listdir(path)\n",
    "stats_df_list = []\n",
    "for i in filenames:\n",
    "    lambda_val = i.split('=')[1].split('_')[0]\n",
    "    stats_df = pd.read_csv(f'{path}\\{i}')\n",
    "    stats_df['lambda'] = lambda_val\n",
    "    stats_df_list.append(stats_df)\n",
    "stats_df = pd.concat(stats_df_list)\n",
    "\n",
    "stats_df['node'] = stats_df['statistic'].apply(lambda x: x.split('-')[0])\n",
    "stats_df['metric'] = stats_df['statistic'].apply(lambda x: x.split('-')[1])\n",
    "stats_df['stat'] = stats_df['statistic'].apply(lambda x: x.split('-')[2])\n",
    "stats_df.drop(columns=['statistic'], inplace=True)\n",
    "\n",
    "# lista di dataframe uno per ogni metrica selezionando solo la media come statistica\n",
    "metrics = stats_df['metric'].unique()\n",
    "metrics_avg_df_list = []\n",
    "for i in metrics:\n",
    "    metrics_avg_df = stats_df[stats_df['metric'] == i]\n",
    "    metrics_avg_df = metrics_avg_df[metrics_avg_df['stat'] == 'avg']\n",
    "    metrics_avg_df_list.append(metrics_avg_df)\n",
    "\n",
    "metrics_nodes_avg_df_list = []\n",
    "for i in metrics_avg_df_list:\n",
    "    nodes = i['node'].unique()\n",
    "    node_avg_df_list = []\n",
    "    for j in nodes:\n",
    "        node_avg_df = i[i['node'] == j]\n",
    "        node_avg_df_list.append(node_avg_df)\n",
    "    metrics_nodes_avg_df_list.append(node_avg_df_list)"
   ]
  },
  {
   "cell_type": "markdown",
   "metadata": {},
   "source": [
    "Boxplots of the average of population number, throughput and response time with arrival rate in a range 0.5, 1.2 job/sec"
   ]
  },
  {
   "cell_type": "code",
   "execution_count": null,
   "metadata": {},
   "outputs": [],
   "source": [
    "for metric in metrics_nodes_avg_df_list:\n",
    "    for boxplot_df in metric:\n",
    "        boxplot_df['value'].astype(float)\n",
    "        boxplot_df['lambda'].astype(float)\n",
    "        boxplot_df = boxplot_df.sort_values(by='lambda')\n",
    "\n",
    "        curr_metric = boxplot_df['metric'].unique()[0]\n",
    "        curr_node = boxplot_df['node'].unique()[0]\n",
    "\n",
    "        boxplot_df.boxplot(column='value', by='lambda')\n",
    "        plt.suptitle('')\n",
    "        plt.title(f'Boxplot of {curr_metric} of the {curr_node} node')\n",
    "        plt.show()"
   ]
  },
  {
   "cell_type": "markdown",
   "metadata": {},
   "source": [
    "Confidence interval"
   ]
  },
  {
   "cell_type": "code",
   "execution_count": 74,
   "metadata": {},
   "outputs": [],
   "source": [
    "critical_value = scipy.stats.norm.ppf(1-.05/2)\n",
    "cv_df = []\n",
    "for metric in metrics_nodes_avg_df_list:\n",
    "    for node_df in metric:\n",
    "        curr_metric = node_df['metric'].unique()[0]\n",
    "        curr_node = node_df['node'].unique()[0]\n",
    "        \n",
    "        df = node_df.groupby([\"lambda\"])['value'].describe()[[\"count\", \"mean\", \"std\"]].reset_index()\n",
    "        df[\"lower_ci\"] = df[\"mean\"] - critical_value*(df[\"std\"]/np.sqrt(df[\"count\"]))\n",
    "        df[\"upper_ci\"] = df[\"mean\"] + critical_value*(df[\"std\"]/np.sqrt(df[\"count\"]))\n",
    "\n",
    "        df.to_csv(f\"output\\conf_int_{curr_node}_{curr_metric}.csv\", index=False)\n",
    "        df['metric'] = curr_metric\n",
    "        df['node'] = curr_node\n",
    "        cv_df.append(df)"
   ]
  },
  {
   "cell_type": "code",
   "execution_count": null,
   "metadata": {},
   "outputs": [],
   "source": [
    "for df in cv_df:\n",
    "    plt.figure(figsize=(10, 6))\n",
    "\n",
    "    # Plot delle medie con le barre di errore\n",
    "    plt.errorbar(df['lambda'], df['mean'], \n",
    "                yerr=[df['mean'] - df['lower_ci'], df['upper_ci'] - df['mean']], \n",
    "                fmt='o', capsize=5, label='Confidence interval 95%')\n",
    "\n",
    "    # Plot della linea che congiunge le medie\n",
    "    plt.plot(df['lambda'], df['mean'], linestyle='-', marker='o', color='b', label='Avg')\n",
    "\n",
    "    plt.xlabel('Lambda')\n",
    "    plt.ylabel(f\"Avg {df['metric'].unique()[0]} in {df['node'].unique()[0]}\")\n",
    "    plt.title(f\"Confidence interval for {df['node'].unique()[0]} average {df['metric'].unique()[0]}\")\n",
    "    plt.legend()\n",
    "\n",
    "    plt.show()\n"
   ]
  }
 ],
 "metadata": {
  "kernelspec": {
   "display_name": "sim-env-dev",
   "language": "python",
   "name": "python3"
  },
  "language_info": {
   "codemirror_mode": {
    "name": "ipython",
    "version": 3
   },
   "file_extension": ".py",
   "mimetype": "text/x-python",
   "name": "python",
   "nbconvert_exporter": "python",
   "pygments_lexer": "ipython3",
   "version": "3.9.21"
  }
 },
 "nbformat": 4,
 "nbformat_minor": 2
}
