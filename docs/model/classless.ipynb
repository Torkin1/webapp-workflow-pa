{
 "cells": [
  {
   "cell_type": "markdown",
   "metadata": {},
   "source": [
    "# Classless Analyitical Model\n",
    "\n",
    "## Description\n",
    "\n",
    "This is a classless modeling proposal of the webapp workflow case study proposed in the following book:\n",
    ">  Performance Engineering Learning Through Applications Using JMT - Giuseppe Serazzi, chapter 6.3\n",
    "\n",
    "In this proposal all jobs are serviced according to the following rules:\n",
    "- Server B services all incoming jobs with class 1 service rate;\n",
    "- Server P treats all incoming jobs with class 2 service rate;\n",
    "- Server A treats all incoming jobs with a service rate averaged equally among classes.\n",
    "\n",
    "## Queue Network Model\n",
    "\n",
    "![basic queue network](../figs/webapp_conceptual.drawio.png)"
   ]
  },
  {
   "cell_type": "code",
   "execution_count": null,
   "metadata": {},
   "outputs": [],
   "source": [
    "import csv\n",
    "import os\n",
    "from sympy import Idx, IndexedBase, Symbol\n",
    "import sympy\n",
    "from tabulate import tabulate\n",
    "from IPython.display import display, Math, Latex\n",
    "\n",
    "print(f\"using sympy {sympy.__version__}\")\n",
    "\n",
    "sep_line=\"----------------------------------\"\n",
    "\n",
    "servers = [\"A\", \"B\", \"P\"]\n",
    "classes = [\"1\", \"2\", \"3\"]\n",
    "GLOBAL = \"global\"\n",
    "\n",
    "s = Idx(\"s\")\n",
    "\"\"\"\n",
    "server index\n",
    "\"\"\"\n",
    "c = Idx(\"c\")\n",
    "\"\"\"\n",
    "class index\n",
    "\"\"\"\n",
    "mu = IndexedBase(\"mu\", shape=(len(servers), len(classes)))\n",
    "\"\"\"\n",
    "service rate of server s for jobs of class c\n",
    "\"\"\"\n",
    "p = IndexedBase(\"p\", shape=(len(servers), len(classes)))\n",
    "\"\"\"\n",
    "probability that a job in service at server s is of class c\n",
    "\"\"\"\n",
    "gamma = Symbol(\"gamma\")\n",
    "\"\"\"\n",
    "external mean arrival rate\n",
    "\"\"\"\n",
    "x = IndexedBase(\"X\", shape=(len(servers)))\n",
    "\"\"\"\n",
    "throughput of server s\n",
    "\"\"\"\n",
    "e_t = IndexedBase(\"E[T]\", shape=(len(servers)))\n",
    "\"\"\"\n",
    "expected response time (at server s, or global if omitted)\n",
    "\"\"\"\n",
    "e_n = IndexedBase(\"E[N]\", shape=(len(servers)))\n",
    "\"\"\"\n",
    "expected job population (at server s, or global if omitted)\n",
    "\"\"\"\n",
    "v = IndexedBase(\"v\", shape=(len(servers)))\n",
    "\"\"\"\n",
    "mean number of visits of a job to server s\n",
    "\"\"\"\n",
    "mu_s = IndexedBase(\"mu\", shape=(len(servers)))\n",
    "\"\"\"\n",
    "mean service rate of server s without considering the job class\n",
    "\"\"\"\n",
    "lambda_ = IndexedBase(\"lambda\", shape=(len(servers)))\n",
    "\"\"\"\n",
    "mean arrival rate at server s\n",
    "\"\"\"\n",
    "rho = IndexedBase(\"rho\", shape=(len(servers)))\n",
    "\"\"\"\n",
    "utilization of server s\n",
    "\"\"\"\n",
    "\n",
    "service_rates_vanilla = {\n",
    "    \"A\": {\n",
    "        \"1\": 1 / 0.2,\n",
    "        \"2\": 1 / 0.4,\n",
    "        \"3\": 1 / 0.1,\n",
    "    },\n",
    "    \"B\" : {\n",
    "        \"1\": 1 / 0.8,\n",
    "        \"2\": 0.0,\n",
    "        \"3\": 0.0,\n",
    "    },\n",
    "    \"P\": {\n",
    "        \"1\": 0.0,\n",
    "        \"2\": 1 / 0.4,\n",
    "        \"3\": 0.0,\n",
    "    }\n",
    "}\n",
    "\n",
    "service_rates_2fa = {\n",
    "    \"A\": {\n",
    "        \"1\": 1 / 0.2,\n",
    "        \"2\": 1 / 0.4,\n",
    "        \"3\": 1 / 0.15,\n",
    "    },\n",
    "    \"B\" : {\n",
    "        \"1\": 1 / 0.8,\n",
    "        \"2\": 0.0,\n",
    "        \"3\": 0.0,\n",
    "    },\n",
    "    \"P\": {\n",
    "        \"1\": 0.0,\n",
    "        \"2\": 1 / 0.7,\n",
    "        \"3\": 0.0,\n",
    "    }\n",
    "}\n",
    "\n",
    "service_rates_B_improved = {\n",
    "    \"A\": {\n",
    "        \"1\": 1 / 0.2,\n",
    "        \"2\": 1 / 0.4,\n",
    "        \"3\": 1 / 0.1,\n",
    "    },\n",
    "    \"B\" : {\n",
    "        \"1\": 1 / 0.4,\n",
    "        \"2\": 0.0,\n",
    "        \"3\": 0.0,\n",
    "    },\n",
    "    \"P\": {\n",
    "        \"1\": 0.0,\n",
    "        \"2\": 1 / 0.4,\n",
    "        \"3\": 0.0,\n",
    "    }\n",
    "}\n",
    "def dump_data_as_csv(data, filename):\n",
    "\n",
    "    with open(filename, \"w\") as f:\n",
    "        writer = csv.writer(f)\n",
    "        writer.writerows(data)\n",
    "\n",
    "external_arrival_rates_light = [rate / 100.0 for rate in range(50, 125, 5)]\n",
    "external_arrival_rates_heavy = [rate / 100.0 for rate in range(50, 145, 5)]\n",
    "\n",
    "sympy.init_printing()\n",
    "\n",
    "display(f\"servers={servers}\", f\"classes={classes}\")\n",
    "display(\"light arrival rates\", external_arrival_rates_light)\n",
    "display(\"heavy arrival rates\", external_arrival_rates_heavy)\n",
    "display(\"service rates vanilla\", service_rates_vanilla)\n",
    "display(\"service_rates_2fa\", service_rates_2fa)"
   ]
  },
  {
   "cell_type": "markdown",
   "metadata": {},
   "source": [
    "## Assumptions:\n",
    "\n",
    "1) Server A treats all incoming jobs with a service rate averaged equally among classes.\n",
    "\n",
    "We compute the service rate of server A assuming that all jobs are serviced with such rate, regardless of their class. Besides, we use an uniform distribution of job class probability."
   ]
  },
  {
   "cell_type": "code",
   "execution_count": 29,
   "metadata": {},
   "outputs": [
    {
     "data": {
      "image/png": "[encoded data removed]",
      "text/latex": [
       "$\\displaystyle {\\mu}_{s} = \\sum_{c=1}^{3} {\\mu}_{s,c} {p}_{s,c}$"
      ],
      "text/plain": [
       "          3                   \n",
       "         ___                  \n",
       "         ╲                    \n",
       "          ╲                   \n",
       "mu[s] =   ╱   mu[s, c]⋅p[s, c]\n",
       "         ╱                    \n",
       "         ‾‾‾                  \n",
       "        c = 1                 "
      ]
     },
     "metadata": {},
     "output_type": "display_data"
    },
    {
     "data": {
      "text/plain": [
       "'----------------------------------'"
      ]
     },
     "metadata": {},
     "output_type": "display_data"
    },
    {
     "data": {
      "image/png": "[encoded data removed]",
      "text/latex": [
       "$\\displaystyle {\\mu}_{A} = 5.83333333333333$"
      ],
      "text/plain": [
       "mu[A] = 5.83333333333333"
      ]
     },
     "metadata": {},
     "output_type": "display_data"
    },
    {
     "data": {
      "image/png": "[encoded data removed]",
      "text/latex": [
       "$\\displaystyle {\\mu}_{B} = 1.25$"
      ],
      "text/plain": [
       "mu[B] = 1.25"
      ]
     },
     "metadata": {},
     "output_type": "display_data"
    },
    {
     "data": {
      "image/png": "[encoded data removed]",
      "text/latex": [
       "$\\displaystyle {\\mu}_{P} = 2.5$"
      ],
      "text/plain": [
       "mu[P] = 2.5"
      ]
     },
     "metadata": {},
     "output_type": "display_data"
    }
   ],
   "source": [
    "from sympy import Eq, Sum, Symbol, Rational\n",
    "\n",
    "service_rates = service_rates_vanilla\n",
    "\n",
    "# probability that a job of class c is in service at server s,\n",
    "# given that a job is in service at server s\n",
    "class_probabilities = {\n",
    "    \"A\": {\n",
    "        \"1\": Rational(1, 3),\n",
    "        \"2\": Rational(1, 3),\n",
    "        \"3\": Rational(1, 3),\n",
    "    },\n",
    "    \"B\": {\n",
    "        \"1\": 1,\n",
    "        \"2\": 0,\n",
    "        \"3\": 0,\n",
    "    },\n",
    "    \"P\": {\n",
    "        \"1\": 0,\n",
    "        \"2\": 1,\n",
    "        \"3\": 0,\n",
    "    }\n",
    "}\n",
    "\n",
    "def get_mu_expr():\n",
    "    return Sum(mu[s, c] * p[s, c], (c, classes[0], classes[-1]))\n",
    "\n",
    "def get_mu_s_expr(index_s):\n",
    "    mu_s_expr = Sum(mu[s, c] * p[s, c], (s, index_s, index_s), (c, 0, len(classes) - 1))\n",
    "    return mu_s_expr\n",
    "\n",
    "def calc_mu_s(server, class_probabilities, service_rates):\n",
    "    \n",
    "    index_s = server\n",
    "    mu_s_expr = get_mu_s_expr(index_s)\n",
    "\n",
    "    mu_s_expr = mu_s_expr.doit()\n",
    "    mu_s_values = {}\n",
    "    for cl in classes:\n",
    "        index_c = classes.index(cl)\n",
    "        mu_s_values.update({\n",
    "            p[index_s, index_c]: class_probabilities[cl],\n",
    "            mu[index_s, index_c]: service_rates[server][cl]\n",
    "        })\n",
    "\n",
    "    mu_s_res = mu_s_expr.subs(mu_s_values, simultaneous=True)\n",
    "    display(Eq(mu_s[index_s], mu_s_res))\n",
    "    return mu_s_res\n",
    "\n",
    "def calc_mu_vals():\n",
    "\n",
    "    display(Eq(mu_s[s], get_mu_expr()))\n",
    "    display(sep_line)\n",
    "\n",
    "    mu_a_val = calc_mu_s(\"A\", class_probabilities[\"A\"], service_rates)\n",
    "\n",
    "    # we can use same code to calc mu of other servers\n",
    "\n",
    "    mu_b_val = calc_mu_s(\"B\", class_probabilities[\"B\"], service_rates)\n",
    "    mu_p_val = calc_mu_s(\"P\", class_probabilities[\"P\"], service_rates)\n",
    "\n",
    "    mu_vals = {\n",
    "        \"A\": mu_a_val,\n",
    "        \"B\": mu_b_val,\n",
    "        \"P\": mu_p_val\n",
    "    }\n",
    "\n",
    "    return mu_vals\n",
    "\n",
    "mu_vals = calc_mu_vals()"
   ]
  },
  {
   "cell_type": "markdown",
   "metadata": {},
   "source": [
    "2) Job flow is balanced. Namely, no job is created/destroyed inside the system.\n",
    "\n",
    "Using the above assumptions we can compute local arrival rates at each node of the network"
   ]
  },
  {
   "cell_type": "code",
   "execution_count": null,
   "metadata": {},
   "outputs": [],
   "source": [
    "from sympy import Eq, Expr, IndexedBase, solve\n",
    "\n",
    "def display_lambda_eqs():\n",
    "\n",
    "    lambda_a = Eq(lambda_[\"A\"], gamma + x[\"B\"] + x[\"P\"])\n",
    "    lambda_b = Eq(lambda_[\"B\"], x[\"B\"])\n",
    "    lambda_p = Eq(lambda_[\"P\"], x[\"P\"])\n",
    "\n",
    "    lambdas = {\n",
    "        \"A\": lambda_a,\n",
    "        \"B\": lambda_b,\n",
    "        \"P\": lambda_p,\n",
    "    }\n",
    "\n",
    "    for server in servers:\n",
    "        display(lambdas[server])\n",
    "\n",
    "display_lambda_eqs()\n",
    "\n",
    "def solve_flow_balance_eqs():\n",
    "\n",
    "    # solve flow balance linear system of equations\n",
    "    flow_balance_a = Eq(gamma + x[\"B\"] + x[\"P\"], Sum(x[s] * p[s, c], (s, \"A\", \"A\"), (c, \"1\", \"3\")).doit())\n",
    "    display(\"flow balance for A:\", flow_balance_a)\n",
    "    flow_balance_b = Eq(x[\"A\"] * p[\"A\",\"1\"], x[\"B\"])\n",
    "    display(\"flow balance for B:\", flow_balance_b)\n",
    "    flow_balance_p = Eq(x[\"A\"] * p[\"P\", \"2\"], x[\"P\"])\n",
    "    display(\"flow balance for P:\", flow_balance_p)\n",
    "\n",
    "    flow_balance_eqs = [\n",
    "        flow_balance_a,\n",
    "        flow_balance_b,\n",
    "        flow_balance_p,\n",
    "    ]\n",
    "\n",
    "    for i in range(len(flow_balance_eqs)):\n",
    "        for cl in classes:\n",
    "            for server in servers:\n",
    "                index_c = classes.index(cl)\n",
    "                flow_balance_eqs[i] = flow_balance_eqs[i].doit().subs(p[server, cl], class_probabilities[\"A\"][cl])\n",
    "\n",
    "    display(\"flow balance system:\", flow_balance_eqs)\n",
    "\n",
    "    throughputs = solve(flow_balance_eqs, x[\"A\"], x[\"B\"], x[\"P\"])\n",
    "    display(\"using class probabilities:\", class_probabilities)\n",
    "    display(\"solve for throughputs\", throughputs)\n",
    "\n",
    "    lambda_exprs = {\n",
    "        \"A\": gamma + throughputs[x[\"B\"]] + throughputs[x[\"P\"]],\n",
    "        \"B\": throughputs[x[\"B\"]],\n",
    "        \"P\": throughputs[x[\"P\"]],\n",
    "    }\n",
    "\n",
    "    display(sep_line)\n",
    "    for server in servers:\n",
    "        display(Eq(lambda_[server], lambda_exprs[server]))\n",
    "    \n",
    "    return lambda_exprs, throughputs\n",
    "\n",
    "lambda_exprs, throughputs = solve_flow_balance_eqs()\n"
   ]
  },
  {
   "cell_type": "markdown",
   "metadata": {},
   "source": [
    "## Objective 1\n",
    "\n",
    "We check for system stability for each arrival rate used in the experiment"
   ]
  },
  {
   "cell_type": "code",
   "execution_count": null,
   "metadata": {},
   "outputs": [],
   "source": [
    "external_arrival_rates = external_arrival_rates_light\n",
    "\n",
    "def is_stable(rho_values):\n",
    "    for value in rho_values:\n",
    "        if value >= 1:\n",
    "            return False\n",
    "    return True\n",
    "\n",
    "def display_rho_eq():\n",
    "    mu_s = Symbol(f\"mu_s\")\n",
    "    display(Eq(rho[s], lambda_[s] / mu_s))\n",
    "\n",
    "display_rho_eq()\n",
    "\n",
    "display(\"Searching for stable system configurations ...\")\n",
    "\n",
    "def calc_rho_vals(objective):\n",
    "\n",
    "    rho_values = {}\n",
    "    stable_rates = []\n",
    "\n",
    "    data = []\n",
    "    data.append([gamma, *[rho[s] for s in servers], \"stable\"])\n",
    "    for rate in external_arrival_rates:\n",
    "\n",
    "        rho_values_per_server = {}\n",
    "        stable = False\n",
    "        \n",
    "        for server in servers:\n",
    "\n",
    "            index_s = server\n",
    "\n",
    "            mu_s_expr = get_mu_s_expr(index_s)\n",
    "            mu_s_expr = mu_s_expr.doit().subs({p[index_s, classes.index(cl)]: class_probabilities[server][cl] for cl in classes}, simultaneous=True)\n",
    "            mu_s_expr = mu_s_expr.subs({mu[index_s, classes.index(cl)]: service_rates[server][cl] for cl in classes}, simultaneous=True)\n",
    "            rho_expr = lambda_[index_s] / mu_s_expr\n",
    "            rho_expr = rho_expr.subs(lambda_[index_s], lambda_exprs[server])\n",
    "            rho_expr = rho_expr.subs(gamma, rate)\n",
    "\n",
    "            rho_values_per_server[server] = rho_expr\n",
    "            \n",
    "        if is_stable(rho_values_per_server.values()):\n",
    "            stable_rates.append(rate)\n",
    "            rho_values[rate] = rho_values_per_server\n",
    "            stable = True\n",
    "            \n",
    "        data.append([rate, *[rho_values_per_server[s] for s in servers], stable])\n",
    "\n",
    "    table = tabulate(data, headers=\"firstrow\", tablefmt=\"html\")\n",
    "    display(table)\n",
    "    dump_data_as_csv(data, os.path.join('..', 'plots', 'output', f\"{objective}_analitycal_rho.csv\"))\n",
    "\n",
    "    return rho_values, stable_rates\n",
    "\n",
    "rho_values, stable_rates = calc_rho_vals(\"obj1\")"
   ]
  },
  {
   "cell_type": "markdown",
   "metadata": {},
   "source": [
    "### Local performances\n",
    "We assume a Processor Sharing (PS) queue policy for each server, since this is the policy used in the case study.\n",
    "\n",
    "Throughputs have already been computed when solving the queue network\n",
    "\n",
    "N is computed using Little's Law."
   ]
  },
  {
   "cell_type": "code",
   "execution_count": null,
   "metadata": {},
   "outputs": [],
   "source": [
    "def calc_local_performances(objective):\n",
    "\n",
    "    e_t_values = {}\n",
    "    e_n_values = {}\n",
    "    x_values = {}\n",
    "\n",
    "    for rate in stable_rates:\n",
    "        e_t_values[rate] = {}\n",
    "        e_n_values[rate] = {}\n",
    "        x_values[rate] = {}\n",
    "\n",
    "    e_t_expr = 1 / (mu_s[s] * (1 - rho[s]))\n",
    "    display(Eq(e_t[s], e_t_expr))\n",
    "\n",
    "    e_n_expr = lambda_[s] * e_t[s]\n",
    "    display(Eq(e_n[s], e_n_expr))\n",
    "\n",
    "    display(throughputs)\n",
    "\n",
    "    data = []\n",
    "    data.append([gamma, *[e_t[s] for s in servers], *[e_n[s] for s in servers], *[x[s] for s in servers]])\n",
    "    for rate in rho_values.keys():\n",
    "        for server in servers:\n",
    "            \n",
    "            # response time\n",
    "            mu_s_expr = get_mu_s_expr(server).doit().subs({mu[server, cl]: service_rates[server][cl] for cl in classes}, simultaneous=True)\n",
    "            mu_s_val = mu_vals[server]\n",
    "            rho_val = rho_values[rate][server]\n",
    "            e_t_val = e_t_expr.subs({\n",
    "                mu_s[s]: mu_s_val,\n",
    "                rho[s]: rho_val\n",
    "            }).doit()\n",
    "            e_t_values[rate][server] = e_t_val\n",
    "\n",
    "            # throughput\n",
    "            x_val = throughputs[x[server]].subs(gamma, rate)\n",
    "            x_values[rate][server] = x_val\n",
    "\n",
    "            # mean population\n",
    "            lambda_expr = lambda_exprs[server].subs(gamma, rate)\n",
    "            e_n_val = e_n_expr.subs({\n",
    "                lambda_[s]: lambda_expr,\n",
    "                e_t[s]: e_t_val\n",
    "            })\n",
    "            e_n_values[rate][server] = e_n_val\n",
    "\n",
    "        \n",
    "        data.append([rate, *[e_t_values[rate][s] for s in servers], *[e_n_values[rate][s] for s in servers], *[x_values[rate][s] for s in servers]])\n",
    "\n",
    "    table = tabulate(data, headers=\"firstrow\", tablefmt=\"html\")\n",
    "    display(table)\n",
    "\n",
    "    dump_data_as_csv(data, os.path.join('..', 'plots', 'output', f\"{objective}_analitycal_local_performances.csv\"))\n",
    "\n",
    "    return e_t_values, e_n_values, x_values\n",
    "\n",
    "e_t_values, e_n_values, x_values = calc_local_performances(\"obj1\")\n"
   ]
  },
  {
   "cell_type": "markdown",
   "metadata": {},
   "source": [
    "### Global Performances\n",
    "\n",
    "We have to consider mean job visits to each node in order to compute the global mean response time.\n",
    "\n",
    "Global throughput is given by external arrival rate $\\gamma$ in each stable configuration.\n",
    "\n",
    "Once again, we can leverage little to compute the global mean population."
   ]
  },
  {
   "cell_type": "code",
   "execution_count": null,
   "metadata": {},
   "outputs": [],
   "source": [
    "def evaluate_e_t_global(expr, rate, v_values):\n",
    "    expr_e_t_global_evaluated = expr\n",
    "    for server in servers:\n",
    "        index_s = servers.index(server)\n",
    "        expr_e_t_global_evaluated = expr_e_t_global_evaluated.subs({\n",
    "            v[index_s]: v_values[server],\n",
    "            e_t[index_s]: e_t_values[rate][server],\n",
    "        })\n",
    "    return expr_e_t_global_evaluated\n",
    "\n",
    "def calc_v_values():\n",
    "    v_expr = lambda_[s] / gamma\n",
    "    display(Eq(v[s], v_expr))\n",
    "    display(sep_line)\n",
    "    v_values = {}\n",
    "    for server in servers:\n",
    "        v_values[server] = v_expr.subs({ lambda_[s]: lambda_exprs[server] })\n",
    "        display(Eq(v[server], v_values[server]))\n",
    "    return v_values\n",
    "\n",
    "def calc_global_performances(objective):\n",
    "\n",
    "    display(Eq(e_t, Sum(v[s] * e_t[s], (s, servers[0], servers[-1]))))\n",
    "    display(Eq(e_n, gamma * e_t))\n",
    "    x_expr = x[\"A\"] * p[\"A\", \"3\"]\n",
    "    display(Eq(x, x_expr))\n",
    "    \n",
    "    e_t_global_values = {}\n",
    "    e_n_global_values = {}\n",
    "    x_global_values = {}\n",
    "\n",
    "    data = []\n",
    "    data.append([gamma, e_t['S'], e_n['S'], x['S']]) \n",
    "    for rate in stable_rates:\n",
    "        \n",
    "        # Response time\n",
    "        e_t_global_expr = Sum(v[s] * e_t[s], (s, 0, len(servers) - 1)).doit()\n",
    "        e_t_global_value = evaluate_e_t_global(e_t_global_expr, rate, v_values)\n",
    "        e_t_global_values[rate] = e_t_global_value\n",
    "\n",
    "        # Population\n",
    "        e_n_global_expr = gamma * e_t_global_expr\n",
    "        e_n_global_expr = evaluate_e_t_global(e_n_global_expr, rate, v_values)\n",
    "        e_n_global_val = e_n_global_expr.subs(gamma, rate)\n",
    "        e_n_global_values[rate] = e_n_global_val\n",
    "\n",
    "        # Throughput\n",
    "        x_global_val = x_expr.subs({\n",
    "            x[\"A\"]: throughputs[x[\"A\"]],\n",
    "            gamma: rate,\n",
    "            p[\"A\", \"3\"]: class_probabilities[\"A\"][\"3\"]\n",
    "        })\n",
    "        x_global_values[rate] = x_global_val\n",
    "\n",
    "        data.append([rate, e_t_global_value, e_n_global_val, x_global_val])\n",
    "\n",
    "    table = tabulate(data, headers=\"firstrow\", tablefmt=\"html\")\n",
    "    display(table)\n",
    "    dump_data_as_csv(data, os.path.join('..', 'plots', 'output', f\"{objective}_analitycal_global_performances.csv\"))\n",
    "\n",
    "    return e_t_global_values, e_n_global_values, x_global_values\n",
    "\n",
    "v_values = calc_v_values()\n",
    "display(sep_line)\n",
    "e_t_global_values, e_n_global_values, x_global_values = calc_global_performances(\"obj1\")\n",
    "        "
   ]
  },
  {
   "cell_type": "markdown",
   "metadata": {},
   "source": [
    "## Objective 2\n",
    "\n",
    "Introducing a 2FA system deployed in Server A and B changes the average Service time respectively for jobs of class 3 and 2."
   ]
  },
  {
   "cell_type": "code",
   "execution_count": null,
   "metadata": {},
   "outputs": [],
   "source": [
    "service_rates = service_rates_2fa\n",
    "obj = \"obj2\"\n",
    "\n",
    "mu_vals = calc_mu_vals()\n",
    "display(sep_line)\n",
    "rho_values, stable_rates = calc_rho_vals(obj)\n",
    "display(sep_line)\n",
    "e_t_values, e_n_values, x_values = calc_local_performances(obj)\n",
    "display(sep_line)\n",
    "e_t_global_values, e_n_global_values, x_global_values = calc_global_performances(obj)\n"
   ]
  },
  {
   "cell_type": "markdown",
   "metadata": {},
   "source": [
    "## Objective 3\n",
    "\n",
    "We increase the arrival rates to further stress the system"
   ]
  },
  {
   "cell_type": "code",
   "execution_count": null,
   "metadata": {},
   "outputs": [],
   "source": [
    "service_rates = service_rates_vanilla\n",
    "external_arrival_rates = external_arrival_rates_heavy\n",
    "\n",
    "obj = \"obj3\"\n",
    "\n",
    "mu_vals = calc_mu_vals()\n",
    "display(sep_line)\n",
    "rho_values, stable_rates = calc_rho_vals(obj)\n",
    "display(sep_line)\n",
    "e_t_values, e_n_values, x_values = calc_local_performances(obj)\n",
    "display(sep_line)\n",
    "e_t_global_values, e_n_global_values, x_global_values = calc_global_performances(obj)\n"
   ]
  },
  {
   "cell_type": "markdown",
   "metadata": {},
   "source": [
    "## Objective 4 (Improvement)\n",
    "\n",
    "By looking at $\\rho$ values we observe that server B seems to be overwhelmed when the external arrival rate is $\\gamma > 1.2 $ req/s, so we replace it with a new performant one, as the case study reports."
   ]
  },
  {
   "cell_type": "code",
   "execution_count": 32,
   "metadata": {},
   "outputs": [
    {
     "data": {
      "image/png": "[encoded data removed]",
      "text/latex": [
       "$\\displaystyle {\\mu}_{s} = \\sum_{c=1}^{3} {\\mu}_{s,c} {p}_{s,c}$"
      ],
      "text/plain": [
       "          3                   \n",
       "         ___                  \n",
       "         ╲                    \n",
       "          ╲                   \n",
       "mu[s] =   ╱   mu[s, c]⋅p[s, c]\n",
       "         ╱                    \n",
       "         ‾‾‾                  \n",
       "        c = 1                 "
      ]
     },
     "metadata": {},
     "output_type": "display_data"
    },
    {
     "data": {
      "text/plain": [
       "'----------------------------------'"
      ]
     },
     "metadata": {},
     "output_type": "display_data"
    },
    {
     "data": {
      "image/png": "[encoded data removed]",
      "text/latex": [
       "$\\displaystyle {\\mu}_{A} = 5.83333333333333$"
      ],
      "text/plain": [
       "mu[A] = 5.83333333333333"
      ]
     },
     "metadata": {},
     "output_type": "display_data"
    },
    {
     "data": {
      "image/png": "[encoded data removed]",
      "text/latex": [
       "$\\displaystyle {\\mu}_{B} = 1.42857142857143$"
      ],
      "text/plain": [
       "mu[B] = 1.42857142857143"
      ]
     },
     "metadata": {},
     "output_type": "display_data"
    },
    {
     "data": {
      "image/png": "[encoded data removed]",
      "text/latex": [
       "$\\displaystyle {\\mu}_{P} = 2.5$"
      ],
      "text/plain": [
       "mu[P] = 2.5"
      ]
     },
     "metadata": {},
     "output_type": "display_data"
    },
    {
     "data": {
      "text/plain": [
       "'----------------------------------'"
      ]
     },
     "metadata": {},
     "output_type": "display_data"
    },
    {
     "data": {
      "text/html": [
       "<table>\n",
       "<thead>\n",
       "<tr><th style=\"text-align: right;\">  gamma</th><th style=\"text-align: right;\">  rho[A]</th><th style=\"text-align: right;\">  rho[B]</th><th style=\"text-align: right;\">  rho[P]</th><th>stable  </th></tr>\n",
       "</thead>\n",
       "<tbody>\n",
       "<tr><td style=\"text-align: right;\">   0.5 </td><td style=\"text-align: right;\">0.257143</td><td style=\"text-align: right;\">   0.35 </td><td style=\"text-align: right;\">    0.2 </td><td>True    </td></tr>\n",
       "<tr><td style=\"text-align: right;\">   0.55</td><td style=\"text-align: right;\">0.282857</td><td style=\"text-align: right;\">   0.385</td><td style=\"text-align: right;\">    0.22</td><td>True    </td></tr>\n",
       "<tr><td style=\"text-align: right;\">   0.6 </td><td style=\"text-align: right;\">0.308571</td><td style=\"text-align: right;\">   0.42 </td><td style=\"text-align: right;\">    0.24</td><td>True    </td></tr>\n",
       "<tr><td style=\"text-align: right;\">   0.65</td><td style=\"text-align: right;\">0.334286</td><td style=\"text-align: right;\">   0.455</td><td style=\"text-align: right;\">    0.26</td><td>True    </td></tr>\n",
       "<tr><td style=\"text-align: right;\">   0.7 </td><td style=\"text-align: right;\">0.36    </td><td style=\"text-align: right;\">   0.49 </td><td style=\"text-align: right;\">    0.28</td><td>True    </td></tr>\n",
       "<tr><td style=\"text-align: right;\">   0.75</td><td style=\"text-align: right;\">0.385714</td><td style=\"text-align: right;\">   0.525</td><td style=\"text-align: right;\">    0.3 </td><td>True    </td></tr>\n",
       "<tr><td style=\"text-align: right;\">   0.8 </td><td style=\"text-align: right;\">0.411429</td><td style=\"text-align: right;\">   0.56 </td><td style=\"text-align: right;\">    0.32</td><td>True    </td></tr>\n",
       "<tr><td style=\"text-align: right;\">   0.85</td><td style=\"text-align: right;\">0.437143</td><td style=\"text-align: right;\">   0.595</td><td style=\"text-align: right;\">    0.34</td><td>True    </td></tr>\n",
       "<tr><td style=\"text-align: right;\">   0.9 </td><td style=\"text-align: right;\">0.462857</td><td style=\"text-align: right;\">   0.63 </td><td style=\"text-align: right;\">    0.36</td><td>True    </td></tr>\n",
       "<tr><td style=\"text-align: right;\">   0.95</td><td style=\"text-align: right;\">0.488571</td><td style=\"text-align: right;\">   0.665</td><td style=\"text-align: right;\">    0.38</td><td>True    </td></tr>\n",
       "<tr><td style=\"text-align: right;\">   1   </td><td style=\"text-align: right;\">0.514286</td><td style=\"text-align: right;\">   0.7  </td><td style=\"text-align: right;\">    0.4 </td><td>True    </td></tr>\n",
       "<tr><td style=\"text-align: right;\">   1.05</td><td style=\"text-align: right;\">0.54    </td><td style=\"text-align: right;\">   0.735</td><td style=\"text-align: right;\">    0.42</td><td>True    </td></tr>\n",
       "<tr><td style=\"text-align: right;\">   1.1 </td><td style=\"text-align: right;\">0.565714</td><td style=\"text-align: right;\">   0.77 </td><td style=\"text-align: right;\">    0.44</td><td>True    </td></tr>\n",
       "<tr><td style=\"text-align: right;\">   1.15</td><td style=\"text-align: right;\">0.591429</td><td style=\"text-align: right;\">   0.805</td><td style=\"text-align: right;\">    0.46</td><td>True    </td></tr>\n",
       "<tr><td style=\"text-align: right;\">   1.2 </td><td style=\"text-align: right;\">0.617143</td><td style=\"text-align: right;\">   0.84 </td><td style=\"text-align: right;\">    0.48</td><td>True    </td></tr>\n",
       "<tr><td style=\"text-align: right;\">   1.25</td><td style=\"text-align: right;\">0.642857</td><td style=\"text-align: right;\">   0.875</td><td style=\"text-align: right;\">    0.5 </td><td>True    </td></tr>\n",
       "<tr><td style=\"text-align: right;\">   1.3 </td><td style=\"text-align: right;\">0.668571</td><td style=\"text-align: right;\">   0.91 </td><td style=\"text-align: right;\">    0.52</td><td>True    </td></tr>\n",
       "<tr><td style=\"text-align: right;\">   1.35</td><td style=\"text-align: right;\">0.694286</td><td style=\"text-align: right;\">   0.945</td><td style=\"text-align: right;\">    0.54</td><td>True    </td></tr>\n",
       "<tr><td style=\"text-align: right;\">   1.4 </td><td style=\"text-align: right;\">0.72    </td><td style=\"text-align: right;\">   0.98 </td><td style=\"text-align: right;\">    0.56</td><td>True    </td></tr>\n",
       "</tbody>\n",
       "</table>"
      ],
      "text/plain": [
       "'<table>\\n<thead>\\n<tr><th style=\"text-align: right;\">  gamma</th><th style=\"text-align: right;\">  rho[A]</th><th style=\"text-align: right;\">  rho[B]</th><th style=\"text-align: right;\">  rho[P]</th><th>stable  </th></tr>\\n</thead>\\n<tbody>\\n<tr><td style=\"text-align: right;\">   0.5 </td><td style=\"text-align: right;\">0.257143</td><td style=\"text-align: right;\">   0.35 </td><td style=\"text-align: right;\">    0.2 </td><td>True    </td></tr>\\n<tr><td style=\"text-align: right;\">   0.55</td><td style=\"text-align: right;\">0.282857</td><td style=\"text-align: right;\">   0.385</td><td style=\"text-align: right;\">    0.22</td><td>True    </td></tr>\\n<tr><td style=\"text-align: right;\">   0.6 </td><td style=\"text-align: right;\">0.308571</td><td style=\"text-align: right;\">   0.42 </td><td style=\"text-align: right;\">    0.24</td><td>True    </td></tr>\\n<tr><td style=\"text-align: right;\">   0.65</td><td style=\"text-align: right;\">0.334286</td><td style=\"text-align: right;\">   0.455</td><td style=\"text-align: right;\">    0.26</td><td>True    </td></tr>\\n<tr><td style=\"text-align: right;\">   0.7 </td><td style=\"text-align: right;\">0.36    </td><td style=\"text-align: right;\">   0.49 </td><td style=\"text-align: right;\">    0.28</td><td>True    </td></tr>\\n<tr><td style=\"text-align: right;\">   0.75</td><td style=\"text-align: right;\">0.385714</td><td style=\"text-align: right;\">   0.525</td><td style=\"text-align: right;\">    0.3 </td><td>True    </td></tr>\\n<tr><td style=\"text-align: right;\">   0.8 </td><td style=\"text-align: right;\">0.411429</td><td style=\"text-align: right;\">   0.56 </td><td style=\"text-align: right;\">    0.32</td><td>True    </td></tr>\\n<tr><td style=\"text-align: right;\">   0.85</td><td style=\"text-align: right;\">0.437143</td><td style=\"text-align: right;\">   0.595</td><td style=\"text-align: right;\">    0.34</td><td>True    </td></tr>\\n<tr><td style=\"text-align: right;\">   0.9 </td><td style=\"text-align: right;\">0.462857</td><td style=\"text-align: right;\">   0.63 </td><td style=\"text-align: right;\">    0.36</td><td>True    </td></tr>\\n<tr><td style=\"text-align: right;\">   0.95</td><td style=\"text-align: right;\">0.488571</td><td style=\"text-align: right;\">   0.665</td><td style=\"text-align: right;\">    0.38</td><td>True    </td></tr>\\n<tr><td style=\"text-align: right;\">   1   </td><td style=\"text-align: right;\">0.514286</td><td style=\"text-align: right;\">   0.7  </td><td style=\"text-align: right;\">    0.4 </td><td>True    </td></tr>\\n<tr><td style=\"text-align: right;\">   1.05</td><td style=\"text-align: right;\">0.54    </td><td style=\"text-align: right;\">   0.735</td><td style=\"text-align: right;\">    0.42</td><td>True    </td></tr>\\n<tr><td style=\"text-align: right;\">   1.1 </td><td style=\"text-align: right;\">0.565714</td><td style=\"text-align: right;\">   0.77 </td><td style=\"text-align: right;\">    0.44</td><td>True    </td></tr>\\n<tr><td style=\"text-align: right;\">   1.15</td><td style=\"text-align: right;\">0.591429</td><td style=\"text-align: right;\">   0.805</td><td style=\"text-align: right;\">    0.46</td><td>True    </td></tr>\\n<tr><td style=\"text-align: right;\">   1.2 </td><td style=\"text-align: right;\">0.617143</td><td style=\"text-align: right;\">   0.84 </td><td style=\"text-align: right;\">    0.48</td><td>True    </td></tr>\\n<tr><td style=\"text-align: right;\">   1.25</td><td style=\"text-align: right;\">0.642857</td><td style=\"text-align: right;\">   0.875</td><td style=\"text-align: right;\">    0.5 </td><td>True    </td></tr>\\n<tr><td style=\"text-align: right;\">   1.3 </td><td style=\"text-align: right;\">0.668571</td><td style=\"text-align: right;\">   0.91 </td><td style=\"text-align: right;\">    0.52</td><td>True    </td></tr>\\n<tr><td style=\"text-align: right;\">   1.35</td><td style=\"text-align: right;\">0.694286</td><td style=\"text-align: right;\">   0.945</td><td style=\"text-align: right;\">    0.54</td><td>True    </td></tr>\\n<tr><td style=\"text-align: right;\">   1.4 </td><td style=\"text-align: right;\">0.72    </td><td style=\"text-align: right;\">   0.98 </td><td style=\"text-align: right;\">    0.56</td><td>True    </td></tr>\\n</tbody>\\n</table>'"
      ]
     },
     "metadata": {},
     "output_type": "display_data"
    },
    {
     "data": {
      "text/plain": [
       "'----------------------------------'"
      ]
     },
     "metadata": {},
     "output_type": "display_data"
    },
    {
     "data": {
      "image/png": "[encoded data removed]",
      "text/latex": [
       "$\\displaystyle {E[T]}_{s} = \\frac{1}{\\left(1 - {\\rho}_{s}\\right) {\\mu}_{s}}$"
      ],
      "text/plain": [
       "                  1         \n",
       "E[T][s] = ──────────────────\n",
       "          (1 - rho[s])⋅mu[s]"
      ]
     },
     "metadata": {},
     "output_type": "display_data"
    },
    {
     "data": {
      "image/png": "[encoded data removed]",
      "text/latex": [
       "$\\displaystyle {E[N]}_{s} = {E[T]}_{s} {\\lambda}_{s}$"
      ],
      "text/plain": [
       "E[N][s] = E[T][s]⋅lambda[s]"
      ]
     },
     "metadata": {},
     "output_type": "display_data"
    },
    {
     "data": {
      "image/png": "[encoded data removed]",
      "text/latex": [
       "$\\displaystyle \\left\\{ {X}_{A} : 3 \\gamma, \\  {X}_{B} : \\gamma, \\  {X}_{P} : \\gamma\\right\\}$"
      ],
      "text/plain": [
       "{X[A]: 3⋅γ, X[B]: γ, X[P]: γ}"
      ]
     },
     "metadata": {},
     "output_type": "display_data"
    },
    {
     "data": {
      "text/html": [
       "<table>\n",
       "<thead>\n",
       "<tr><th style=\"text-align: right;\">  gamma</th><th style=\"text-align: right;\">  E[T][A]</th><th style=\"text-align: right;\">  E[T][B]</th><th style=\"text-align: right;\">  E[T][P]</th><th style=\"text-align: right;\">  E[N][A]</th><th style=\"text-align: right;\">  E[N][B]</th><th style=\"text-align: right;\">  E[N][P]</th><th style=\"text-align: right;\">  X[A]</th><th style=\"text-align: right;\">  X[B]</th><th style=\"text-align: right;\">  X[P]</th></tr>\n",
       "</thead>\n",
       "<tbody>\n",
       "<tr><td style=\"text-align: right;\">   0.5 </td><td style=\"text-align: right;\"> 0.230769</td><td style=\"text-align: right;\">  1.07692</td><td style=\"text-align: right;\"> 0.5     </td><td style=\"text-align: right;\"> 0.346154</td><td style=\"text-align: right;\"> 0.538462</td><td style=\"text-align: right;\"> 0.25    </td><td style=\"text-align: right;\">  1.5 </td><td style=\"text-align: right;\">  0.5 </td><td style=\"text-align: right;\">  0.5 </td></tr>\n",
       "<tr><td style=\"text-align: right;\">   0.55</td><td style=\"text-align: right;\"> 0.239044</td><td style=\"text-align: right;\">  1.13821</td><td style=\"text-align: right;\"> 0.512821</td><td style=\"text-align: right;\"> 0.394422</td><td style=\"text-align: right;\"> 0.626016</td><td style=\"text-align: right;\"> 0.282051</td><td style=\"text-align: right;\">  1.65</td><td style=\"text-align: right;\">  0.55</td><td style=\"text-align: right;\">  0.55</td></tr>\n",
       "<tr><td style=\"text-align: right;\">   0.6 </td><td style=\"text-align: right;\"> 0.247934</td><td style=\"text-align: right;\">  1.2069 </td><td style=\"text-align: right;\"> 0.526316</td><td style=\"text-align: right;\"> 0.446281</td><td style=\"text-align: right;\"> 0.724138</td><td style=\"text-align: right;\"> 0.315789</td><td style=\"text-align: right;\">  1.8 </td><td style=\"text-align: right;\">  0.6 </td><td style=\"text-align: right;\">  0.6 </td></tr>\n",
       "<tr><td style=\"text-align: right;\">   0.65</td><td style=\"text-align: right;\"> 0.257511</td><td style=\"text-align: right;\">  1.2844 </td><td style=\"text-align: right;\"> 0.540541</td><td style=\"text-align: right;\"> 0.502146</td><td style=\"text-align: right;\"> 0.834862</td><td style=\"text-align: right;\"> 0.351351</td><td style=\"text-align: right;\">  1.95</td><td style=\"text-align: right;\">  0.65</td><td style=\"text-align: right;\">  0.65</td></tr>\n",
       "<tr><td style=\"text-align: right;\">   0.7 </td><td style=\"text-align: right;\"> 0.267857</td><td style=\"text-align: right;\">  1.37255</td><td style=\"text-align: right;\"> 0.555556</td><td style=\"text-align: right;\"> 0.5625  </td><td style=\"text-align: right;\"> 0.960784</td><td style=\"text-align: right;\"> 0.388889</td><td style=\"text-align: right;\">  2.1 </td><td style=\"text-align: right;\">  0.7 </td><td style=\"text-align: right;\">  0.7 </td></tr>\n",
       "<tr><td style=\"text-align: right;\">   0.75</td><td style=\"text-align: right;\"> 0.27907 </td><td style=\"text-align: right;\">  1.47368</td><td style=\"text-align: right;\"> 0.571429</td><td style=\"text-align: right;\"> 0.627907</td><td style=\"text-align: right;\"> 1.10526 </td><td style=\"text-align: right;\"> 0.428571</td><td style=\"text-align: right;\">  2.25</td><td style=\"text-align: right;\">  0.75</td><td style=\"text-align: right;\">  0.75</td></tr>\n",
       "<tr><td style=\"text-align: right;\">   0.8 </td><td style=\"text-align: right;\"> 0.291262</td><td style=\"text-align: right;\">  1.59091</td><td style=\"text-align: right;\"> 0.588235</td><td style=\"text-align: right;\"> 0.699029</td><td style=\"text-align: right;\"> 1.27273 </td><td style=\"text-align: right;\"> 0.470588</td><td style=\"text-align: right;\">  2.4 </td><td style=\"text-align: right;\">  0.8 </td><td style=\"text-align: right;\">  0.8 </td></tr>\n",
       "<tr><td style=\"text-align: right;\">   0.85</td><td style=\"text-align: right;\"> 0.304569</td><td style=\"text-align: right;\">  1.7284 </td><td style=\"text-align: right;\"> 0.606061</td><td style=\"text-align: right;\"> 0.77665 </td><td style=\"text-align: right;\"> 1.46914 </td><td style=\"text-align: right;\"> 0.515152</td><td style=\"text-align: right;\">  2.55</td><td style=\"text-align: right;\">  0.85</td><td style=\"text-align: right;\">  0.85</td></tr>\n",
       "<tr><td style=\"text-align: right;\">   0.9 </td><td style=\"text-align: right;\"> 0.319149</td><td style=\"text-align: right;\">  1.89189</td><td style=\"text-align: right;\"> 0.625   </td><td style=\"text-align: right;\"> 0.861702</td><td style=\"text-align: right;\"> 1.7027  </td><td style=\"text-align: right;\"> 0.5625  </td><td style=\"text-align: right;\">  2.7 </td><td style=\"text-align: right;\">  0.9 </td><td style=\"text-align: right;\">  0.9 </td></tr>\n",
       "<tr><td style=\"text-align: right;\">   0.95</td><td style=\"text-align: right;\"> 0.335196</td><td style=\"text-align: right;\">  2.08955</td><td style=\"text-align: right;\"> 0.645161</td><td style=\"text-align: right;\"> 0.955307</td><td style=\"text-align: right;\"> 1.98507 </td><td style=\"text-align: right;\"> 0.612903</td><td style=\"text-align: right;\">  2.85</td><td style=\"text-align: right;\">  0.95</td><td style=\"text-align: right;\">  0.95</td></tr>\n",
       "<tr><td style=\"text-align: right;\">   1   </td><td style=\"text-align: right;\"> 0.352941</td><td style=\"text-align: right;\">  2.33333</td><td style=\"text-align: right;\"> 0.666667</td><td style=\"text-align: right;\"> 1.05882 </td><td style=\"text-align: right;\"> 2.33333 </td><td style=\"text-align: right;\"> 0.666667</td><td style=\"text-align: right;\">  3   </td><td style=\"text-align: right;\">  1   </td><td style=\"text-align: right;\">  1   </td></tr>\n",
       "<tr><td style=\"text-align: right;\">   1.05</td><td style=\"text-align: right;\"> 0.372671</td><td style=\"text-align: right;\">  2.64151</td><td style=\"text-align: right;\"> 0.689655</td><td style=\"text-align: right;\"> 1.17391 </td><td style=\"text-align: right;\"> 2.77358 </td><td style=\"text-align: right;\"> 0.724138</td><td style=\"text-align: right;\">  3.15</td><td style=\"text-align: right;\">  1.05</td><td style=\"text-align: right;\">  1.05</td></tr>\n",
       "<tr><td style=\"text-align: right;\">   1.1 </td><td style=\"text-align: right;\"> 0.394737</td><td style=\"text-align: right;\">  3.04348</td><td style=\"text-align: right;\"> 0.714286</td><td style=\"text-align: right;\"> 1.30263 </td><td style=\"text-align: right;\"> 3.34783 </td><td style=\"text-align: right;\"> 0.785714</td><td style=\"text-align: right;\">  3.3 </td><td style=\"text-align: right;\">  1.1 </td><td style=\"text-align: right;\">  1.1 </td></tr>\n",
       "<tr><td style=\"text-align: right;\">   1.15</td><td style=\"text-align: right;\"> 0.41958 </td><td style=\"text-align: right;\">  3.58974</td><td style=\"text-align: right;\"> 0.740741</td><td style=\"text-align: right;\"> 1.44755 </td><td style=\"text-align: right;\"> 4.12821 </td><td style=\"text-align: right;\"> 0.851852</td><td style=\"text-align: right;\">  3.45</td><td style=\"text-align: right;\">  1.15</td><td style=\"text-align: right;\">  1.15</td></tr>\n",
       "<tr><td style=\"text-align: right;\">   1.2 </td><td style=\"text-align: right;\"> 0.447761</td><td style=\"text-align: right;\">  4.375  </td><td style=\"text-align: right;\"> 0.769231</td><td style=\"text-align: right;\"> 1.61194 </td><td style=\"text-align: right;\"> 5.25    </td><td style=\"text-align: right;\"> 0.923077</td><td style=\"text-align: right;\">  3.6 </td><td style=\"text-align: right;\">  1.2 </td><td style=\"text-align: right;\">  1.2 </td></tr>\n",
       "<tr><td style=\"text-align: right;\">   1.25</td><td style=\"text-align: right;\"> 0.48    </td><td style=\"text-align: right;\">  5.6    </td><td style=\"text-align: right;\"> 0.8     </td><td style=\"text-align: right;\"> 1.8     </td><td style=\"text-align: right;\"> 7       </td><td style=\"text-align: right;\"> 1       </td><td style=\"text-align: right;\">  3.75</td><td style=\"text-align: right;\">  1.25</td><td style=\"text-align: right;\">  1.25</td></tr>\n",
       "<tr><td style=\"text-align: right;\">   1.3 </td><td style=\"text-align: right;\"> 0.517241</td><td style=\"text-align: right;\">  7.77778</td><td style=\"text-align: right;\"> 0.833333</td><td style=\"text-align: right;\"> 2.01724 </td><td style=\"text-align: right;\">10.1111  </td><td style=\"text-align: right;\"> 1.08333 </td><td style=\"text-align: right;\">  3.9 </td><td style=\"text-align: right;\">  1.3 </td><td style=\"text-align: right;\">  1.3 </td></tr>\n",
       "<tr><td style=\"text-align: right;\">   1.35</td><td style=\"text-align: right;\"> 0.560748</td><td style=\"text-align: right;\"> 12.7273 </td><td style=\"text-align: right;\"> 0.869565</td><td style=\"text-align: right;\"> 2.27103 </td><td style=\"text-align: right;\">17.1818  </td><td style=\"text-align: right;\"> 1.17391 </td><td style=\"text-align: right;\">  4.05</td><td style=\"text-align: right;\">  1.35</td><td style=\"text-align: right;\">  1.35</td></tr>\n",
       "<tr><td style=\"text-align: right;\">   1.4 </td><td style=\"text-align: right;\"> 0.612245</td><td style=\"text-align: right;\"> 35      </td><td style=\"text-align: right;\"> 0.909091</td><td style=\"text-align: right;\"> 2.57143 </td><td style=\"text-align: right;\">49       </td><td style=\"text-align: right;\"> 1.27273 </td><td style=\"text-align: right;\">  4.2 </td><td style=\"text-align: right;\">  1.4 </td><td style=\"text-align: right;\">  1.4 </td></tr>\n",
       "</tbody>\n",
       "</table>"
      ],
      "text/plain": [
       "'<table>\\n<thead>\\n<tr><th style=\"text-align: right;\">  gamma</th><th style=\"text-align: right;\">  E[T][A]</th><th style=\"text-align: right;\">  E[T][B]</th><th style=\"text-align: right;\">  E[T][P]</th><th style=\"text-align: right;\">  E[N][A]</th><th style=\"text-align: right;\">  E[N][B]</th><th style=\"text-align: right;\">  E[N][P]</th><th style=\"text-align: right;\">  X[A]</th><th style=\"text-align: right;\">  X[B]</th><th style=\"text-align: right;\">  X[P]</th></tr>\\n</thead>\\n<tbody>\\n<tr><td style=\"text-align: right;\">   0.5 </td><td style=\"text-align: right;\"> 0.230769</td><td style=\"text-align: right;\">  1.07692</td><td style=\"text-align: right;\"> 0.5     </td><td style=\"text-align: right;\"> 0.346154</td><td style=\"text-align: right;\"> 0.538462</td><td style=\"text-align: right;\"> 0.25    </td><td style=\"text-align: right;\">  1.5 </td><td style=\"text-align: right;\">  0.5 </td><td style=\"text-align: right;\">  0.5 </td></tr>\\n<tr><td style=\"text-align: right;\">   0.55</td><td style=\"text-align: right;\"> 0.239044</td><td style=\"text-align: right;\">  1.13821</td><td style=\"text-align: right;\"> 0.512821</td><td style=\"text-align: right;\"> 0.394422</td><td style=\"text-align: right;\"> 0.626016</td><td style=\"text-align: right;\"> 0.282051</td><td style=\"text-align: right;\">  1.65</td><td style=\"text-align: right;\">  0.55</td><td style=\"text-align: right;\">  0.55</td></tr>\\n<tr><td style=\"text-align: right;\">   0.6 </td><td style=\"text-align: right;\"> 0.247934</td><td style=\"text-align: right;\">  1.2069 </td><td style=\"text-align: right;\"> 0.526316</td><td style=\"text-align: right;\"> 0.446281</td><td style=\"text-align: right;\"> 0.724138</td><td style=\"text-align: right;\"> 0.315789</td><td style=\"text-align: right;\">  1.8 </td><td style=\"text-align: right;\">  0.6 </td><td style=\"text-align: right;\">  0.6 </td></tr>\\n<tr><td style=\"text-align: right;\">   0.65</td><td style=\"text-align: right;\"> 0.257511</td><td style=\"text-align: right;\">  1.2844 </td><td style=\"text-align: right;\"> 0.540541</td><td style=\"text-align: right;\"> 0.502146</td><td style=\"text-align: right;\"> 0.834862</td><td style=\"text-align: right;\"> 0.351351</td><td style=\"text-align: right;\">  1.95</td><td style=\"text-align: right;\">  0.65</td><td style=\"text-align: right;\">  0.65</td></tr>\\n<tr><td style=\"text-align: right;\">   0.7 </td><td style=\"text-align: right;\"> 0.267857</td><td style=\"text-align: right;\">  1.37255</td><td style=\"text-align: right;\"> 0.555556</td><td style=\"text-align: right;\"> 0.5625  </td><td style=\"text-align: right;\"> 0.960784</td><td style=\"text-align: right;\"> 0.388889</td><td style=\"text-align: right;\">  2.1 </td><td style=\"text-align: right;\">  0.7 </td><td style=\"text-align: right;\">  0.7 </td></tr>\\n<tr><td style=\"text-align: right;\">   0.75</td><td style=\"text-align: right;\"> 0.27907 </td><td style=\"text-align: right;\">  1.47368</td><td style=\"text-align: right;\"> 0.571429</td><td style=\"text-align: right;\"> 0.627907</td><td style=\"text-align: right;\"> 1.10526 </td><td style=\"text-align: right;\"> 0.428571</td><td style=\"text-align: right;\">  2.25</td><td style=\"text-align: right;\">  0.75</td><td style=\"text-align: right;\">  0.75</td></tr>\\n<tr><td style=\"text-align: right;\">   0.8 </td><td style=\"text-align: right;\"> 0.291262</td><td style=\"text-align: right;\">  1.59091</td><td style=\"text-align: right;\"> 0.588235</td><td style=\"text-align: right;\"> 0.699029</td><td style=\"text-align: right;\"> 1.27273 </td><td style=\"text-align: right;\"> 0.470588</td><td style=\"text-align: right;\">  2.4 </td><td style=\"text-align: right;\">  0.8 </td><td style=\"text-align: right;\">  0.8 </td></tr>\\n<tr><td style=\"text-align: right;\">   0.85</td><td style=\"text-align: right;\"> 0.304569</td><td style=\"text-align: right;\">  1.7284 </td><td style=\"text-align: right;\"> 0.606061</td><td style=\"text-align: right;\"> 0.77665 </td><td style=\"text-align: right;\"> 1.46914 </td><td style=\"text-align: right;\"> 0.515152</td><td style=\"text-align: right;\">  2.55</td><td style=\"text-align: right;\">  0.85</td><td style=\"text-align: right;\">  0.85</td></tr>\\n<tr><td style=\"text-align: right;\">   0.9 </td><td style=\"text-align: right;\"> 0.319149</td><td style=\"text-align: right;\">  1.89189</td><td style=\"text-align: right;\"> 0.625   </td><td style=\"text-align: right;\"> 0.861702</td><td style=\"text-align: right;\"> 1.7027  </td><td style=\"text-align: right;\"> 0.5625  </td><td style=\"text-align: right;\">  2.7 </td><td style=\"text-align: right;\">  0.9 </td><td style=\"text-align: right;\">  0.9 </td></tr>\\n<tr><td style=\"text-align: right;\">   0.95</td><td style=\"text-align: right;\"> 0.335196</td><td style=\"text-align: right;\">  2.08955</td><td style=\"text-align: right;\"> 0.645161</td><td style=\"text-align: right;\"> 0.955307</td><td style=\"text-align: right;\"> 1.98507 </td><td style=\"text-align: right;\"> 0.612903</td><td style=\"text-align: right;\">  2.85</td><td style=\"text-align: right;\">  0.95</td><td style=\"text-align: right;\">  0.95</td></tr>\\n<tr><td style=\"text-align: right;\">   1   </td><td style=\"text-align: right;\"> 0.352941</td><td style=\"text-align: right;\">  2.33333</td><td style=\"text-align: right;\"> 0.666667</td><td style=\"text-align: right;\"> 1.05882 </td><td style=\"text-align: right;\"> 2.33333 </td><td style=\"text-align: right;\"> 0.666667</td><td style=\"text-align: right;\">  3   </td><td style=\"text-align: right;\">  1   </td><td style=\"text-align: right;\">  1   </td></tr>\\n<tr><td style=\"text-align: right;\">   1.05</td><td style=\"text-align: right;\"> 0.372671</td><td style=\"text-align: right;\">  2.64151</td><td style=\"text-align: right;\"> 0.689655</td><td style=\"text-align: right;\"> 1.17391 </td><td style=\"text-align: right;\"> 2.77358 </td><td style=\"text-align: right;\"> 0.724138</td><td style=\"text-align: right;\">  3.15</td><td style=\"text-align: right;\">  1.05</td><td style=\"text-align: right;\">  1.05</td></tr>\\n<tr><td style=\"text-align: right;\">   1.1 </td><td style=\"text-align: right;\"> 0.394737</td><td style=\"text-align: right;\">  3.04348</td><td style=\"text-align: right;\"> 0.714286</td><td style=\"text-align: right;\"> 1.30263 </td><td style=\"text-align: right;\"> 3.34783 </td><td style=\"text-align: right;\"> 0.785714</td><td style=\"text-align: right;\">  3.3 </td><td style=\"text-align: right;\">  1.1 </td><td style=\"text-align: right;\">  1.1 </td></tr>\\n<tr><td style=\"text-align: right;\">   1.15</td><td style=\"text-align: right;\"> 0.41958 </td><td style=\"text-align: right;\">  3.58974</td><td style=\"text-align: right;\"> 0.740741</td><td style=\"text-align: right;\"> 1.44755 </td><td style=\"text-align: right;\"> 4.12821 </td><td style=\"text-align: right;\"> 0.851852</td><td style=\"text-align: right;\">  3.45</td><td style=\"text-align: right;\">  1.15</td><td style=\"text-align: right;\">  1.15</td></tr>\\n<tr><td style=\"text-align: right;\">   1.2 </td><td style=\"text-align: right;\"> 0.447761</td><td style=\"text-align: right;\">  4.375  </td><td style=\"text-align: right;\"> 0.769231</td><td style=\"text-align: right;\"> 1.61194 </td><td style=\"text-align: right;\"> 5.25    </td><td style=\"text-align: right;\"> 0.923077</td><td style=\"text-align: right;\">  3.6 </td><td style=\"text-align: right;\">  1.2 </td><td style=\"text-align: right;\">  1.2 </td></tr>\\n<tr><td style=\"text-align: right;\">   1.25</td><td style=\"text-align: right;\"> 0.48    </td><td style=\"text-align: right;\">  5.6    </td><td style=\"text-align: right;\"> 0.8     </td><td style=\"text-align: right;\"> 1.8     </td><td style=\"text-align: right;\"> 7       </td><td style=\"text-align: right;\"> 1       </td><td style=\"text-align: right;\">  3.75</td><td style=\"text-align: right;\">  1.25</td><td style=\"text-align: right;\">  1.25</td></tr>\\n<tr><td style=\"text-align: right;\">   1.3 </td><td style=\"text-align: right;\"> 0.517241</td><td style=\"text-align: right;\">  7.77778</td><td style=\"text-align: right;\"> 0.833333</td><td style=\"text-align: right;\"> 2.01724 </td><td style=\"text-align: right;\">10.1111  </td><td style=\"text-align: right;\"> 1.08333 </td><td style=\"text-align: right;\">  3.9 </td><td style=\"text-align: right;\">  1.3 </td><td style=\"text-align: right;\">  1.3 </td></tr>\\n<tr><td style=\"text-align: right;\">   1.35</td><td style=\"text-align: right;\"> 0.560748</td><td style=\"text-align: right;\"> 12.7273 </td><td style=\"text-align: right;\"> 0.869565</td><td style=\"text-align: right;\"> 2.27103 </td><td style=\"text-align: right;\">17.1818  </td><td style=\"text-align: right;\"> 1.17391 </td><td style=\"text-align: right;\">  4.05</td><td style=\"text-align: right;\">  1.35</td><td style=\"text-align: right;\">  1.35</td></tr>\\n<tr><td style=\"text-align: right;\">   1.4 </td><td style=\"text-align: right;\"> 0.612245</td><td style=\"text-align: right;\"> 35      </td><td style=\"text-align: right;\"> 0.909091</td><td style=\"text-align: right;\"> 2.57143 </td><td style=\"text-align: right;\">49       </td><td style=\"text-align: right;\"> 1.27273 </td><td style=\"text-align: right;\">  4.2 </td><td style=\"text-align: right;\">  1.4 </td><td style=\"text-align: right;\">  1.4 </td></tr>\\n</tbody>\\n</table>'"
      ]
     },
     "metadata": {},
     "output_type": "display_data"
    },
    {
     "data": {
      "text/plain": [
       "'----------------------------------'"
      ]
     },
     "metadata": {},
     "output_type": "display_data"
    },
    {
     "data": {
      "image/png": "[encoded data removed]",
      "text/latex": [
       "$\\displaystyle E[T] = \\sum_{s=A}^{P} {E[T]}_{s} {v}_{s}$"
      ],
      "text/plain": [
       "         P               \n",
       "        ___              \n",
       "        ╲                \n",
       "         ╲               \n",
       "E[T] =   ╱   E[T][s]⋅v[s]\n",
       "        ╱                \n",
       "        ‾‾‾              \n",
       "       s = A             "
      ]
     },
     "metadata": {},
     "output_type": "display_data"
    },
    {
     "data": {
      "image/png": "[encoded data removed]",
      "text/latex": [
       "$\\displaystyle E[N] = \\gamma E[T]$"
      ],
      "text/plain": [
       "E[N] = γ⋅E[T]"
      ]
     },
     "metadata": {},
     "output_type": "display_data"
    },
    {
     "data": {
      "image/png": "[encoded data removed]",
      "text/latex": [
       "$\\displaystyle X = {X}_{A} {p}_{A,3}$"
      ],
      "text/plain": [
       "X = X[A]⋅p[A, 3]"
      ]
     },
     "metadata": {},
     "output_type": "display_data"
    },
    {
     "data": {
      "text/html": [
       "<table>\n",
       "<thead>\n",
       "<tr><th style=\"text-align: right;\">  gamma</th><th style=\"text-align: right;\">  E[T][S]</th><th style=\"text-align: right;\">  E[N][S]</th><th style=\"text-align: right;\">  X[S]</th></tr>\n",
       "</thead>\n",
       "<tbody>\n",
       "<tr><td style=\"text-align: right;\">   0.5 </td><td style=\"text-align: right;\">  2.26923</td><td style=\"text-align: right;\">  1.13462</td><td style=\"text-align: right;\">  0.5 </td></tr>\n",
       "<tr><td style=\"text-align: right;\">   0.55</td><td style=\"text-align: right;\">  2.36816</td><td style=\"text-align: right;\">  1.30249</td><td style=\"text-align: right;\">  0.55</td></tr>\n",
       "<tr><td style=\"text-align: right;\">   0.6 </td><td style=\"text-align: right;\">  2.47701</td><td style=\"text-align: right;\">  1.48621</td><td style=\"text-align: right;\">  0.6 </td></tr>\n",
       "<tr><td style=\"text-align: right;\">   0.65</td><td style=\"text-align: right;\">  2.59748</td><td style=\"text-align: right;\">  1.68836</td><td style=\"text-align: right;\">  0.65</td></tr>\n",
       "<tr><td style=\"text-align: right;\">   0.7 </td><td style=\"text-align: right;\">  2.73168</td><td style=\"text-align: right;\">  1.91217</td><td style=\"text-align: right;\">  0.7 </td></tr>\n",
       "<tr><td style=\"text-align: right;\">   0.75</td><td style=\"text-align: right;\">  2.88232</td><td style=\"text-align: right;\">  2.16174</td><td style=\"text-align: right;\">  0.75</td></tr>\n",
       "<tr><td style=\"text-align: right;\">   0.8 </td><td style=\"text-align: right;\">  3.05293</td><td style=\"text-align: right;\">  2.44234</td><td style=\"text-align: right;\">  0.8 </td></tr>\n",
       "<tr><td style=\"text-align: right;\">   0.85</td><td style=\"text-align: right;\">  3.24816</td><td style=\"text-align: right;\">  2.76094</td><td style=\"text-align: right;\">  0.85</td></tr>\n",
       "<tr><td style=\"text-align: right;\">   0.9 </td><td style=\"text-align: right;\">  3.47434</td><td style=\"text-align: right;\">  3.1269 </td><td style=\"text-align: right;\">  0.9 </td></tr>\n",
       "<tr><td style=\"text-align: right;\">   0.95</td><td style=\"text-align: right;\">  3.7403 </td><td style=\"text-align: right;\">  3.55329</td><td style=\"text-align: right;\">  0.95</td></tr>\n",
       "<tr><td style=\"text-align: right;\">   1   </td><td style=\"text-align: right;\">  4.05882</td><td style=\"text-align: right;\">  4.05882</td><td style=\"text-align: right;\">  1   </td></tr>\n",
       "<tr><td style=\"text-align: right;\">   1.05</td><td style=\"text-align: right;\">  4.44918</td><td style=\"text-align: right;\">  4.67164</td><td style=\"text-align: right;\">  1.05</td></tr>\n",
       "<tr><td style=\"text-align: right;\">   1.1 </td><td style=\"text-align: right;\">  4.94197</td><td style=\"text-align: right;\">  5.43617</td><td style=\"text-align: right;\">  1.1 </td></tr>\n",
       "<tr><td style=\"text-align: right;\">   1.15</td><td style=\"text-align: right;\">  5.58923</td><td style=\"text-align: right;\">  6.42761</td><td style=\"text-align: right;\">  1.15</td></tr>\n",
       "<tr><td style=\"text-align: right;\">   1.2 </td><td style=\"text-align: right;\">  6.48751</td><td style=\"text-align: right;\">  7.78502</td><td style=\"text-align: right;\">  1.2 </td></tr>\n",
       "<tr><td style=\"text-align: right;\">   1.25</td><td style=\"text-align: right;\">  7.84   </td><td style=\"text-align: right;\">  9.8    </td><td style=\"text-align: right;\">  1.25</td></tr>\n",
       "<tr><td style=\"text-align: right;\">   1.3 </td><td style=\"text-align: right;\"> 10.1628 </td><td style=\"text-align: right;\"> 13.2117 </td><td style=\"text-align: right;\">  1.3 </td></tr>\n",
       "<tr><td style=\"text-align: right;\">   1.35</td><td style=\"text-align: right;\"> 15.2791 </td><td style=\"text-align: right;\"> 20.6268 </td><td style=\"text-align: right;\">  1.35</td></tr>\n",
       "<tr><td style=\"text-align: right;\">   1.4 </td><td style=\"text-align: right;\"> 37.7458 </td><td style=\"text-align: right;\"> 52.8442 </td><td style=\"text-align: right;\">  1.4 </td></tr>\n",
       "</tbody>\n",
       "</table>"
      ],
      "text/plain": [
       "'<table>\\n<thead>\\n<tr><th style=\"text-align: right;\">  gamma</th><th style=\"text-align: right;\">  E[T][S]</th><th style=\"text-align: right;\">  E[N][S]</th><th style=\"text-align: right;\">  X[S]</th></tr>\\n</thead>\\n<tbody>\\n<tr><td style=\"text-align: right;\">   0.5 </td><td style=\"text-align: right;\">  2.26923</td><td style=\"text-align: right;\">  1.13462</td><td style=\"text-align: right;\">  0.5 </td></tr>\\n<tr><td style=\"text-align: right;\">   0.55</td><td style=\"text-align: right;\">  2.36816</td><td style=\"text-align: right;\">  1.30249</td><td style=\"text-align: right;\">  0.55</td></tr>\\n<tr><td style=\"text-align: right;\">   0.6 </td><td style=\"text-align: right;\">  2.47701</td><td style=\"text-align: right;\">  1.48621</td><td style=\"text-align: right;\">  0.6 </td></tr>\\n<tr><td style=\"text-align: right;\">   0.65</td><td style=\"text-align: right;\">  2.59748</td><td style=\"text-align: right;\">  1.68836</td><td style=\"text-align: right;\">  0.65</td></tr>\\n<tr><td style=\"text-align: right;\">   0.7 </td><td style=\"text-align: right;\">  2.73168</td><td style=\"text-align: right;\">  1.91217</td><td style=\"text-align: right;\">  0.7 </td></tr>\\n<tr><td style=\"text-align: right;\">   0.75</td><td style=\"text-align: right;\">  2.88232</td><td style=\"text-align: right;\">  2.16174</td><td style=\"text-align: right;\">  0.75</td></tr>\\n<tr><td style=\"text-align: right;\">   0.8 </td><td style=\"text-align: right;\">  3.05293</td><td style=\"text-align: right;\">  2.44234</td><td style=\"text-align: right;\">  0.8 </td></tr>\\n<tr><td style=\"text-align: right;\">   0.85</td><td style=\"text-align: right;\">  3.24816</td><td style=\"text-align: right;\">  2.76094</td><td style=\"text-align: right;\">  0.85</td></tr>\\n<tr><td style=\"text-align: right;\">   0.9 </td><td style=\"text-align: right;\">  3.47434</td><td style=\"text-align: right;\">  3.1269 </td><td style=\"text-align: right;\">  0.9 </td></tr>\\n<tr><td style=\"text-align: right;\">   0.95</td><td style=\"text-align: right;\">  3.7403 </td><td style=\"text-align: right;\">  3.55329</td><td style=\"text-align: right;\">  0.95</td></tr>\\n<tr><td style=\"text-align: right;\">   1   </td><td style=\"text-align: right;\">  4.05882</td><td style=\"text-align: right;\">  4.05882</td><td style=\"text-align: right;\">  1   </td></tr>\\n<tr><td style=\"text-align: right;\">   1.05</td><td style=\"text-align: right;\">  4.44918</td><td style=\"text-align: right;\">  4.67164</td><td style=\"text-align: right;\">  1.05</td></tr>\\n<tr><td style=\"text-align: right;\">   1.1 </td><td style=\"text-align: right;\">  4.94197</td><td style=\"text-align: right;\">  5.43617</td><td style=\"text-align: right;\">  1.1 </td></tr>\\n<tr><td style=\"text-align: right;\">   1.15</td><td style=\"text-align: right;\">  5.58923</td><td style=\"text-align: right;\">  6.42761</td><td style=\"text-align: right;\">  1.15</td></tr>\\n<tr><td style=\"text-align: right;\">   1.2 </td><td style=\"text-align: right;\">  6.48751</td><td style=\"text-align: right;\">  7.78502</td><td style=\"text-align: right;\">  1.2 </td></tr>\\n<tr><td style=\"text-align: right;\">   1.25</td><td style=\"text-align: right;\">  7.84   </td><td style=\"text-align: right;\">  9.8    </td><td style=\"text-align: right;\">  1.25</td></tr>\\n<tr><td style=\"text-align: right;\">   1.3 </td><td style=\"text-align: right;\"> 10.1628 </td><td style=\"text-align: right;\"> 13.2117 </td><td style=\"text-align: right;\">  1.3 </td></tr>\\n<tr><td style=\"text-align: right;\">   1.35</td><td style=\"text-align: right;\"> 15.2791 </td><td style=\"text-align: right;\"> 20.6268 </td><td style=\"text-align: right;\">  1.35</td></tr>\\n<tr><td style=\"text-align: right;\">   1.4 </td><td style=\"text-align: right;\"> 37.7458 </td><td style=\"text-align: right;\"> 52.8442 </td><td style=\"text-align: right;\">  1.4 </td></tr>\\n</tbody>\\n</table>'"
      ]
     },
     "metadata": {},
     "output_type": "display_data"
    },
    {
     "data": {
      "image/png": "[encoded data removed]",
      "text/latex": [
       "$\\displaystyle {\\mu}_{s} = \\sum_{c=1}^{3} {\\mu}_{s,c} {p}_{s,c}$"
      ],
      "text/plain": [
       "          3                   \n",
       "         ___                  \n",
       "         ╲                    \n",
       "          ╲                   \n",
       "mu[s] =   ╱   mu[s, c]⋅p[s, c]\n",
       "         ╱                    \n",
       "         ‾‾‾                  \n",
       "        c = 1                 "
      ]
     },
     "metadata": {},
     "output_type": "display_data"
    },
    {
     "data": {
      "text/plain": [
       "'----------------------------------'"
      ]
     },
     "metadata": {},
     "output_type": "display_data"
    },
    {
     "data": {
      "image/png": "[encoded data removed]",
      "text/latex": [
       "$\\displaystyle {\\mu}_{A} = 5.83333333333333$"
      ],
      "text/plain": [
       "mu[A] = 5.83333333333333"
      ]
     },
     "metadata": {},
     "output_type": "display_data"
    },
    {
     "data": {
      "image/png": "[encoded data removed]",
      "text/latex": [
       "$\\displaystyle {\\mu}_{B} = 1.66666666666667$"
      ],
      "text/plain": [
       "mu[B] = 1.66666666666667"
      ]
     },
     "metadata": {},
     "output_type": "display_data"
    },
    {
     "data": {
      "image/png": "[encoded data removed]",
      "text/latex": [
       "$\\displaystyle {\\mu}_{P} = 2.5$"
      ],
      "text/plain": [
       "mu[P] = 2.5"
      ]
     },
     "metadata": {},
     "output_type": "display_data"
    },
    {
     "data": {
      "text/plain": [
       "'----------------------------------'"
      ]
     },
     "metadata": {},
     "output_type": "display_data"
    },
    {
     "data": {
      "text/html": [
       "<table>\n",
       "<thead>\n",
       "<tr><th style=\"text-align: right;\">  gamma</th><th style=\"text-align: right;\">  rho[A]</th><th style=\"text-align: right;\">  rho[B]</th><th style=\"text-align: right;\">  rho[P]</th><th>stable  </th></tr>\n",
       "</thead>\n",
       "<tbody>\n",
       "<tr><td style=\"text-align: right;\">   0.5 </td><td style=\"text-align: right;\">0.257143</td><td style=\"text-align: right;\">    0.3 </td><td style=\"text-align: right;\">    0.2 </td><td>True    </td></tr>\n",
       "<tr><td style=\"text-align: right;\">   0.55</td><td style=\"text-align: right;\">0.282857</td><td style=\"text-align: right;\">    0.33</td><td style=\"text-align: right;\">    0.22</td><td>True    </td></tr>\n",
       "<tr><td style=\"text-align: right;\">   0.6 </td><td style=\"text-align: right;\">0.308571</td><td style=\"text-align: right;\">    0.36</td><td style=\"text-align: right;\">    0.24</td><td>True    </td></tr>\n",
       "<tr><td style=\"text-align: right;\">   0.65</td><td style=\"text-align: right;\">0.334286</td><td style=\"text-align: right;\">    0.39</td><td style=\"text-align: right;\">    0.26</td><td>True    </td></tr>\n",
       "<tr><td style=\"text-align: right;\">   0.7 </td><td style=\"text-align: right;\">0.36    </td><td style=\"text-align: right;\">    0.42</td><td style=\"text-align: right;\">    0.28</td><td>True    </td></tr>\n",
       "<tr><td style=\"text-align: right;\">   0.75</td><td style=\"text-align: right;\">0.385714</td><td style=\"text-align: right;\">    0.45</td><td style=\"text-align: right;\">    0.3 </td><td>True    </td></tr>\n",
       "<tr><td style=\"text-align: right;\">   0.8 </td><td style=\"text-align: right;\">0.411429</td><td style=\"text-align: right;\">    0.48</td><td style=\"text-align: right;\">    0.32</td><td>True    </td></tr>\n",
       "<tr><td style=\"text-align: right;\">   0.85</td><td style=\"text-align: right;\">0.437143</td><td style=\"text-align: right;\">    0.51</td><td style=\"text-align: right;\">    0.34</td><td>True    </td></tr>\n",
       "<tr><td style=\"text-align: right;\">   0.9 </td><td style=\"text-align: right;\">0.462857</td><td style=\"text-align: right;\">    0.54</td><td style=\"text-align: right;\">    0.36</td><td>True    </td></tr>\n",
       "<tr><td style=\"text-align: right;\">   0.95</td><td style=\"text-align: right;\">0.488571</td><td style=\"text-align: right;\">    0.57</td><td style=\"text-align: right;\">    0.38</td><td>True    </td></tr>\n",
       "<tr><td style=\"text-align: right;\">   1   </td><td style=\"text-align: right;\">0.514286</td><td style=\"text-align: right;\">    0.6 </td><td style=\"text-align: right;\">    0.4 </td><td>True    </td></tr>\n",
       "<tr><td style=\"text-align: right;\">   1.05</td><td style=\"text-align: right;\">0.54    </td><td style=\"text-align: right;\">    0.63</td><td style=\"text-align: right;\">    0.42</td><td>True    </td></tr>\n",
       "<tr><td style=\"text-align: right;\">   1.1 </td><td style=\"text-align: right;\">0.565714</td><td style=\"text-align: right;\">    0.66</td><td style=\"text-align: right;\">    0.44</td><td>True    </td></tr>\n",
       "<tr><td style=\"text-align: right;\">   1.15</td><td style=\"text-align: right;\">0.591429</td><td style=\"text-align: right;\">    0.69</td><td style=\"text-align: right;\">    0.46</td><td>True    </td></tr>\n",
       "<tr><td style=\"text-align: right;\">   1.2 </td><td style=\"text-align: right;\">0.617143</td><td style=\"text-align: right;\">    0.72</td><td style=\"text-align: right;\">    0.48</td><td>True    </td></tr>\n",
       "<tr><td style=\"text-align: right;\">   1.25</td><td style=\"text-align: right;\">0.642857</td><td style=\"text-align: right;\">    0.75</td><td style=\"text-align: right;\">    0.5 </td><td>True    </td></tr>\n",
       "<tr><td style=\"text-align: right;\">   1.3 </td><td style=\"text-align: right;\">0.668571</td><td style=\"text-align: right;\">    0.78</td><td style=\"text-align: right;\">    0.52</td><td>True    </td></tr>\n",
       "<tr><td style=\"text-align: right;\">   1.35</td><td style=\"text-align: right;\">0.694286</td><td style=\"text-align: right;\">    0.81</td><td style=\"text-align: right;\">    0.54</td><td>True    </td></tr>\n",
       "<tr><td style=\"text-align: right;\">   1.4 </td><td style=\"text-align: right;\">0.72    </td><td style=\"text-align: right;\">    0.84</td><td style=\"text-align: right;\">    0.56</td><td>True    </td></tr>\n",
       "</tbody>\n",
       "</table>"
      ],
      "text/plain": [
       "'<table>\\n<thead>\\n<tr><th style=\"text-align: right;\">  gamma</th><th style=\"text-align: right;\">  rho[A]</th><th style=\"text-align: right;\">  rho[B]</th><th style=\"text-align: right;\">  rho[P]</th><th>stable  </th></tr>\\n</thead>\\n<tbody>\\n<tr><td style=\"text-align: right;\">   0.5 </td><td style=\"text-align: right;\">0.257143</td><td style=\"text-align: right;\">    0.3 </td><td style=\"text-align: right;\">    0.2 </td><td>True    </td></tr>\\n<tr><td style=\"text-align: right;\">   0.55</td><td style=\"text-align: right;\">0.282857</td><td style=\"text-align: right;\">    0.33</td><td style=\"text-align: right;\">    0.22</td><td>True    </td></tr>\\n<tr><td style=\"text-align: right;\">   0.6 </td><td style=\"text-align: right;\">0.308571</td><td style=\"text-align: right;\">    0.36</td><td style=\"text-align: right;\">    0.24</td><td>True    </td></tr>\\n<tr><td style=\"text-align: right;\">   0.65</td><td style=\"text-align: right;\">0.334286</td><td style=\"text-align: right;\">    0.39</td><td style=\"text-align: right;\">    0.26</td><td>True    </td></tr>\\n<tr><td style=\"text-align: right;\">   0.7 </td><td style=\"text-align: right;\">0.36    </td><td style=\"text-align: right;\">    0.42</td><td style=\"text-align: right;\">    0.28</td><td>True    </td></tr>\\n<tr><td style=\"text-align: right;\">   0.75</td><td style=\"text-align: right;\">0.385714</td><td style=\"text-align: right;\">    0.45</td><td style=\"text-align: right;\">    0.3 </td><td>True    </td></tr>\\n<tr><td style=\"text-align: right;\">   0.8 </td><td style=\"text-align: right;\">0.411429</td><td style=\"text-align: right;\">    0.48</td><td style=\"text-align: right;\">    0.32</td><td>True    </td></tr>\\n<tr><td style=\"text-align: right;\">   0.85</td><td style=\"text-align: right;\">0.437143</td><td style=\"text-align: right;\">    0.51</td><td style=\"text-align: right;\">    0.34</td><td>True    </td></tr>\\n<tr><td style=\"text-align: right;\">   0.9 </td><td style=\"text-align: right;\">0.462857</td><td style=\"text-align: right;\">    0.54</td><td style=\"text-align: right;\">    0.36</td><td>True    </td></tr>\\n<tr><td style=\"text-align: right;\">   0.95</td><td style=\"text-align: right;\">0.488571</td><td style=\"text-align: right;\">    0.57</td><td style=\"text-align: right;\">    0.38</td><td>True    </td></tr>\\n<tr><td style=\"text-align: right;\">   1   </td><td style=\"text-align: right;\">0.514286</td><td style=\"text-align: right;\">    0.6 </td><td style=\"text-align: right;\">    0.4 </td><td>True    </td></tr>\\n<tr><td style=\"text-align: right;\">   1.05</td><td style=\"text-align: right;\">0.54    </td><td style=\"text-align: right;\">    0.63</td><td style=\"text-align: right;\">    0.42</td><td>True    </td></tr>\\n<tr><td style=\"text-align: right;\">   1.1 </td><td style=\"text-align: right;\">0.565714</td><td style=\"text-align: right;\">    0.66</td><td style=\"text-align: right;\">    0.44</td><td>True    </td></tr>\\n<tr><td style=\"text-align: right;\">   1.15</td><td style=\"text-align: right;\">0.591429</td><td style=\"text-align: right;\">    0.69</td><td style=\"text-align: right;\">    0.46</td><td>True    </td></tr>\\n<tr><td style=\"text-align: right;\">   1.2 </td><td style=\"text-align: right;\">0.617143</td><td style=\"text-align: right;\">    0.72</td><td style=\"text-align: right;\">    0.48</td><td>True    </td></tr>\\n<tr><td style=\"text-align: right;\">   1.25</td><td style=\"text-align: right;\">0.642857</td><td style=\"text-align: right;\">    0.75</td><td style=\"text-align: right;\">    0.5 </td><td>True    </td></tr>\\n<tr><td style=\"text-align: right;\">   1.3 </td><td style=\"text-align: right;\">0.668571</td><td style=\"text-align: right;\">    0.78</td><td style=\"text-align: right;\">    0.52</td><td>True    </td></tr>\\n<tr><td style=\"text-align: right;\">   1.35</td><td style=\"text-align: right;\">0.694286</td><td style=\"text-align: right;\">    0.81</td><td style=\"text-align: right;\">    0.54</td><td>True    </td></tr>\\n<tr><td style=\"text-align: right;\">   1.4 </td><td style=\"text-align: right;\">0.72    </td><td style=\"text-align: right;\">    0.84</td><td style=\"text-align: right;\">    0.56</td><td>True    </td></tr>\\n</tbody>\\n</table>'"
      ]
     },
     "metadata": {},
     "output_type": "display_data"
    },
    {
     "data": {
      "text/plain": [
       "'----------------------------------'"
      ]
     },
     "metadata": {},
     "output_type": "display_data"
    },
    {
     "data": {
      "image/png": "[encoded data removed]",
      "text/latex": [
       "$\\displaystyle {E[T]}_{s} = \\frac{1}{\\left(1 - {\\rho}_{s}\\right) {\\mu}_{s}}$"
      ],
      "text/plain": [
       "                  1         \n",
       "E[T][s] = ──────────────────\n",
       "          (1 - rho[s])⋅mu[s]"
      ]
     },
     "metadata": {},
     "output_type": "display_data"
    },
    {
     "data": {
      "image/png": "[encoded data removed]",
      "text/latex": [
       "$\\displaystyle {E[N]}_{s} = {E[T]}_{s} {\\lambda}_{s}$"
      ],
      "text/plain": [
       "E[N][s] = E[T][s]⋅lambda[s]"
      ]
     },
     "metadata": {},
     "output_type": "display_data"
    },
    {
     "data": {
      "image/png": "[encoded data removed]",
      "text/latex": [
       "$\\displaystyle \\left\\{ {X}_{A} : 3 \\gamma, \\  {X}_{B} : \\gamma, \\  {X}_{P} : \\gamma\\right\\}$"
      ],
      "text/plain": [
       "{X[A]: 3⋅γ, X[B]: γ, X[P]: γ}"
      ]
     },
     "metadata": {},
     "output_type": "display_data"
    },
    {
     "data": {
      "text/html": [
       "<table>\n",
       "<thead>\n",
       "<tr><th style=\"text-align: right;\">  gamma</th><th style=\"text-align: right;\">  E[T][A]</th><th style=\"text-align: right;\">  E[T][B]</th><th style=\"text-align: right;\">  E[T][P]</th><th style=\"text-align: right;\">  E[N][A]</th><th style=\"text-align: right;\">  E[N][B]</th><th style=\"text-align: right;\">  E[N][P]</th><th style=\"text-align: right;\">  X[A]</th><th style=\"text-align: right;\">  X[B]</th><th style=\"text-align: right;\">  X[P]</th></tr>\n",
       "</thead>\n",
       "<tbody>\n",
       "<tr><td style=\"text-align: right;\">   0.5 </td><td style=\"text-align: right;\"> 0.230769</td><td style=\"text-align: right;\"> 0.857143</td><td style=\"text-align: right;\"> 0.5     </td><td style=\"text-align: right;\"> 0.346154</td><td style=\"text-align: right;\"> 0.428571</td><td style=\"text-align: right;\"> 0.25    </td><td style=\"text-align: right;\">  1.5 </td><td style=\"text-align: right;\">  0.5 </td><td style=\"text-align: right;\">  0.5 </td></tr>\n",
       "<tr><td style=\"text-align: right;\">   0.55</td><td style=\"text-align: right;\"> 0.239044</td><td style=\"text-align: right;\"> 0.895522</td><td style=\"text-align: right;\"> 0.512821</td><td style=\"text-align: right;\"> 0.394422</td><td style=\"text-align: right;\"> 0.492537</td><td style=\"text-align: right;\"> 0.282051</td><td style=\"text-align: right;\">  1.65</td><td style=\"text-align: right;\">  0.55</td><td style=\"text-align: right;\">  0.55</td></tr>\n",
       "<tr><td style=\"text-align: right;\">   0.6 </td><td style=\"text-align: right;\"> 0.247934</td><td style=\"text-align: right;\"> 0.9375  </td><td style=\"text-align: right;\"> 0.526316</td><td style=\"text-align: right;\"> 0.446281</td><td style=\"text-align: right;\"> 0.5625  </td><td style=\"text-align: right;\"> 0.315789</td><td style=\"text-align: right;\">  1.8 </td><td style=\"text-align: right;\">  0.6 </td><td style=\"text-align: right;\">  0.6 </td></tr>\n",
       "<tr><td style=\"text-align: right;\">   0.65</td><td style=\"text-align: right;\"> 0.257511</td><td style=\"text-align: right;\"> 0.983607</td><td style=\"text-align: right;\"> 0.540541</td><td style=\"text-align: right;\"> 0.502146</td><td style=\"text-align: right;\"> 0.639344</td><td style=\"text-align: right;\"> 0.351351</td><td style=\"text-align: right;\">  1.95</td><td style=\"text-align: right;\">  0.65</td><td style=\"text-align: right;\">  0.65</td></tr>\n",
       "<tr><td style=\"text-align: right;\">   0.7 </td><td style=\"text-align: right;\"> 0.267857</td><td style=\"text-align: right;\"> 1.03448 </td><td style=\"text-align: right;\"> 0.555556</td><td style=\"text-align: right;\"> 0.5625  </td><td style=\"text-align: right;\"> 0.724138</td><td style=\"text-align: right;\"> 0.388889</td><td style=\"text-align: right;\">  2.1 </td><td style=\"text-align: right;\">  0.7 </td><td style=\"text-align: right;\">  0.7 </td></tr>\n",
       "<tr><td style=\"text-align: right;\">   0.75</td><td style=\"text-align: right;\"> 0.27907 </td><td style=\"text-align: right;\"> 1.09091 </td><td style=\"text-align: right;\"> 0.571429</td><td style=\"text-align: right;\"> 0.627907</td><td style=\"text-align: right;\"> 0.818182</td><td style=\"text-align: right;\"> 0.428571</td><td style=\"text-align: right;\">  2.25</td><td style=\"text-align: right;\">  0.75</td><td style=\"text-align: right;\">  0.75</td></tr>\n",
       "<tr><td style=\"text-align: right;\">   0.8 </td><td style=\"text-align: right;\"> 0.291262</td><td style=\"text-align: right;\"> 1.15385 </td><td style=\"text-align: right;\"> 0.588235</td><td style=\"text-align: right;\"> 0.699029</td><td style=\"text-align: right;\"> 0.923077</td><td style=\"text-align: right;\"> 0.470588</td><td style=\"text-align: right;\">  2.4 </td><td style=\"text-align: right;\">  0.8 </td><td style=\"text-align: right;\">  0.8 </td></tr>\n",
       "<tr><td style=\"text-align: right;\">   0.85</td><td style=\"text-align: right;\"> 0.304569</td><td style=\"text-align: right;\"> 1.22449 </td><td style=\"text-align: right;\"> 0.606061</td><td style=\"text-align: right;\"> 0.77665 </td><td style=\"text-align: right;\"> 1.04082 </td><td style=\"text-align: right;\"> 0.515152</td><td style=\"text-align: right;\">  2.55</td><td style=\"text-align: right;\">  0.85</td><td style=\"text-align: right;\">  0.85</td></tr>\n",
       "<tr><td style=\"text-align: right;\">   0.9 </td><td style=\"text-align: right;\"> 0.319149</td><td style=\"text-align: right;\"> 1.30435 </td><td style=\"text-align: right;\"> 0.625   </td><td style=\"text-align: right;\"> 0.861702</td><td style=\"text-align: right;\"> 1.17391 </td><td style=\"text-align: right;\"> 0.5625  </td><td style=\"text-align: right;\">  2.7 </td><td style=\"text-align: right;\">  0.9 </td><td style=\"text-align: right;\">  0.9 </td></tr>\n",
       "<tr><td style=\"text-align: right;\">   0.95</td><td style=\"text-align: right;\"> 0.335196</td><td style=\"text-align: right;\"> 1.39535 </td><td style=\"text-align: right;\"> 0.645161</td><td style=\"text-align: right;\"> 0.955307</td><td style=\"text-align: right;\"> 1.32558 </td><td style=\"text-align: right;\"> 0.612903</td><td style=\"text-align: right;\">  2.85</td><td style=\"text-align: right;\">  0.95</td><td style=\"text-align: right;\">  0.95</td></tr>\n",
       "<tr><td style=\"text-align: right;\">   1   </td><td style=\"text-align: right;\"> 0.352941</td><td style=\"text-align: right;\"> 1.5     </td><td style=\"text-align: right;\"> 0.666667</td><td style=\"text-align: right;\"> 1.05882 </td><td style=\"text-align: right;\"> 1.5     </td><td style=\"text-align: right;\"> 0.666667</td><td style=\"text-align: right;\">  3   </td><td style=\"text-align: right;\">  1   </td><td style=\"text-align: right;\">  1   </td></tr>\n",
       "<tr><td style=\"text-align: right;\">   1.05</td><td style=\"text-align: right;\"> 0.372671</td><td style=\"text-align: right;\"> 1.62162 </td><td style=\"text-align: right;\"> 0.689655</td><td style=\"text-align: right;\"> 1.17391 </td><td style=\"text-align: right;\"> 1.7027  </td><td style=\"text-align: right;\"> 0.724138</td><td style=\"text-align: right;\">  3.15</td><td style=\"text-align: right;\">  1.05</td><td style=\"text-align: right;\">  1.05</td></tr>\n",
       "<tr><td style=\"text-align: right;\">   1.1 </td><td style=\"text-align: right;\"> 0.394737</td><td style=\"text-align: right;\"> 1.76471 </td><td style=\"text-align: right;\"> 0.714286</td><td style=\"text-align: right;\"> 1.30263 </td><td style=\"text-align: right;\"> 1.94118 </td><td style=\"text-align: right;\"> 0.785714</td><td style=\"text-align: right;\">  3.3 </td><td style=\"text-align: right;\">  1.1 </td><td style=\"text-align: right;\">  1.1 </td></tr>\n",
       "<tr><td style=\"text-align: right;\">   1.15</td><td style=\"text-align: right;\"> 0.41958 </td><td style=\"text-align: right;\"> 1.93548 </td><td style=\"text-align: right;\"> 0.740741</td><td style=\"text-align: right;\"> 1.44755 </td><td style=\"text-align: right;\"> 2.22581 </td><td style=\"text-align: right;\"> 0.851852</td><td style=\"text-align: right;\">  3.45</td><td style=\"text-align: right;\">  1.15</td><td style=\"text-align: right;\">  1.15</td></tr>\n",
       "<tr><td style=\"text-align: right;\">   1.2 </td><td style=\"text-align: right;\"> 0.447761</td><td style=\"text-align: right;\"> 2.14286 </td><td style=\"text-align: right;\"> 0.769231</td><td style=\"text-align: right;\"> 1.61194 </td><td style=\"text-align: right;\"> 2.57143 </td><td style=\"text-align: right;\"> 0.923077</td><td style=\"text-align: right;\">  3.6 </td><td style=\"text-align: right;\">  1.2 </td><td style=\"text-align: right;\">  1.2 </td></tr>\n",
       "<tr><td style=\"text-align: right;\">   1.25</td><td style=\"text-align: right;\"> 0.48    </td><td style=\"text-align: right;\"> 2.4     </td><td style=\"text-align: right;\"> 0.8     </td><td style=\"text-align: right;\"> 1.8     </td><td style=\"text-align: right;\"> 3       </td><td style=\"text-align: right;\"> 1       </td><td style=\"text-align: right;\">  3.75</td><td style=\"text-align: right;\">  1.25</td><td style=\"text-align: right;\">  1.25</td></tr>\n",
       "<tr><td style=\"text-align: right;\">   1.3 </td><td style=\"text-align: right;\"> 0.517241</td><td style=\"text-align: right;\"> 2.72727 </td><td style=\"text-align: right;\"> 0.833333</td><td style=\"text-align: right;\"> 2.01724 </td><td style=\"text-align: right;\"> 3.54545 </td><td style=\"text-align: right;\"> 1.08333 </td><td style=\"text-align: right;\">  3.9 </td><td style=\"text-align: right;\">  1.3 </td><td style=\"text-align: right;\">  1.3 </td></tr>\n",
       "<tr><td style=\"text-align: right;\">   1.35</td><td style=\"text-align: right;\"> 0.560748</td><td style=\"text-align: right;\"> 3.15789 </td><td style=\"text-align: right;\"> 0.869565</td><td style=\"text-align: right;\"> 2.27103 </td><td style=\"text-align: right;\"> 4.26316 </td><td style=\"text-align: right;\"> 1.17391 </td><td style=\"text-align: right;\">  4.05</td><td style=\"text-align: right;\">  1.35</td><td style=\"text-align: right;\">  1.35</td></tr>\n",
       "<tr><td style=\"text-align: right;\">   1.4 </td><td style=\"text-align: right;\"> 0.612245</td><td style=\"text-align: right;\"> 3.75    </td><td style=\"text-align: right;\"> 0.909091</td><td style=\"text-align: right;\"> 2.57143 </td><td style=\"text-align: right;\"> 5.25    </td><td style=\"text-align: right;\"> 1.27273 </td><td style=\"text-align: right;\">  4.2 </td><td style=\"text-align: right;\">  1.4 </td><td style=\"text-align: right;\">  1.4 </td></tr>\n",
       "</tbody>\n",
       "</table>"
      ],
      "text/plain": [
       "'<table>\\n<thead>\\n<tr><th style=\"text-align: right;\">  gamma</th><th style=\"text-align: right;\">  E[T][A]</th><th style=\"text-align: right;\">  E[T][B]</th><th style=\"text-align: right;\">  E[T][P]</th><th style=\"text-align: right;\">  E[N][A]</th><th style=\"text-align: right;\">  E[N][B]</th><th style=\"text-align: right;\">  E[N][P]</th><th style=\"text-align: right;\">  X[A]</th><th style=\"text-align: right;\">  X[B]</th><th style=\"text-align: right;\">  X[P]</th></tr>\\n</thead>\\n<tbody>\\n<tr><td style=\"text-align: right;\">   0.5 </td><td style=\"text-align: right;\"> 0.230769</td><td style=\"text-align: right;\"> 0.857143</td><td style=\"text-align: right;\"> 0.5     </td><td style=\"text-align: right;\"> 0.346154</td><td style=\"text-align: right;\"> 0.428571</td><td style=\"text-align: right;\"> 0.25    </td><td style=\"text-align: right;\">  1.5 </td><td style=\"text-align: right;\">  0.5 </td><td style=\"text-align: right;\">  0.5 </td></tr>\\n<tr><td style=\"text-align: right;\">   0.55</td><td style=\"text-align: right;\"> 0.239044</td><td style=\"text-align: right;\"> 0.895522</td><td style=\"text-align: right;\"> 0.512821</td><td style=\"text-align: right;\"> 0.394422</td><td style=\"text-align: right;\"> 0.492537</td><td style=\"text-align: right;\"> 0.282051</td><td style=\"text-align: right;\">  1.65</td><td style=\"text-align: right;\">  0.55</td><td style=\"text-align: right;\">  0.55</td></tr>\\n<tr><td style=\"text-align: right;\">   0.6 </td><td style=\"text-align: right;\"> 0.247934</td><td style=\"text-align: right;\"> 0.9375  </td><td style=\"text-align: right;\"> 0.526316</td><td style=\"text-align: right;\"> 0.446281</td><td style=\"text-align: right;\"> 0.5625  </td><td style=\"text-align: right;\"> 0.315789</td><td style=\"text-align: right;\">  1.8 </td><td style=\"text-align: right;\">  0.6 </td><td style=\"text-align: right;\">  0.6 </td></tr>\\n<tr><td style=\"text-align: right;\">   0.65</td><td style=\"text-align: right;\"> 0.257511</td><td style=\"text-align: right;\"> 0.983607</td><td style=\"text-align: right;\"> 0.540541</td><td style=\"text-align: right;\"> 0.502146</td><td style=\"text-align: right;\"> 0.639344</td><td style=\"text-align: right;\"> 0.351351</td><td style=\"text-align: right;\">  1.95</td><td style=\"text-align: right;\">  0.65</td><td style=\"text-align: right;\">  0.65</td></tr>\\n<tr><td style=\"text-align: right;\">   0.7 </td><td style=\"text-align: right;\"> 0.267857</td><td style=\"text-align: right;\"> 1.03448 </td><td style=\"text-align: right;\"> 0.555556</td><td style=\"text-align: right;\"> 0.5625  </td><td style=\"text-align: right;\"> 0.724138</td><td style=\"text-align: right;\"> 0.388889</td><td style=\"text-align: right;\">  2.1 </td><td style=\"text-align: right;\">  0.7 </td><td style=\"text-align: right;\">  0.7 </td></tr>\\n<tr><td style=\"text-align: right;\">   0.75</td><td style=\"text-align: right;\"> 0.27907 </td><td style=\"text-align: right;\"> 1.09091 </td><td style=\"text-align: right;\"> 0.571429</td><td style=\"text-align: right;\"> 0.627907</td><td style=\"text-align: right;\"> 0.818182</td><td style=\"text-align: right;\"> 0.428571</td><td style=\"text-align: right;\">  2.25</td><td style=\"text-align: right;\">  0.75</td><td style=\"text-align: right;\">  0.75</td></tr>\\n<tr><td style=\"text-align: right;\">   0.8 </td><td style=\"text-align: right;\"> 0.291262</td><td style=\"text-align: right;\"> 1.15385 </td><td style=\"text-align: right;\"> 0.588235</td><td style=\"text-align: right;\"> 0.699029</td><td style=\"text-align: right;\"> 0.923077</td><td style=\"text-align: right;\"> 0.470588</td><td style=\"text-align: right;\">  2.4 </td><td style=\"text-align: right;\">  0.8 </td><td style=\"text-align: right;\">  0.8 </td></tr>\\n<tr><td style=\"text-align: right;\">   0.85</td><td style=\"text-align: right;\"> 0.304569</td><td style=\"text-align: right;\"> 1.22449 </td><td style=\"text-align: right;\"> 0.606061</td><td style=\"text-align: right;\"> 0.77665 </td><td style=\"text-align: right;\"> 1.04082 </td><td style=\"text-align: right;\"> 0.515152</td><td style=\"text-align: right;\">  2.55</td><td style=\"text-align: right;\">  0.85</td><td style=\"text-align: right;\">  0.85</td></tr>\\n<tr><td style=\"text-align: right;\">   0.9 </td><td style=\"text-align: right;\"> 0.319149</td><td style=\"text-align: right;\"> 1.30435 </td><td style=\"text-align: right;\"> 0.625   </td><td style=\"text-align: right;\"> 0.861702</td><td style=\"text-align: right;\"> 1.17391 </td><td style=\"text-align: right;\"> 0.5625  </td><td style=\"text-align: right;\">  2.7 </td><td style=\"text-align: right;\">  0.9 </td><td style=\"text-align: right;\">  0.9 </td></tr>\\n<tr><td style=\"text-align: right;\">   0.95</td><td style=\"text-align: right;\"> 0.335196</td><td style=\"text-align: right;\"> 1.39535 </td><td style=\"text-align: right;\"> 0.645161</td><td style=\"text-align: right;\"> 0.955307</td><td style=\"text-align: right;\"> 1.32558 </td><td style=\"text-align: right;\"> 0.612903</td><td style=\"text-align: right;\">  2.85</td><td style=\"text-align: right;\">  0.95</td><td style=\"text-align: right;\">  0.95</td></tr>\\n<tr><td style=\"text-align: right;\">   1   </td><td style=\"text-align: right;\"> 0.352941</td><td style=\"text-align: right;\"> 1.5     </td><td style=\"text-align: right;\"> 0.666667</td><td style=\"text-align: right;\"> 1.05882 </td><td style=\"text-align: right;\"> 1.5     </td><td style=\"text-align: right;\"> 0.666667</td><td style=\"text-align: right;\">  3   </td><td style=\"text-align: right;\">  1   </td><td style=\"text-align: right;\">  1   </td></tr>\\n<tr><td style=\"text-align: right;\">   1.05</td><td style=\"text-align: right;\"> 0.372671</td><td style=\"text-align: right;\"> 1.62162 </td><td style=\"text-align: right;\"> 0.689655</td><td style=\"text-align: right;\"> 1.17391 </td><td style=\"text-align: right;\"> 1.7027  </td><td style=\"text-align: right;\"> 0.724138</td><td style=\"text-align: right;\">  3.15</td><td style=\"text-align: right;\">  1.05</td><td style=\"text-align: right;\">  1.05</td></tr>\\n<tr><td style=\"text-align: right;\">   1.1 </td><td style=\"text-align: right;\"> 0.394737</td><td style=\"text-align: right;\"> 1.76471 </td><td style=\"text-align: right;\"> 0.714286</td><td style=\"text-align: right;\"> 1.30263 </td><td style=\"text-align: right;\"> 1.94118 </td><td style=\"text-align: right;\"> 0.785714</td><td style=\"text-align: right;\">  3.3 </td><td style=\"text-align: right;\">  1.1 </td><td style=\"text-align: right;\">  1.1 </td></tr>\\n<tr><td style=\"text-align: right;\">   1.15</td><td style=\"text-align: right;\"> 0.41958 </td><td style=\"text-align: right;\"> 1.93548 </td><td style=\"text-align: right;\"> 0.740741</td><td style=\"text-align: right;\"> 1.44755 </td><td style=\"text-align: right;\"> 2.22581 </td><td style=\"text-align: right;\"> 0.851852</td><td style=\"text-align: right;\">  3.45</td><td style=\"text-align: right;\">  1.15</td><td style=\"text-align: right;\">  1.15</td></tr>\\n<tr><td style=\"text-align: right;\">   1.2 </td><td style=\"text-align: right;\"> 0.447761</td><td style=\"text-align: right;\"> 2.14286 </td><td style=\"text-align: right;\"> 0.769231</td><td style=\"text-align: right;\"> 1.61194 </td><td style=\"text-align: right;\"> 2.57143 </td><td style=\"text-align: right;\"> 0.923077</td><td style=\"text-align: right;\">  3.6 </td><td style=\"text-align: right;\">  1.2 </td><td style=\"text-align: right;\">  1.2 </td></tr>\\n<tr><td style=\"text-align: right;\">   1.25</td><td style=\"text-align: right;\"> 0.48    </td><td style=\"text-align: right;\"> 2.4     </td><td style=\"text-align: right;\"> 0.8     </td><td style=\"text-align: right;\"> 1.8     </td><td style=\"text-align: right;\"> 3       </td><td style=\"text-align: right;\"> 1       </td><td style=\"text-align: right;\">  3.75</td><td style=\"text-align: right;\">  1.25</td><td style=\"text-align: right;\">  1.25</td></tr>\\n<tr><td style=\"text-align: right;\">   1.3 </td><td style=\"text-align: right;\"> 0.517241</td><td style=\"text-align: right;\"> 2.72727 </td><td style=\"text-align: right;\"> 0.833333</td><td style=\"text-align: right;\"> 2.01724 </td><td style=\"text-align: right;\"> 3.54545 </td><td style=\"text-align: right;\"> 1.08333 </td><td style=\"text-align: right;\">  3.9 </td><td style=\"text-align: right;\">  1.3 </td><td style=\"text-align: right;\">  1.3 </td></tr>\\n<tr><td style=\"text-align: right;\">   1.35</td><td style=\"text-align: right;\"> 0.560748</td><td style=\"text-align: right;\"> 3.15789 </td><td style=\"text-align: right;\"> 0.869565</td><td style=\"text-align: right;\"> 2.27103 </td><td style=\"text-align: right;\"> 4.26316 </td><td style=\"text-align: right;\"> 1.17391 </td><td style=\"text-align: right;\">  4.05</td><td style=\"text-align: right;\">  1.35</td><td style=\"text-align: right;\">  1.35</td></tr>\\n<tr><td style=\"text-align: right;\">   1.4 </td><td style=\"text-align: right;\"> 0.612245</td><td style=\"text-align: right;\"> 3.75    </td><td style=\"text-align: right;\"> 0.909091</td><td style=\"text-align: right;\"> 2.57143 </td><td style=\"text-align: right;\"> 5.25    </td><td style=\"text-align: right;\"> 1.27273 </td><td style=\"text-align: right;\">  4.2 </td><td style=\"text-align: right;\">  1.4 </td><td style=\"text-align: right;\">  1.4 </td></tr>\\n</tbody>\\n</table>'"
      ]
     },
     "metadata": {},
     "output_type": "display_data"
    },
    {
     "data": {
      "text/plain": [
       "'----------------------------------'"
      ]
     },
     "metadata": {},
     "output_type": "display_data"
    },
    {
     "data": {
      "image/png": "[encoded data removed]",
      "text/latex": [
       "$\\displaystyle E[T] = \\sum_{s=A}^{P} {E[T]}_{s} {v}_{s}$"
      ],
      "text/plain": [
       "         P               \n",
       "        ___              \n",
       "        ╲                \n",
       "         ╲               \n",
       "E[T] =   ╱   E[T][s]⋅v[s]\n",
       "        ╱                \n",
       "        ‾‾‾              \n",
       "       s = A             "
      ]
     },
     "metadata": {},
     "output_type": "display_data"
    },
    {
     "data": {
      "image/png": "[encoded data removed]",
      "text/latex": [
       "$\\displaystyle E[N] = \\gamma E[T]$"
      ],
      "text/plain": [
       "E[N] = γ⋅E[T]"
      ]
     },
     "metadata": {},
     "output_type": "display_data"
    },
    {
     "data": {
      "image/png": "[encoded data removed]",
      "text/latex": [
       "$\\displaystyle X = {X}_{A} {p}_{A,3}$"
      ],
      "text/plain": [
       "X = X[A]⋅p[A, 3]"
      ]
     },
     "metadata": {},
     "output_type": "display_data"
    },
    {
     "data": {
      "text/html": [
       "<table>\n",
       "<thead>\n",
       "<tr><th style=\"text-align: right;\">  gamma</th><th style=\"text-align: right;\">  E[T][S]</th><th style=\"text-align: right;\">  E[N][S]</th><th style=\"text-align: right;\">  X[S]</th></tr>\n",
       "</thead>\n",
       "<tbody>\n",
       "<tr><td style=\"text-align: right;\">   0.5 </td><td style=\"text-align: right;\">  2.04945</td><td style=\"text-align: right;\">  1.02473</td><td style=\"text-align: right;\">  0.5 </td></tr>\n",
       "<tr><td style=\"text-align: right;\">   0.55</td><td style=\"text-align: right;\">  2.12547</td><td style=\"text-align: right;\">  1.16901</td><td style=\"text-align: right;\">  0.55</td></tr>\n",
       "<tr><td style=\"text-align: right;\">   0.6 </td><td style=\"text-align: right;\">  2.20762</td><td style=\"text-align: right;\">  1.32457</td><td style=\"text-align: right;\">  0.6 </td></tr>\n",
       "<tr><td style=\"text-align: right;\">   0.65</td><td style=\"text-align: right;\">  2.29668</td><td style=\"text-align: right;\">  1.49284</td><td style=\"text-align: right;\">  0.65</td></tr>\n",
       "<tr><td style=\"text-align: right;\">   0.7 </td><td style=\"text-align: right;\">  2.39361</td><td style=\"text-align: right;\">  1.67553</td><td style=\"text-align: right;\">  0.7 </td></tr>\n",
       "<tr><td style=\"text-align: right;\">   0.75</td><td style=\"text-align: right;\">  2.49955</td><td style=\"text-align: right;\">  1.87466</td><td style=\"text-align: right;\">  0.75</td></tr>\n",
       "<tr><td style=\"text-align: right;\">   0.8 </td><td style=\"text-align: right;\">  2.61587</td><td style=\"text-align: right;\">  2.09269</td><td style=\"text-align: right;\">  0.8 </td></tr>\n",
       "<tr><td style=\"text-align: right;\">   0.85</td><td style=\"text-align: right;\">  2.74426</td><td style=\"text-align: right;\">  2.33262</td><td style=\"text-align: right;\">  0.85</td></tr>\n",
       "<tr><td style=\"text-align: right;\">   0.9 </td><td style=\"text-align: right;\">  2.88679</td><td style=\"text-align: right;\">  2.59812</td><td style=\"text-align: right;\">  0.9 </td></tr>\n",
       "<tr><td style=\"text-align: right;\">   0.95</td><td style=\"text-align: right;\">  3.0461 </td><td style=\"text-align: right;\">  2.89379</td><td style=\"text-align: right;\">  0.95</td></tr>\n",
       "<tr><td style=\"text-align: right;\">   1   </td><td style=\"text-align: right;\">  3.22549</td><td style=\"text-align: right;\">  3.22549</td><td style=\"text-align: right;\">  1   </td></tr>\n",
       "<tr><td style=\"text-align: right;\">   1.05</td><td style=\"text-align: right;\">  3.42929</td><td style=\"text-align: right;\">  3.60075</td><td style=\"text-align: right;\">  1.05</td></tr>\n",
       "<tr><td style=\"text-align: right;\">   1.1 </td><td style=\"text-align: right;\">  3.6632 </td><td style=\"text-align: right;\">  4.02952</td><td style=\"text-align: right;\">  1.1 </td></tr>\n",
       "<tr><td style=\"text-align: right;\">   1.15</td><td style=\"text-align: right;\">  3.93497</td><td style=\"text-align: right;\">  4.52521</td><td style=\"text-align: right;\">  1.15</td></tr>\n",
       "<tr><td style=\"text-align: right;\">   1.2 </td><td style=\"text-align: right;\">  4.25537</td><td style=\"text-align: right;\">  5.10645</td><td style=\"text-align: right;\">  1.2 </td></tr>\n",
       "<tr><td style=\"text-align: right;\">   1.25</td><td style=\"text-align: right;\">  4.64   </td><td style=\"text-align: right;\">  5.8    </td><td style=\"text-align: right;\">  1.25</td></tr>\n",
       "<tr><td style=\"text-align: right;\">   1.3 </td><td style=\"text-align: right;\">  5.11233</td><td style=\"text-align: right;\">  6.64603</td><td style=\"text-align: right;\">  1.3 </td></tr>\n",
       "<tr><td style=\"text-align: right;\">   1.35</td><td style=\"text-align: right;\">  5.7097 </td><td style=\"text-align: right;\">  7.7081 </td><td style=\"text-align: right;\">  1.35</td></tr>\n",
       "<tr><td style=\"text-align: right;\">   1.4 </td><td style=\"text-align: right;\">  6.49583</td><td style=\"text-align: right;\">  9.09416</td><td style=\"text-align: right;\">  1.4 </td></tr>\n",
       "</tbody>\n",
       "</table>"
      ],
      "text/plain": [
       "'<table>\\n<thead>\\n<tr><th style=\"text-align: right;\">  gamma</th><th style=\"text-align: right;\">  E[T][S]</th><th style=\"text-align: right;\">  E[N][S]</th><th style=\"text-align: right;\">  X[S]</th></tr>\\n</thead>\\n<tbody>\\n<tr><td style=\"text-align: right;\">   0.5 </td><td style=\"text-align: right;\">  2.04945</td><td style=\"text-align: right;\">  1.02473</td><td style=\"text-align: right;\">  0.5 </td></tr>\\n<tr><td style=\"text-align: right;\">   0.55</td><td style=\"text-align: right;\">  2.12547</td><td style=\"text-align: right;\">  1.16901</td><td style=\"text-align: right;\">  0.55</td></tr>\\n<tr><td style=\"text-align: right;\">   0.6 </td><td style=\"text-align: right;\">  2.20762</td><td style=\"text-align: right;\">  1.32457</td><td style=\"text-align: right;\">  0.6 </td></tr>\\n<tr><td style=\"text-align: right;\">   0.65</td><td style=\"text-align: right;\">  2.29668</td><td style=\"text-align: right;\">  1.49284</td><td style=\"text-align: right;\">  0.65</td></tr>\\n<tr><td style=\"text-align: right;\">   0.7 </td><td style=\"text-align: right;\">  2.39361</td><td style=\"text-align: right;\">  1.67553</td><td style=\"text-align: right;\">  0.7 </td></tr>\\n<tr><td style=\"text-align: right;\">   0.75</td><td style=\"text-align: right;\">  2.49955</td><td style=\"text-align: right;\">  1.87466</td><td style=\"text-align: right;\">  0.75</td></tr>\\n<tr><td style=\"text-align: right;\">   0.8 </td><td style=\"text-align: right;\">  2.61587</td><td style=\"text-align: right;\">  2.09269</td><td style=\"text-align: right;\">  0.8 </td></tr>\\n<tr><td style=\"text-align: right;\">   0.85</td><td style=\"text-align: right;\">  2.74426</td><td style=\"text-align: right;\">  2.33262</td><td style=\"text-align: right;\">  0.85</td></tr>\\n<tr><td style=\"text-align: right;\">   0.9 </td><td style=\"text-align: right;\">  2.88679</td><td style=\"text-align: right;\">  2.59812</td><td style=\"text-align: right;\">  0.9 </td></tr>\\n<tr><td style=\"text-align: right;\">   0.95</td><td style=\"text-align: right;\">  3.0461 </td><td style=\"text-align: right;\">  2.89379</td><td style=\"text-align: right;\">  0.95</td></tr>\\n<tr><td style=\"text-align: right;\">   1   </td><td style=\"text-align: right;\">  3.22549</td><td style=\"text-align: right;\">  3.22549</td><td style=\"text-align: right;\">  1   </td></tr>\\n<tr><td style=\"text-align: right;\">   1.05</td><td style=\"text-align: right;\">  3.42929</td><td style=\"text-align: right;\">  3.60075</td><td style=\"text-align: right;\">  1.05</td></tr>\\n<tr><td style=\"text-align: right;\">   1.1 </td><td style=\"text-align: right;\">  3.6632 </td><td style=\"text-align: right;\">  4.02952</td><td style=\"text-align: right;\">  1.1 </td></tr>\\n<tr><td style=\"text-align: right;\">   1.15</td><td style=\"text-align: right;\">  3.93497</td><td style=\"text-align: right;\">  4.52521</td><td style=\"text-align: right;\">  1.15</td></tr>\\n<tr><td style=\"text-align: right;\">   1.2 </td><td style=\"text-align: right;\">  4.25537</td><td style=\"text-align: right;\">  5.10645</td><td style=\"text-align: right;\">  1.2 </td></tr>\\n<tr><td style=\"text-align: right;\">   1.25</td><td style=\"text-align: right;\">  4.64   </td><td style=\"text-align: right;\">  5.8    </td><td style=\"text-align: right;\">  1.25</td></tr>\\n<tr><td style=\"text-align: right;\">   1.3 </td><td style=\"text-align: right;\">  5.11233</td><td style=\"text-align: right;\">  6.64603</td><td style=\"text-align: right;\">  1.3 </td></tr>\\n<tr><td style=\"text-align: right;\">   1.35</td><td style=\"text-align: right;\">  5.7097 </td><td style=\"text-align: right;\">  7.7081 </td><td style=\"text-align: right;\">  1.35</td></tr>\\n<tr><td style=\"text-align: right;\">   1.4 </td><td style=\"text-align: right;\">  6.49583</td><td style=\"text-align: right;\">  9.09416</td><td style=\"text-align: right;\">  1.4 </td></tr>\\n</tbody>\\n</table>'"
      ]
     },
     "metadata": {},
     "output_type": "display_data"
    },
    {
     "data": {
      "image/png": "[encoded data removed]",
      "text/latex": [
       "$\\displaystyle {\\mu}_{s} = \\sum_{c=1}^{3} {\\mu}_{s,c} {p}_{s,c}$"
      ],
      "text/plain": [
       "          3                   \n",
       "         ___                  \n",
       "         ╲                    \n",
       "          ╲                   \n",
       "mu[s] =   ╱   mu[s, c]⋅p[s, c]\n",
       "         ╱                    \n",
       "         ‾‾‾                  \n",
       "        c = 1                 "
      ]
     },
     "metadata": {},
     "output_type": "display_data"
    },
    {
     "data": {
      "text/plain": [
       "'----------------------------------'"
      ]
     },
     "metadata": {},
     "output_type": "display_data"
    },
    {
     "data": {
      "image/png": "[encoded data removed]",
      "text/latex": [
       "$\\displaystyle {\\mu}_{A} = 5.83333333333333$"
      ],
      "text/plain": [
       "mu[A] = 5.83333333333333"
      ]
     },
     "metadata": {},
     "output_type": "display_data"
    },
    {
     "data": {
      "image/png": "[encoded data removed]",
      "text/latex": [
       "$\\displaystyle {\\mu}_{B} = 2.0$"
      ],
      "text/plain": [
       "mu[B] = 2.0"
      ]
     },
     "metadata": {},
     "output_type": "display_data"
    },
    {
     "data": {
      "image/png": "[encoded data removed]",
      "text/latex": [
       "$\\displaystyle {\\mu}_{P} = 2.5$"
      ],
      "text/plain": [
       "mu[P] = 2.5"
      ]
     },
     "metadata": {},
     "output_type": "display_data"
    },
    {
     "data": {
      "text/plain": [
       "'----------------------------------'"
      ]
     },
     "metadata": {},
     "output_type": "display_data"
    },
    {
     "data": {
      "text/html": [
       "<table>\n",
       "<thead>\n",
       "<tr><th style=\"text-align: right;\">  gamma</th><th style=\"text-align: right;\">  rho[A]</th><th style=\"text-align: right;\">  rho[B]</th><th style=\"text-align: right;\">  rho[P]</th><th>stable  </th></tr>\n",
       "</thead>\n",
       "<tbody>\n",
       "<tr><td style=\"text-align: right;\">   0.5 </td><td style=\"text-align: right;\">0.257143</td><td style=\"text-align: right;\">   0.25 </td><td style=\"text-align: right;\">    0.2 </td><td>True    </td></tr>\n",
       "<tr><td style=\"text-align: right;\">   0.55</td><td style=\"text-align: right;\">0.282857</td><td style=\"text-align: right;\">   0.275</td><td style=\"text-align: right;\">    0.22</td><td>True    </td></tr>\n",
       "<tr><td style=\"text-align: right;\">   0.6 </td><td style=\"text-align: right;\">0.308571</td><td style=\"text-align: right;\">   0.3  </td><td style=\"text-align: right;\">    0.24</td><td>True    </td></tr>\n",
       "<tr><td style=\"text-align: right;\">   0.65</td><td style=\"text-align: right;\">0.334286</td><td style=\"text-align: right;\">   0.325</td><td style=\"text-align: right;\">    0.26</td><td>True    </td></tr>\n",
       "<tr><td style=\"text-align: right;\">   0.7 </td><td style=\"text-align: right;\">0.36    </td><td style=\"text-align: right;\">   0.35 </td><td style=\"text-align: right;\">    0.28</td><td>True    </td></tr>\n",
       "<tr><td style=\"text-align: right;\">   0.75</td><td style=\"text-align: right;\">0.385714</td><td style=\"text-align: right;\">   0.375</td><td style=\"text-align: right;\">    0.3 </td><td>True    </td></tr>\n",
       "<tr><td style=\"text-align: right;\">   0.8 </td><td style=\"text-align: right;\">0.411429</td><td style=\"text-align: right;\">   0.4  </td><td style=\"text-align: right;\">    0.32</td><td>True    </td></tr>\n",
       "<tr><td style=\"text-align: right;\">   0.85</td><td style=\"text-align: right;\">0.437143</td><td style=\"text-align: right;\">   0.425</td><td style=\"text-align: right;\">    0.34</td><td>True    </td></tr>\n",
       "<tr><td style=\"text-align: right;\">   0.9 </td><td style=\"text-align: right;\">0.462857</td><td style=\"text-align: right;\">   0.45 </td><td style=\"text-align: right;\">    0.36</td><td>True    </td></tr>\n",
       "<tr><td style=\"text-align: right;\">   0.95</td><td style=\"text-align: right;\">0.488571</td><td style=\"text-align: right;\">   0.475</td><td style=\"text-align: right;\">    0.38</td><td>True    </td></tr>\n",
       "<tr><td style=\"text-align: right;\">   1   </td><td style=\"text-align: right;\">0.514286</td><td style=\"text-align: right;\">   0.5  </td><td style=\"text-align: right;\">    0.4 </td><td>True    </td></tr>\n",
       "<tr><td style=\"text-align: right;\">   1.05</td><td style=\"text-align: right;\">0.54    </td><td style=\"text-align: right;\">   0.525</td><td style=\"text-align: right;\">    0.42</td><td>True    </td></tr>\n",
       "<tr><td style=\"text-align: right;\">   1.1 </td><td style=\"text-align: right;\">0.565714</td><td style=\"text-align: right;\">   0.55 </td><td style=\"text-align: right;\">    0.44</td><td>True    </td></tr>\n",
       "<tr><td style=\"text-align: right;\">   1.15</td><td style=\"text-align: right;\">0.591429</td><td style=\"text-align: right;\">   0.575</td><td style=\"text-align: right;\">    0.46</td><td>True    </td></tr>\n",
       "<tr><td style=\"text-align: right;\">   1.2 </td><td style=\"text-align: right;\">0.617143</td><td style=\"text-align: right;\">   0.6  </td><td style=\"text-align: right;\">    0.48</td><td>True    </td></tr>\n",
       "<tr><td style=\"text-align: right;\">   1.25</td><td style=\"text-align: right;\">0.642857</td><td style=\"text-align: right;\">   0.625</td><td style=\"text-align: right;\">    0.5 </td><td>True    </td></tr>\n",
       "<tr><td style=\"text-align: right;\">   1.3 </td><td style=\"text-align: right;\">0.668571</td><td style=\"text-align: right;\">   0.65 </td><td style=\"text-align: right;\">    0.52</td><td>True    </td></tr>\n",
       "<tr><td style=\"text-align: right;\">   1.35</td><td style=\"text-align: right;\">0.694286</td><td style=\"text-align: right;\">   0.675</td><td style=\"text-align: right;\">    0.54</td><td>True    </td></tr>\n",
       "<tr><td style=\"text-align: right;\">   1.4 </td><td style=\"text-align: right;\">0.72    </td><td style=\"text-align: right;\">   0.7  </td><td style=\"text-align: right;\">    0.56</td><td>True    </td></tr>\n",
       "</tbody>\n",
       "</table>"
      ],
      "text/plain": [
       "'<table>\\n<thead>\\n<tr><th style=\"text-align: right;\">  gamma</th><th style=\"text-align: right;\">  rho[A]</th><th style=\"text-align: right;\">  rho[B]</th><th style=\"text-align: right;\">  rho[P]</th><th>stable  </th></tr>\\n</thead>\\n<tbody>\\n<tr><td style=\"text-align: right;\">   0.5 </td><td style=\"text-align: right;\">0.257143</td><td style=\"text-align: right;\">   0.25 </td><td style=\"text-align: right;\">    0.2 </td><td>True    </td></tr>\\n<tr><td style=\"text-align: right;\">   0.55</td><td style=\"text-align: right;\">0.282857</td><td style=\"text-align: right;\">   0.275</td><td style=\"text-align: right;\">    0.22</td><td>True    </td></tr>\\n<tr><td style=\"text-align: right;\">   0.6 </td><td style=\"text-align: right;\">0.308571</td><td style=\"text-align: right;\">   0.3  </td><td style=\"text-align: right;\">    0.24</td><td>True    </td></tr>\\n<tr><td style=\"text-align: right;\">   0.65</td><td style=\"text-align: right;\">0.334286</td><td style=\"text-align: right;\">   0.325</td><td style=\"text-align: right;\">    0.26</td><td>True    </td></tr>\\n<tr><td style=\"text-align: right;\">   0.7 </td><td style=\"text-align: right;\">0.36    </td><td style=\"text-align: right;\">   0.35 </td><td style=\"text-align: right;\">    0.28</td><td>True    </td></tr>\\n<tr><td style=\"text-align: right;\">   0.75</td><td style=\"text-align: right;\">0.385714</td><td style=\"text-align: right;\">   0.375</td><td style=\"text-align: right;\">    0.3 </td><td>True    </td></tr>\\n<tr><td style=\"text-align: right;\">   0.8 </td><td style=\"text-align: right;\">0.411429</td><td style=\"text-align: right;\">   0.4  </td><td style=\"text-align: right;\">    0.32</td><td>True    </td></tr>\\n<tr><td style=\"text-align: right;\">   0.85</td><td style=\"text-align: right;\">0.437143</td><td style=\"text-align: right;\">   0.425</td><td style=\"text-align: right;\">    0.34</td><td>True    </td></tr>\\n<tr><td style=\"text-align: right;\">   0.9 </td><td style=\"text-align: right;\">0.462857</td><td style=\"text-align: right;\">   0.45 </td><td style=\"text-align: right;\">    0.36</td><td>True    </td></tr>\\n<tr><td style=\"text-align: right;\">   0.95</td><td style=\"text-align: right;\">0.488571</td><td style=\"text-align: right;\">   0.475</td><td style=\"text-align: right;\">    0.38</td><td>True    </td></tr>\\n<tr><td style=\"text-align: right;\">   1   </td><td style=\"text-align: right;\">0.514286</td><td style=\"text-align: right;\">   0.5  </td><td style=\"text-align: right;\">    0.4 </td><td>True    </td></tr>\\n<tr><td style=\"text-align: right;\">   1.05</td><td style=\"text-align: right;\">0.54    </td><td style=\"text-align: right;\">   0.525</td><td style=\"text-align: right;\">    0.42</td><td>True    </td></tr>\\n<tr><td style=\"text-align: right;\">   1.1 </td><td style=\"text-align: right;\">0.565714</td><td style=\"text-align: right;\">   0.55 </td><td style=\"text-align: right;\">    0.44</td><td>True    </td></tr>\\n<tr><td style=\"text-align: right;\">   1.15</td><td style=\"text-align: right;\">0.591429</td><td style=\"text-align: right;\">   0.575</td><td style=\"text-align: right;\">    0.46</td><td>True    </td></tr>\\n<tr><td style=\"text-align: right;\">   1.2 </td><td style=\"text-align: right;\">0.617143</td><td style=\"text-align: right;\">   0.6  </td><td style=\"text-align: right;\">    0.48</td><td>True    </td></tr>\\n<tr><td style=\"text-align: right;\">   1.25</td><td style=\"text-align: right;\">0.642857</td><td style=\"text-align: right;\">   0.625</td><td style=\"text-align: right;\">    0.5 </td><td>True    </td></tr>\\n<tr><td style=\"text-align: right;\">   1.3 </td><td style=\"text-align: right;\">0.668571</td><td style=\"text-align: right;\">   0.65 </td><td style=\"text-align: right;\">    0.52</td><td>True    </td></tr>\\n<tr><td style=\"text-align: right;\">   1.35</td><td style=\"text-align: right;\">0.694286</td><td style=\"text-align: right;\">   0.675</td><td style=\"text-align: right;\">    0.54</td><td>True    </td></tr>\\n<tr><td style=\"text-align: right;\">   1.4 </td><td style=\"text-align: right;\">0.72    </td><td style=\"text-align: right;\">   0.7  </td><td style=\"text-align: right;\">    0.56</td><td>True    </td></tr>\\n</tbody>\\n</table>'"
      ]
     },
     "metadata": {},
     "output_type": "display_data"
    },
    {
     "data": {
      "text/plain": [
       "'----------------------------------'"
      ]
     },
     "metadata": {},
     "output_type": "display_data"
    },
    {
     "data": {
      "image/png": "[encoded data removed]",
      "text/latex": [
       "$\\displaystyle {E[T]}_{s} = \\frac{1}{\\left(1 - {\\rho}_{s}\\right) {\\mu}_{s}}$"
      ],
      "text/plain": [
       "                  1         \n",
       "E[T][s] = ──────────────────\n",
       "          (1 - rho[s])⋅mu[s]"
      ]
     },
     "metadata": {},
     "output_type": "display_data"
    },
    {
     "data": {
      "image/png": "[encoded data removed]",
      "text/latex": [
       "$\\displaystyle {E[N]}_{s} = {E[T]}_{s} {\\lambda}_{s}$"
      ],
      "text/plain": [
       "E[N][s] = E[T][s]⋅lambda[s]"
      ]
     },
     "metadata": {},
     "output_type": "display_data"
    },
    {
     "data": {
      "image/png": "[encoded data removed]",
      "text/latex": [
       "$\\displaystyle \\left\\{ {X}_{A} : 3 \\gamma, \\  {X}_{B} : \\gamma, \\  {X}_{P} : \\gamma\\right\\}$"
      ],
      "text/plain": [
       "{X[A]: 3⋅γ, X[B]: γ, X[P]: γ}"
      ]
     },
     "metadata": {},
     "output_type": "display_data"
    },
    {
     "data": {
      "text/html": [
       "<table>\n",
       "<thead>\n",
       "<tr><th style=\"text-align: right;\">  gamma</th><th style=\"text-align: right;\">  E[T][A]</th><th style=\"text-align: right;\">  E[T][B]</th><th style=\"text-align: right;\">  E[T][P]</th><th style=\"text-align: right;\">  E[N][A]</th><th style=\"text-align: right;\">  E[N][B]</th><th style=\"text-align: right;\">  E[N][P]</th><th style=\"text-align: right;\">  X[A]</th><th style=\"text-align: right;\">  X[B]</th><th style=\"text-align: right;\">  X[P]</th></tr>\n",
       "</thead>\n",
       "<tbody>\n",
       "<tr><td style=\"text-align: right;\">   0.5 </td><td style=\"text-align: right;\"> 0.230769</td><td style=\"text-align: right;\"> 0.666667</td><td style=\"text-align: right;\"> 0.5     </td><td style=\"text-align: right;\"> 0.346154</td><td style=\"text-align: right;\"> 0.333333</td><td style=\"text-align: right;\"> 0.25    </td><td style=\"text-align: right;\">  1.5 </td><td style=\"text-align: right;\">  0.5 </td><td style=\"text-align: right;\">  0.5 </td></tr>\n",
       "<tr><td style=\"text-align: right;\">   0.55</td><td style=\"text-align: right;\"> 0.239044</td><td style=\"text-align: right;\"> 0.689655</td><td style=\"text-align: right;\"> 0.512821</td><td style=\"text-align: right;\"> 0.394422</td><td style=\"text-align: right;\"> 0.37931 </td><td style=\"text-align: right;\"> 0.282051</td><td style=\"text-align: right;\">  1.65</td><td style=\"text-align: right;\">  0.55</td><td style=\"text-align: right;\">  0.55</td></tr>\n",
       "<tr><td style=\"text-align: right;\">   0.6 </td><td style=\"text-align: right;\"> 0.247934</td><td style=\"text-align: right;\"> 0.714286</td><td style=\"text-align: right;\"> 0.526316</td><td style=\"text-align: right;\"> 0.446281</td><td style=\"text-align: right;\"> 0.428571</td><td style=\"text-align: right;\"> 0.315789</td><td style=\"text-align: right;\">  1.8 </td><td style=\"text-align: right;\">  0.6 </td><td style=\"text-align: right;\">  0.6 </td></tr>\n",
       "<tr><td style=\"text-align: right;\">   0.65</td><td style=\"text-align: right;\"> 0.257511</td><td style=\"text-align: right;\"> 0.740741</td><td style=\"text-align: right;\"> 0.540541</td><td style=\"text-align: right;\"> 0.502146</td><td style=\"text-align: right;\"> 0.481481</td><td style=\"text-align: right;\"> 0.351351</td><td style=\"text-align: right;\">  1.95</td><td style=\"text-align: right;\">  0.65</td><td style=\"text-align: right;\">  0.65</td></tr>\n",
       "<tr><td style=\"text-align: right;\">   0.7 </td><td style=\"text-align: right;\"> 0.267857</td><td style=\"text-align: right;\"> 0.769231</td><td style=\"text-align: right;\"> 0.555556</td><td style=\"text-align: right;\"> 0.5625  </td><td style=\"text-align: right;\"> 0.538462</td><td style=\"text-align: right;\"> 0.388889</td><td style=\"text-align: right;\">  2.1 </td><td style=\"text-align: right;\">  0.7 </td><td style=\"text-align: right;\">  0.7 </td></tr>\n",
       "<tr><td style=\"text-align: right;\">   0.75</td><td style=\"text-align: right;\"> 0.27907 </td><td style=\"text-align: right;\"> 0.8     </td><td style=\"text-align: right;\"> 0.571429</td><td style=\"text-align: right;\"> 0.627907</td><td style=\"text-align: right;\"> 0.6     </td><td style=\"text-align: right;\"> 0.428571</td><td style=\"text-align: right;\">  2.25</td><td style=\"text-align: right;\">  0.75</td><td style=\"text-align: right;\">  0.75</td></tr>\n",
       "<tr><td style=\"text-align: right;\">   0.8 </td><td style=\"text-align: right;\"> 0.291262</td><td style=\"text-align: right;\"> 0.833333</td><td style=\"text-align: right;\"> 0.588235</td><td style=\"text-align: right;\"> 0.699029</td><td style=\"text-align: right;\"> 0.666667</td><td style=\"text-align: right;\"> 0.470588</td><td style=\"text-align: right;\">  2.4 </td><td style=\"text-align: right;\">  0.8 </td><td style=\"text-align: right;\">  0.8 </td></tr>\n",
       "<tr><td style=\"text-align: right;\">   0.85</td><td style=\"text-align: right;\"> 0.304569</td><td style=\"text-align: right;\"> 0.869565</td><td style=\"text-align: right;\"> 0.606061</td><td style=\"text-align: right;\"> 0.77665 </td><td style=\"text-align: right;\"> 0.73913 </td><td style=\"text-align: right;\"> 0.515152</td><td style=\"text-align: right;\">  2.55</td><td style=\"text-align: right;\">  0.85</td><td style=\"text-align: right;\">  0.85</td></tr>\n",
       "<tr><td style=\"text-align: right;\">   0.9 </td><td style=\"text-align: right;\"> 0.319149</td><td style=\"text-align: right;\"> 0.909091</td><td style=\"text-align: right;\"> 0.625   </td><td style=\"text-align: right;\"> 0.861702</td><td style=\"text-align: right;\"> 0.818182</td><td style=\"text-align: right;\"> 0.5625  </td><td style=\"text-align: right;\">  2.7 </td><td style=\"text-align: right;\">  0.9 </td><td style=\"text-align: right;\">  0.9 </td></tr>\n",
       "<tr><td style=\"text-align: right;\">   0.95</td><td style=\"text-align: right;\"> 0.335196</td><td style=\"text-align: right;\"> 0.952381</td><td style=\"text-align: right;\"> 0.645161</td><td style=\"text-align: right;\"> 0.955307</td><td style=\"text-align: right;\"> 0.904762</td><td style=\"text-align: right;\"> 0.612903</td><td style=\"text-align: right;\">  2.85</td><td style=\"text-align: right;\">  0.95</td><td style=\"text-align: right;\">  0.95</td></tr>\n",
       "<tr><td style=\"text-align: right;\">   1   </td><td style=\"text-align: right;\"> 0.352941</td><td style=\"text-align: right;\"> 1       </td><td style=\"text-align: right;\"> 0.666667</td><td style=\"text-align: right;\"> 1.05882 </td><td style=\"text-align: right;\"> 1       </td><td style=\"text-align: right;\"> 0.666667</td><td style=\"text-align: right;\">  3   </td><td style=\"text-align: right;\">  1   </td><td style=\"text-align: right;\">  1   </td></tr>\n",
       "<tr><td style=\"text-align: right;\">   1.05</td><td style=\"text-align: right;\"> 0.372671</td><td style=\"text-align: right;\"> 1.05263 </td><td style=\"text-align: right;\"> 0.689655</td><td style=\"text-align: right;\"> 1.17391 </td><td style=\"text-align: right;\"> 1.10526 </td><td style=\"text-align: right;\"> 0.724138</td><td style=\"text-align: right;\">  3.15</td><td style=\"text-align: right;\">  1.05</td><td style=\"text-align: right;\">  1.05</td></tr>\n",
       "<tr><td style=\"text-align: right;\">   1.1 </td><td style=\"text-align: right;\"> 0.394737</td><td style=\"text-align: right;\"> 1.11111 </td><td style=\"text-align: right;\"> 0.714286</td><td style=\"text-align: right;\"> 1.30263 </td><td style=\"text-align: right;\"> 1.22222 </td><td style=\"text-align: right;\"> 0.785714</td><td style=\"text-align: right;\">  3.3 </td><td style=\"text-align: right;\">  1.1 </td><td style=\"text-align: right;\">  1.1 </td></tr>\n",
       "<tr><td style=\"text-align: right;\">   1.15</td><td style=\"text-align: right;\"> 0.41958 </td><td style=\"text-align: right;\"> 1.17647 </td><td style=\"text-align: right;\"> 0.740741</td><td style=\"text-align: right;\"> 1.44755 </td><td style=\"text-align: right;\"> 1.35294 </td><td style=\"text-align: right;\"> 0.851852</td><td style=\"text-align: right;\">  3.45</td><td style=\"text-align: right;\">  1.15</td><td style=\"text-align: right;\">  1.15</td></tr>\n",
       "<tr><td style=\"text-align: right;\">   1.2 </td><td style=\"text-align: right;\"> 0.447761</td><td style=\"text-align: right;\"> 1.25    </td><td style=\"text-align: right;\"> 0.769231</td><td style=\"text-align: right;\"> 1.61194 </td><td style=\"text-align: right;\"> 1.5     </td><td style=\"text-align: right;\"> 0.923077</td><td style=\"text-align: right;\">  3.6 </td><td style=\"text-align: right;\">  1.2 </td><td style=\"text-align: right;\">  1.2 </td></tr>\n",
       "<tr><td style=\"text-align: right;\">   1.25</td><td style=\"text-align: right;\"> 0.48    </td><td style=\"text-align: right;\"> 1.33333 </td><td style=\"text-align: right;\"> 0.8     </td><td style=\"text-align: right;\"> 1.8     </td><td style=\"text-align: right;\"> 1.66667 </td><td style=\"text-align: right;\"> 1       </td><td style=\"text-align: right;\">  3.75</td><td style=\"text-align: right;\">  1.25</td><td style=\"text-align: right;\">  1.25</td></tr>\n",
       "<tr><td style=\"text-align: right;\">   1.3 </td><td style=\"text-align: right;\"> 0.517241</td><td style=\"text-align: right;\"> 1.42857 </td><td style=\"text-align: right;\"> 0.833333</td><td style=\"text-align: right;\"> 2.01724 </td><td style=\"text-align: right;\"> 1.85714 </td><td style=\"text-align: right;\"> 1.08333 </td><td style=\"text-align: right;\">  3.9 </td><td style=\"text-align: right;\">  1.3 </td><td style=\"text-align: right;\">  1.3 </td></tr>\n",
       "<tr><td style=\"text-align: right;\">   1.35</td><td style=\"text-align: right;\"> 0.560748</td><td style=\"text-align: right;\"> 1.53846 </td><td style=\"text-align: right;\"> 0.869565</td><td style=\"text-align: right;\"> 2.27103 </td><td style=\"text-align: right;\"> 2.07692 </td><td style=\"text-align: right;\"> 1.17391 </td><td style=\"text-align: right;\">  4.05</td><td style=\"text-align: right;\">  1.35</td><td style=\"text-align: right;\">  1.35</td></tr>\n",
       "<tr><td style=\"text-align: right;\">   1.4 </td><td style=\"text-align: right;\"> 0.612245</td><td style=\"text-align: right;\"> 1.66667 </td><td style=\"text-align: right;\"> 0.909091</td><td style=\"text-align: right;\"> 2.57143 </td><td style=\"text-align: right;\"> 2.33333 </td><td style=\"text-align: right;\"> 1.27273 </td><td style=\"text-align: right;\">  4.2 </td><td style=\"text-align: right;\">  1.4 </td><td style=\"text-align: right;\">  1.4 </td></tr>\n",
       "</tbody>\n",
       "</table>"
      ],
      "text/plain": [
       "'<table>\\n<thead>\\n<tr><th style=\"text-align: right;\">  gamma</th><th style=\"text-align: right;\">  E[T][A]</th><th style=\"text-align: right;\">  E[T][B]</th><th style=\"text-align: right;\">  E[T][P]</th><th style=\"text-align: right;\">  E[N][A]</th><th style=\"text-align: right;\">  E[N][B]</th><th style=\"text-align: right;\">  E[N][P]</th><th style=\"text-align: right;\">  X[A]</th><th style=\"text-align: right;\">  X[B]</th><th style=\"text-align: right;\">  X[P]</th></tr>\\n</thead>\\n<tbody>\\n<tr><td style=\"text-align: right;\">   0.5 </td><td style=\"text-align: right;\"> 0.230769</td><td style=\"text-align: right;\"> 0.666667</td><td style=\"text-align: right;\"> 0.5     </td><td style=\"text-align: right;\"> 0.346154</td><td style=\"text-align: right;\"> 0.333333</td><td style=\"text-align: right;\"> 0.25    </td><td style=\"text-align: right;\">  1.5 </td><td style=\"text-align: right;\">  0.5 </td><td style=\"text-align: right;\">  0.5 </td></tr>\\n<tr><td style=\"text-align: right;\">   0.55</td><td style=\"text-align: right;\"> 0.239044</td><td style=\"text-align: right;\"> 0.689655</td><td style=\"text-align: right;\"> 0.512821</td><td style=\"text-align: right;\"> 0.394422</td><td style=\"text-align: right;\"> 0.37931 </td><td style=\"text-align: right;\"> 0.282051</td><td style=\"text-align: right;\">  1.65</td><td style=\"text-align: right;\">  0.55</td><td style=\"text-align: right;\">  0.55</td></tr>\\n<tr><td style=\"text-align: right;\">   0.6 </td><td style=\"text-align: right;\"> 0.247934</td><td style=\"text-align: right;\"> 0.714286</td><td style=\"text-align: right;\"> 0.526316</td><td style=\"text-align: right;\"> 0.446281</td><td style=\"text-align: right;\"> 0.428571</td><td style=\"text-align: right;\"> 0.315789</td><td style=\"text-align: right;\">  1.8 </td><td style=\"text-align: right;\">  0.6 </td><td style=\"text-align: right;\">  0.6 </td></tr>\\n<tr><td style=\"text-align: right;\">   0.65</td><td style=\"text-align: right;\"> 0.257511</td><td style=\"text-align: right;\"> 0.740741</td><td style=\"text-align: right;\"> 0.540541</td><td style=\"text-align: right;\"> 0.502146</td><td style=\"text-align: right;\"> 0.481481</td><td style=\"text-align: right;\"> 0.351351</td><td style=\"text-align: right;\">  1.95</td><td style=\"text-align: right;\">  0.65</td><td style=\"text-align: right;\">  0.65</td></tr>\\n<tr><td style=\"text-align: right;\">   0.7 </td><td style=\"text-align: right;\"> 0.267857</td><td style=\"text-align: right;\"> 0.769231</td><td style=\"text-align: right;\"> 0.555556</td><td style=\"text-align: right;\"> 0.5625  </td><td style=\"text-align: right;\"> 0.538462</td><td style=\"text-align: right;\"> 0.388889</td><td style=\"text-align: right;\">  2.1 </td><td style=\"text-align: right;\">  0.7 </td><td style=\"text-align: right;\">  0.7 </td></tr>\\n<tr><td style=\"text-align: right;\">   0.75</td><td style=\"text-align: right;\"> 0.27907 </td><td style=\"text-align: right;\"> 0.8     </td><td style=\"text-align: right;\"> 0.571429</td><td style=\"text-align: right;\"> 0.627907</td><td style=\"text-align: right;\"> 0.6     </td><td style=\"text-align: right;\"> 0.428571</td><td style=\"text-align: right;\">  2.25</td><td style=\"text-align: right;\">  0.75</td><td style=\"text-align: right;\">  0.75</td></tr>\\n<tr><td style=\"text-align: right;\">   0.8 </td><td style=\"text-align: right;\"> 0.291262</td><td style=\"text-align: right;\"> 0.833333</td><td style=\"text-align: right;\"> 0.588235</td><td style=\"text-align: right;\"> 0.699029</td><td style=\"text-align: right;\"> 0.666667</td><td style=\"text-align: right;\"> 0.470588</td><td style=\"text-align: right;\">  2.4 </td><td style=\"text-align: right;\">  0.8 </td><td style=\"text-align: right;\">  0.8 </td></tr>\\n<tr><td style=\"text-align: right;\">   0.85</td><td style=\"text-align: right;\"> 0.304569</td><td style=\"text-align: right;\"> 0.869565</td><td style=\"text-align: right;\"> 0.606061</td><td style=\"text-align: right;\"> 0.77665 </td><td style=\"text-align: right;\"> 0.73913 </td><td style=\"text-align: right;\"> 0.515152</td><td style=\"text-align: right;\">  2.55</td><td style=\"text-align: right;\">  0.85</td><td style=\"text-align: right;\">  0.85</td></tr>\\n<tr><td style=\"text-align: right;\">   0.9 </td><td style=\"text-align: right;\"> 0.319149</td><td style=\"text-align: right;\"> 0.909091</td><td style=\"text-align: right;\"> 0.625   </td><td style=\"text-align: right;\"> 0.861702</td><td style=\"text-align: right;\"> 0.818182</td><td style=\"text-align: right;\"> 0.5625  </td><td style=\"text-align: right;\">  2.7 </td><td style=\"text-align: right;\">  0.9 </td><td style=\"text-align: right;\">  0.9 </td></tr>\\n<tr><td style=\"text-align: right;\">   0.95</td><td style=\"text-align: right;\"> 0.335196</td><td style=\"text-align: right;\"> 0.952381</td><td style=\"text-align: right;\"> 0.645161</td><td style=\"text-align: right;\"> 0.955307</td><td style=\"text-align: right;\"> 0.904762</td><td style=\"text-align: right;\"> 0.612903</td><td style=\"text-align: right;\">  2.85</td><td style=\"text-align: right;\">  0.95</td><td style=\"text-align: right;\">  0.95</td></tr>\\n<tr><td style=\"text-align: right;\">   1   </td><td style=\"text-align: right;\"> 0.352941</td><td style=\"text-align: right;\"> 1       </td><td style=\"text-align: right;\"> 0.666667</td><td style=\"text-align: right;\"> 1.05882 </td><td style=\"text-align: right;\"> 1       </td><td style=\"text-align: right;\"> 0.666667</td><td style=\"text-align: right;\">  3   </td><td style=\"text-align: right;\">  1   </td><td style=\"text-align: right;\">  1   </td></tr>\\n<tr><td style=\"text-align: right;\">   1.05</td><td style=\"text-align: right;\"> 0.372671</td><td style=\"text-align: right;\"> 1.05263 </td><td style=\"text-align: right;\"> 0.689655</td><td style=\"text-align: right;\"> 1.17391 </td><td style=\"text-align: right;\"> 1.10526 </td><td style=\"text-align: right;\"> 0.724138</td><td style=\"text-align: right;\">  3.15</td><td style=\"text-align: right;\">  1.05</td><td style=\"text-align: right;\">  1.05</td></tr>\\n<tr><td style=\"text-align: right;\">   1.1 </td><td style=\"text-align: right;\"> 0.394737</td><td style=\"text-align: right;\"> 1.11111 </td><td style=\"text-align: right;\"> 0.714286</td><td style=\"text-align: right;\"> 1.30263 </td><td style=\"text-align: right;\"> 1.22222 </td><td style=\"text-align: right;\"> 0.785714</td><td style=\"text-align: right;\">  3.3 </td><td style=\"text-align: right;\">  1.1 </td><td style=\"text-align: right;\">  1.1 </td></tr>\\n<tr><td style=\"text-align: right;\">   1.15</td><td style=\"text-align: right;\"> 0.41958 </td><td style=\"text-align: right;\"> 1.17647 </td><td style=\"text-align: right;\"> 0.740741</td><td style=\"text-align: right;\"> 1.44755 </td><td style=\"text-align: right;\"> 1.35294 </td><td style=\"text-align: right;\"> 0.851852</td><td style=\"text-align: right;\">  3.45</td><td style=\"text-align: right;\">  1.15</td><td style=\"text-align: right;\">  1.15</td></tr>\\n<tr><td style=\"text-align: right;\">   1.2 </td><td style=\"text-align: right;\"> 0.447761</td><td style=\"text-align: right;\"> 1.25    </td><td style=\"text-align: right;\"> 0.769231</td><td style=\"text-align: right;\"> 1.61194 </td><td style=\"text-align: right;\"> 1.5     </td><td style=\"text-align: right;\"> 0.923077</td><td style=\"text-align: right;\">  3.6 </td><td style=\"text-align: right;\">  1.2 </td><td style=\"text-align: right;\">  1.2 </td></tr>\\n<tr><td style=\"text-align: right;\">   1.25</td><td style=\"text-align: right;\"> 0.48    </td><td style=\"text-align: right;\"> 1.33333 </td><td style=\"text-align: right;\"> 0.8     </td><td style=\"text-align: right;\"> 1.8     </td><td style=\"text-align: right;\"> 1.66667 </td><td style=\"text-align: right;\"> 1       </td><td style=\"text-align: right;\">  3.75</td><td style=\"text-align: right;\">  1.25</td><td style=\"text-align: right;\">  1.25</td></tr>\\n<tr><td style=\"text-align: right;\">   1.3 </td><td style=\"text-align: right;\"> 0.517241</td><td style=\"text-align: right;\"> 1.42857 </td><td style=\"text-align: right;\"> 0.833333</td><td style=\"text-align: right;\"> 2.01724 </td><td style=\"text-align: right;\"> 1.85714 </td><td style=\"text-align: right;\"> 1.08333 </td><td style=\"text-align: right;\">  3.9 </td><td style=\"text-align: right;\">  1.3 </td><td style=\"text-align: right;\">  1.3 </td></tr>\\n<tr><td style=\"text-align: right;\">   1.35</td><td style=\"text-align: right;\"> 0.560748</td><td style=\"text-align: right;\"> 1.53846 </td><td style=\"text-align: right;\"> 0.869565</td><td style=\"text-align: right;\"> 2.27103 </td><td style=\"text-align: right;\"> 2.07692 </td><td style=\"text-align: right;\"> 1.17391 </td><td style=\"text-align: right;\">  4.05</td><td style=\"text-align: right;\">  1.35</td><td style=\"text-align: right;\">  1.35</td></tr>\\n<tr><td style=\"text-align: right;\">   1.4 </td><td style=\"text-align: right;\"> 0.612245</td><td style=\"text-align: right;\"> 1.66667 </td><td style=\"text-align: right;\"> 0.909091</td><td style=\"text-align: right;\"> 2.57143 </td><td style=\"text-align: right;\"> 2.33333 </td><td style=\"text-align: right;\"> 1.27273 </td><td style=\"text-align: right;\">  4.2 </td><td style=\"text-align: right;\">  1.4 </td><td style=\"text-align: right;\">  1.4 </td></tr>\\n</tbody>\\n</table>'"
      ]
     },
     "metadata": {},
     "output_type": "display_data"
    },
    {
     "data": {
      "text/plain": [
       "'----------------------------------'"
      ]
     },
     "metadata": {},
     "output_type": "display_data"
    },
    {
     "data": {
      "image/png": "[encoded data removed]",
      "text/latex": [
       "$\\displaystyle E[T] = \\sum_{s=A}^{P} {E[T]}_{s} {v}_{s}$"
      ],
      "text/plain": [
       "         P               \n",
       "        ___              \n",
       "        ╲                \n",
       "         ╲               \n",
       "E[T] =   ╱   E[T][s]⋅v[s]\n",
       "        ╱                \n",
       "        ‾‾‾              \n",
       "       s = A             "
      ]
     },
     "metadata": {},
     "output_type": "display_data"
    },
    {
     "data": {
      "image/png": "[encoded data removed]",
      "text/latex": [
       "$\\displaystyle E[N] = \\gamma E[T]$"
      ],
      "text/plain": [
       "E[N] = γ⋅E[T]"
      ]
     },
     "metadata": {},
     "output_type": "display_data"
    },
    {
     "data": {
      "image/png": "[encoded data removed]",
      "text/latex": [
       "$\\displaystyle X = {X}_{A} {p}_{A,3}$"
      ],
      "text/plain": [
       "X = X[A]⋅p[A, 3]"
      ]
     },
     "metadata": {},
     "output_type": "display_data"
    },
    {
     "data": {
      "text/html": [
       "<table>\n",
       "<thead>\n",
       "<tr><th style=\"text-align: right;\">  gamma</th><th style=\"text-align: right;\">  E[T][S]</th><th style=\"text-align: right;\">  E[N][S]</th><th style=\"text-align: right;\">  X[S]</th></tr>\n",
       "</thead>\n",
       "<tbody>\n",
       "<tr><td style=\"text-align: right;\">   0.5 </td><td style=\"text-align: right;\">  1.85897</td><td style=\"text-align: right;\"> 0.929487</td><td style=\"text-align: right;\">  0.5 </td></tr>\n",
       "<tr><td style=\"text-align: right;\">   0.55</td><td style=\"text-align: right;\">  1.91961</td><td style=\"text-align: right;\"> 1.05578 </td><td style=\"text-align: right;\">  0.55</td></tr>\n",
       "<tr><td style=\"text-align: right;\">   0.6 </td><td style=\"text-align: right;\">  1.9844 </td><td style=\"text-align: right;\"> 1.19064 </td><td style=\"text-align: right;\">  0.6 </td></tr>\n",
       "<tr><td style=\"text-align: right;\">   0.65</td><td style=\"text-align: right;\">  2.05381</td><td style=\"text-align: right;\"> 1.33498 </td><td style=\"text-align: right;\">  0.65</td></tr>\n",
       "<tr><td style=\"text-align: right;\">   0.7 </td><td style=\"text-align: right;\">  2.12836</td><td style=\"text-align: right;\"> 1.48985 </td><td style=\"text-align: right;\">  0.7 </td></tr>\n",
       "<tr><td style=\"text-align: right;\">   0.75</td><td style=\"text-align: right;\">  2.20864</td><td style=\"text-align: right;\"> 1.65648 </td><td style=\"text-align: right;\">  0.75</td></tr>\n",
       "<tr><td style=\"text-align: right;\">   0.8 </td><td style=\"text-align: right;\">  2.29536</td><td style=\"text-align: right;\"> 1.83628 </td><td style=\"text-align: right;\">  0.8 </td></tr>\n",
       "<tr><td style=\"text-align: right;\">   0.85</td><td style=\"text-align: right;\">  2.38933</td><td style=\"text-align: right;\"> 2.03093 </td><td style=\"text-align: right;\">  0.85</td></tr>\n",
       "<tr><td style=\"text-align: right;\">   0.9 </td><td style=\"text-align: right;\">  2.49154</td><td style=\"text-align: right;\"> 2.24238 </td><td style=\"text-align: right;\">  0.9 </td></tr>\n",
       "<tr><td style=\"text-align: right;\">   0.95</td><td style=\"text-align: right;\">  2.60313</td><td style=\"text-align: right;\"> 2.47297 </td><td style=\"text-align: right;\">  0.95</td></tr>\n",
       "<tr><td style=\"text-align: right;\">   1   </td><td style=\"text-align: right;\">  2.72549</td><td style=\"text-align: right;\"> 2.72549 </td><td style=\"text-align: right;\">  1   </td></tr>\n",
       "<tr><td style=\"text-align: right;\">   1.05</td><td style=\"text-align: right;\">  2.8603 </td><td style=\"text-align: right;\"> 3.00331 </td><td style=\"text-align: right;\">  1.05</td></tr>\n",
       "<tr><td style=\"text-align: right;\">   1.1 </td><td style=\"text-align: right;\">  3.00961</td><td style=\"text-align: right;\"> 3.31057 </td><td style=\"text-align: right;\">  1.1 </td></tr>\n",
       "<tr><td style=\"text-align: right;\">   1.15</td><td style=\"text-align: right;\">  3.17595</td><td style=\"text-align: right;\"> 3.65235 </td><td style=\"text-align: right;\">  1.15</td></tr>\n",
       "<tr><td style=\"text-align: right;\">   1.2 </td><td style=\"text-align: right;\">  3.36251</td><td style=\"text-align: right;\"> 4.03502 </td><td style=\"text-align: right;\">  1.2 </td></tr>\n",
       "<tr><td style=\"text-align: right;\">   1.25</td><td style=\"text-align: right;\">  3.57333</td><td style=\"text-align: right;\"> 4.46667 </td><td style=\"text-align: right;\">  1.25</td></tr>\n",
       "<tr><td style=\"text-align: right;\">   1.3 </td><td style=\"text-align: right;\">  3.81363</td><td style=\"text-align: right;\"> 4.95772 </td><td style=\"text-align: right;\">  1.3 </td></tr>\n",
       "<tr><td style=\"text-align: right;\">   1.35</td><td style=\"text-align: right;\">  4.09027</td><td style=\"text-align: right;\"> 5.52186 </td><td style=\"text-align: right;\">  1.35</td></tr>\n",
       "<tr><td style=\"text-align: right;\">   1.4 </td><td style=\"text-align: right;\">  4.41249</td><td style=\"text-align: right;\"> 6.17749 </td><td style=\"text-align: right;\">  1.4 </td></tr>\n",
       "</tbody>\n",
       "</table>"
      ],
      "text/plain": [
       "'<table>\\n<thead>\\n<tr><th style=\"text-align: right;\">  gamma</th><th style=\"text-align: right;\">  E[T][S]</th><th style=\"text-align: right;\">  E[N][S]</th><th style=\"text-align: right;\">  X[S]</th></tr>\\n</thead>\\n<tbody>\\n<tr><td style=\"text-align: right;\">   0.5 </td><td style=\"text-align: right;\">  1.85897</td><td style=\"text-align: right;\"> 0.929487</td><td style=\"text-align: right;\">  0.5 </td></tr>\\n<tr><td style=\"text-align: right;\">   0.55</td><td style=\"text-align: right;\">  1.91961</td><td style=\"text-align: right;\"> 1.05578 </td><td style=\"text-align: right;\">  0.55</td></tr>\\n<tr><td style=\"text-align: right;\">   0.6 </td><td style=\"text-align: right;\">  1.9844 </td><td style=\"text-align: right;\"> 1.19064 </td><td style=\"text-align: right;\">  0.6 </td></tr>\\n<tr><td style=\"text-align: right;\">   0.65</td><td style=\"text-align: right;\">  2.05381</td><td style=\"text-align: right;\"> 1.33498 </td><td style=\"text-align: right;\">  0.65</td></tr>\\n<tr><td style=\"text-align: right;\">   0.7 </td><td style=\"text-align: right;\">  2.12836</td><td style=\"text-align: right;\"> 1.48985 </td><td style=\"text-align: right;\">  0.7 </td></tr>\\n<tr><td style=\"text-align: right;\">   0.75</td><td style=\"text-align: right;\">  2.20864</td><td style=\"text-align: right;\"> 1.65648 </td><td style=\"text-align: right;\">  0.75</td></tr>\\n<tr><td style=\"text-align: right;\">   0.8 </td><td style=\"text-align: right;\">  2.29536</td><td style=\"text-align: right;\"> 1.83628 </td><td style=\"text-align: right;\">  0.8 </td></tr>\\n<tr><td style=\"text-align: right;\">   0.85</td><td style=\"text-align: right;\">  2.38933</td><td style=\"text-align: right;\"> 2.03093 </td><td style=\"text-align: right;\">  0.85</td></tr>\\n<tr><td style=\"text-align: right;\">   0.9 </td><td style=\"text-align: right;\">  2.49154</td><td style=\"text-align: right;\"> 2.24238 </td><td style=\"text-align: right;\">  0.9 </td></tr>\\n<tr><td style=\"text-align: right;\">   0.95</td><td style=\"text-align: right;\">  2.60313</td><td style=\"text-align: right;\"> 2.47297 </td><td style=\"text-align: right;\">  0.95</td></tr>\\n<tr><td style=\"text-align: right;\">   1   </td><td style=\"text-align: right;\">  2.72549</td><td style=\"text-align: right;\"> 2.72549 </td><td style=\"text-align: right;\">  1   </td></tr>\\n<tr><td style=\"text-align: right;\">   1.05</td><td style=\"text-align: right;\">  2.8603 </td><td style=\"text-align: right;\"> 3.00331 </td><td style=\"text-align: right;\">  1.05</td></tr>\\n<tr><td style=\"text-align: right;\">   1.1 </td><td style=\"text-align: right;\">  3.00961</td><td style=\"text-align: right;\"> 3.31057 </td><td style=\"text-align: right;\">  1.1 </td></tr>\\n<tr><td style=\"text-align: right;\">   1.15</td><td style=\"text-align: right;\">  3.17595</td><td style=\"text-align: right;\"> 3.65235 </td><td style=\"text-align: right;\">  1.15</td></tr>\\n<tr><td style=\"text-align: right;\">   1.2 </td><td style=\"text-align: right;\">  3.36251</td><td style=\"text-align: right;\"> 4.03502 </td><td style=\"text-align: right;\">  1.2 </td></tr>\\n<tr><td style=\"text-align: right;\">   1.25</td><td style=\"text-align: right;\">  3.57333</td><td style=\"text-align: right;\"> 4.46667 </td><td style=\"text-align: right;\">  1.25</td></tr>\\n<tr><td style=\"text-align: right;\">   1.3 </td><td style=\"text-align: right;\">  3.81363</td><td style=\"text-align: right;\"> 4.95772 </td><td style=\"text-align: right;\">  1.3 </td></tr>\\n<tr><td style=\"text-align: right;\">   1.35</td><td style=\"text-align: right;\">  4.09027</td><td style=\"text-align: right;\"> 5.52186 </td><td style=\"text-align: right;\">  1.35</td></tr>\\n<tr><td style=\"text-align: right;\">   1.4 </td><td style=\"text-align: right;\">  4.41249</td><td style=\"text-align: right;\"> 6.17749 </td><td style=\"text-align: right;\">  1.4 </td></tr>\\n</tbody>\\n</table>'"
      ]
     },
     "metadata": {},
     "output_type": "display_data"
    },
    {
     "data": {
      "image/png": "[encoded data removed]",
      "text/latex": [
       "$\\displaystyle {\\mu}_{s} = \\sum_{c=1}^{3} {\\mu}_{s,c} {p}_{s,c}$"
      ],
      "text/plain": [
       "          3                   \n",
       "         ___                  \n",
       "         ╲                    \n",
       "          ╲                   \n",
       "mu[s] =   ╱   mu[s, c]⋅p[s, c]\n",
       "         ╱                    \n",
       "         ‾‾‾                  \n",
       "        c = 1                 "
      ]
     },
     "metadata": {},
     "output_type": "display_data"
    },
    {
     "data": {
      "text/plain": [
       "'----------------------------------'"
      ]
     },
     "metadata": {},
     "output_type": "display_data"
    },
    {
     "data": {
      "image/png": "[encoded data removed]",
      "text/latex": [
       "$\\displaystyle {\\mu}_{A} = 5.83333333333333$"
      ],
      "text/plain": [
       "mu[A] = 5.83333333333333"
      ]
     },
     "metadata": {},
     "output_type": "display_data"
    },
    {
     "data": {
      "image/png": "[encoded data removed]",
      "text/latex": [
       "$\\displaystyle {\\mu}_{B} = 2.5$"
      ],
      "text/plain": [
       "mu[B] = 2.5"
      ]
     },
     "metadata": {},
     "output_type": "display_data"
    },
    {
     "data": {
      "image/png": "[encoded data removed]",
      "text/latex": [
       "$\\displaystyle {\\mu}_{P} = 2.5$"
      ],
      "text/plain": [
       "mu[P] = 2.5"
      ]
     },
     "metadata": {},
     "output_type": "display_data"
    },
    {
     "data": {
      "text/plain": [
       "'----------------------------------'"
      ]
     },
     "metadata": {},
     "output_type": "display_data"
    },
    {
     "data": {
      "text/html": [
       "<table>\n",
       "<thead>\n",
       "<tr><th style=\"text-align: right;\">  gamma</th><th style=\"text-align: right;\">  rho[A]</th><th style=\"text-align: right;\">  rho[B]</th><th style=\"text-align: right;\">  rho[P]</th><th>stable  </th></tr>\n",
       "</thead>\n",
       "<tbody>\n",
       "<tr><td style=\"text-align: right;\">   0.5 </td><td style=\"text-align: right;\">0.257143</td><td style=\"text-align: right;\">    0.2 </td><td style=\"text-align: right;\">    0.2 </td><td>True    </td></tr>\n",
       "<tr><td style=\"text-align: right;\">   0.55</td><td style=\"text-align: right;\">0.282857</td><td style=\"text-align: right;\">    0.22</td><td style=\"text-align: right;\">    0.22</td><td>True    </td></tr>\n",
       "<tr><td style=\"text-align: right;\">   0.6 </td><td style=\"text-align: right;\">0.308571</td><td style=\"text-align: right;\">    0.24</td><td style=\"text-align: right;\">    0.24</td><td>True    </td></tr>\n",
       "<tr><td style=\"text-align: right;\">   0.65</td><td style=\"text-align: right;\">0.334286</td><td style=\"text-align: right;\">    0.26</td><td style=\"text-align: right;\">    0.26</td><td>True    </td></tr>\n",
       "<tr><td style=\"text-align: right;\">   0.7 </td><td style=\"text-align: right;\">0.36    </td><td style=\"text-align: right;\">    0.28</td><td style=\"text-align: right;\">    0.28</td><td>True    </td></tr>\n",
       "<tr><td style=\"text-align: right;\">   0.75</td><td style=\"text-align: right;\">0.385714</td><td style=\"text-align: right;\">    0.3 </td><td style=\"text-align: right;\">    0.3 </td><td>True    </td></tr>\n",
       "<tr><td style=\"text-align: right;\">   0.8 </td><td style=\"text-align: right;\">0.411429</td><td style=\"text-align: right;\">    0.32</td><td style=\"text-align: right;\">    0.32</td><td>True    </td></tr>\n",
       "<tr><td style=\"text-align: right;\">   0.85</td><td style=\"text-align: right;\">0.437143</td><td style=\"text-align: right;\">    0.34</td><td style=\"text-align: right;\">    0.34</td><td>True    </td></tr>\n",
       "<tr><td style=\"text-align: right;\">   0.9 </td><td style=\"text-align: right;\">0.462857</td><td style=\"text-align: right;\">    0.36</td><td style=\"text-align: right;\">    0.36</td><td>True    </td></tr>\n",
       "<tr><td style=\"text-align: right;\">   0.95</td><td style=\"text-align: right;\">0.488571</td><td style=\"text-align: right;\">    0.38</td><td style=\"text-align: right;\">    0.38</td><td>True    </td></tr>\n",
       "<tr><td style=\"text-align: right;\">   1   </td><td style=\"text-align: right;\">0.514286</td><td style=\"text-align: right;\">    0.4 </td><td style=\"text-align: right;\">    0.4 </td><td>True    </td></tr>\n",
       "<tr><td style=\"text-align: right;\">   1.05</td><td style=\"text-align: right;\">0.54    </td><td style=\"text-align: right;\">    0.42</td><td style=\"text-align: right;\">    0.42</td><td>True    </td></tr>\n",
       "<tr><td style=\"text-align: right;\">   1.1 </td><td style=\"text-align: right;\">0.565714</td><td style=\"text-align: right;\">    0.44</td><td style=\"text-align: right;\">    0.44</td><td>True    </td></tr>\n",
       "<tr><td style=\"text-align: right;\">   1.15</td><td style=\"text-align: right;\">0.591429</td><td style=\"text-align: right;\">    0.46</td><td style=\"text-align: right;\">    0.46</td><td>True    </td></tr>\n",
       "<tr><td style=\"text-align: right;\">   1.2 </td><td style=\"text-align: right;\">0.617143</td><td style=\"text-align: right;\">    0.48</td><td style=\"text-align: right;\">    0.48</td><td>True    </td></tr>\n",
       "<tr><td style=\"text-align: right;\">   1.25</td><td style=\"text-align: right;\">0.642857</td><td style=\"text-align: right;\">    0.5 </td><td style=\"text-align: right;\">    0.5 </td><td>True    </td></tr>\n",
       "<tr><td style=\"text-align: right;\">   1.3 </td><td style=\"text-align: right;\">0.668571</td><td style=\"text-align: right;\">    0.52</td><td style=\"text-align: right;\">    0.52</td><td>True    </td></tr>\n",
       "<tr><td style=\"text-align: right;\">   1.35</td><td style=\"text-align: right;\">0.694286</td><td style=\"text-align: right;\">    0.54</td><td style=\"text-align: right;\">    0.54</td><td>True    </td></tr>\n",
       "<tr><td style=\"text-align: right;\">   1.4 </td><td style=\"text-align: right;\">0.72    </td><td style=\"text-align: right;\">    0.56</td><td style=\"text-align: right;\">    0.56</td><td>True    </td></tr>\n",
       "</tbody>\n",
       "</table>"
      ],
      "text/plain": [
       "'<table>\\n<thead>\\n<tr><th style=\"text-align: right;\">  gamma</th><th style=\"text-align: right;\">  rho[A]</th><th style=\"text-align: right;\">  rho[B]</th><th style=\"text-align: right;\">  rho[P]</th><th>stable  </th></tr>\\n</thead>\\n<tbody>\\n<tr><td style=\"text-align: right;\">   0.5 </td><td style=\"text-align: right;\">0.257143</td><td style=\"text-align: right;\">    0.2 </td><td style=\"text-align: right;\">    0.2 </td><td>True    </td></tr>\\n<tr><td style=\"text-align: right;\">   0.55</td><td style=\"text-align: right;\">0.282857</td><td style=\"text-align: right;\">    0.22</td><td style=\"text-align: right;\">    0.22</td><td>True    </td></tr>\\n<tr><td style=\"text-align: right;\">   0.6 </td><td style=\"text-align: right;\">0.308571</td><td style=\"text-align: right;\">    0.24</td><td style=\"text-align: right;\">    0.24</td><td>True    </td></tr>\\n<tr><td style=\"text-align: right;\">   0.65</td><td style=\"text-align: right;\">0.334286</td><td style=\"text-align: right;\">    0.26</td><td style=\"text-align: right;\">    0.26</td><td>True    </td></tr>\\n<tr><td style=\"text-align: right;\">   0.7 </td><td style=\"text-align: right;\">0.36    </td><td style=\"text-align: right;\">    0.28</td><td style=\"text-align: right;\">    0.28</td><td>True    </td></tr>\\n<tr><td style=\"text-align: right;\">   0.75</td><td style=\"text-align: right;\">0.385714</td><td style=\"text-align: right;\">    0.3 </td><td style=\"text-align: right;\">    0.3 </td><td>True    </td></tr>\\n<tr><td style=\"text-align: right;\">   0.8 </td><td style=\"text-align: right;\">0.411429</td><td style=\"text-align: right;\">    0.32</td><td style=\"text-align: right;\">    0.32</td><td>True    </td></tr>\\n<tr><td style=\"text-align: right;\">   0.85</td><td style=\"text-align: right;\">0.437143</td><td style=\"text-align: right;\">    0.34</td><td style=\"text-align: right;\">    0.34</td><td>True    </td></tr>\\n<tr><td style=\"text-align: right;\">   0.9 </td><td style=\"text-align: right;\">0.462857</td><td style=\"text-align: right;\">    0.36</td><td style=\"text-align: right;\">    0.36</td><td>True    </td></tr>\\n<tr><td style=\"text-align: right;\">   0.95</td><td style=\"text-align: right;\">0.488571</td><td style=\"text-align: right;\">    0.38</td><td style=\"text-align: right;\">    0.38</td><td>True    </td></tr>\\n<tr><td style=\"text-align: right;\">   1   </td><td style=\"text-align: right;\">0.514286</td><td style=\"text-align: right;\">    0.4 </td><td style=\"text-align: right;\">    0.4 </td><td>True    </td></tr>\\n<tr><td style=\"text-align: right;\">   1.05</td><td style=\"text-align: right;\">0.54    </td><td style=\"text-align: right;\">    0.42</td><td style=\"text-align: right;\">    0.42</td><td>True    </td></tr>\\n<tr><td style=\"text-align: right;\">   1.1 </td><td style=\"text-align: right;\">0.565714</td><td style=\"text-align: right;\">    0.44</td><td style=\"text-align: right;\">    0.44</td><td>True    </td></tr>\\n<tr><td style=\"text-align: right;\">   1.15</td><td style=\"text-align: right;\">0.591429</td><td style=\"text-align: right;\">    0.46</td><td style=\"text-align: right;\">    0.46</td><td>True    </td></tr>\\n<tr><td style=\"text-align: right;\">   1.2 </td><td style=\"text-align: right;\">0.617143</td><td style=\"text-align: right;\">    0.48</td><td style=\"text-align: right;\">    0.48</td><td>True    </td></tr>\\n<tr><td style=\"text-align: right;\">   1.25</td><td style=\"text-align: right;\">0.642857</td><td style=\"text-align: right;\">    0.5 </td><td style=\"text-align: right;\">    0.5 </td><td>True    </td></tr>\\n<tr><td style=\"text-align: right;\">   1.3 </td><td style=\"text-align: right;\">0.668571</td><td style=\"text-align: right;\">    0.52</td><td style=\"text-align: right;\">    0.52</td><td>True    </td></tr>\\n<tr><td style=\"text-align: right;\">   1.35</td><td style=\"text-align: right;\">0.694286</td><td style=\"text-align: right;\">    0.54</td><td style=\"text-align: right;\">    0.54</td><td>True    </td></tr>\\n<tr><td style=\"text-align: right;\">   1.4 </td><td style=\"text-align: right;\">0.72    </td><td style=\"text-align: right;\">    0.56</td><td style=\"text-align: right;\">    0.56</td><td>True    </td></tr>\\n</tbody>\\n</table>'"
      ]
     },
     "metadata": {},
     "output_type": "display_data"
    },
    {
     "data": {
      "text/plain": [
       "'----------------------------------'"
      ]
     },
     "metadata": {},
     "output_type": "display_data"
    },
    {
     "data": {
      "image/png": "[encoded data removed]",
      "text/latex": [
       "$\\displaystyle {E[T]}_{s} = \\frac{1}{\\left(1 - {\\rho}_{s}\\right) {\\mu}_{s}}$"
      ],
      "text/plain": [
       "                  1         \n",
       "E[T][s] = ──────────────────\n",
       "          (1 - rho[s])⋅mu[s]"
      ]
     },
     "metadata": {},
     "output_type": "display_data"
    },
    {
     "data": {
      "image/png": "[encoded data removed]",
      "text/latex": [
       "$\\displaystyle {E[N]}_{s} = {E[T]}_{s} {\\lambda}_{s}$"
      ],
      "text/plain": [
       "E[N][s] = E[T][s]⋅lambda[s]"
      ]
     },
     "metadata": {},
     "output_type": "display_data"
    },
    {
     "data": {
      "image/png": "[encoded data removed]",
      "text/latex": [
       "$\\displaystyle \\left\\{ {X}_{A} : 3 \\gamma, \\  {X}_{B} : \\gamma, \\  {X}_{P} : \\gamma\\right\\}$"
      ],
      "text/plain": [
       "{X[A]: 3⋅γ, X[B]: γ, X[P]: γ}"
      ]
     },
     "metadata": {},
     "output_type": "display_data"
    },
    {
     "data": {
      "text/html": [
       "<table>\n",
       "<thead>\n",
       "<tr><th style=\"text-align: right;\">  gamma</th><th style=\"text-align: right;\">  E[T][A]</th><th style=\"text-align: right;\">  E[T][B]</th><th style=\"text-align: right;\">  E[T][P]</th><th style=\"text-align: right;\">  E[N][A]</th><th style=\"text-align: right;\">  E[N][B]</th><th style=\"text-align: right;\">  E[N][P]</th><th style=\"text-align: right;\">  X[A]</th><th style=\"text-align: right;\">  X[B]</th><th style=\"text-align: right;\">  X[P]</th></tr>\n",
       "</thead>\n",
       "<tbody>\n",
       "<tr><td style=\"text-align: right;\">   0.5 </td><td style=\"text-align: right;\"> 0.230769</td><td style=\"text-align: right;\"> 0.5     </td><td style=\"text-align: right;\"> 0.5     </td><td style=\"text-align: right;\"> 0.346154</td><td style=\"text-align: right;\"> 0.25    </td><td style=\"text-align: right;\"> 0.25    </td><td style=\"text-align: right;\">  1.5 </td><td style=\"text-align: right;\">  0.5 </td><td style=\"text-align: right;\">  0.5 </td></tr>\n",
       "<tr><td style=\"text-align: right;\">   0.55</td><td style=\"text-align: right;\"> 0.239044</td><td style=\"text-align: right;\"> 0.512821</td><td style=\"text-align: right;\"> 0.512821</td><td style=\"text-align: right;\"> 0.394422</td><td style=\"text-align: right;\"> 0.282051</td><td style=\"text-align: right;\"> 0.282051</td><td style=\"text-align: right;\">  1.65</td><td style=\"text-align: right;\">  0.55</td><td style=\"text-align: right;\">  0.55</td></tr>\n",
       "<tr><td style=\"text-align: right;\">   0.6 </td><td style=\"text-align: right;\"> 0.247934</td><td style=\"text-align: right;\"> 0.526316</td><td style=\"text-align: right;\"> 0.526316</td><td style=\"text-align: right;\"> 0.446281</td><td style=\"text-align: right;\"> 0.315789</td><td style=\"text-align: right;\"> 0.315789</td><td style=\"text-align: right;\">  1.8 </td><td style=\"text-align: right;\">  0.6 </td><td style=\"text-align: right;\">  0.6 </td></tr>\n",
       "<tr><td style=\"text-align: right;\">   0.65</td><td style=\"text-align: right;\"> 0.257511</td><td style=\"text-align: right;\"> 0.540541</td><td style=\"text-align: right;\"> 0.540541</td><td style=\"text-align: right;\"> 0.502146</td><td style=\"text-align: right;\"> 0.351351</td><td style=\"text-align: right;\"> 0.351351</td><td style=\"text-align: right;\">  1.95</td><td style=\"text-align: right;\">  0.65</td><td style=\"text-align: right;\">  0.65</td></tr>\n",
       "<tr><td style=\"text-align: right;\">   0.7 </td><td style=\"text-align: right;\"> 0.267857</td><td style=\"text-align: right;\"> 0.555556</td><td style=\"text-align: right;\"> 0.555556</td><td style=\"text-align: right;\"> 0.5625  </td><td style=\"text-align: right;\"> 0.388889</td><td style=\"text-align: right;\"> 0.388889</td><td style=\"text-align: right;\">  2.1 </td><td style=\"text-align: right;\">  0.7 </td><td style=\"text-align: right;\">  0.7 </td></tr>\n",
       "<tr><td style=\"text-align: right;\">   0.75</td><td style=\"text-align: right;\"> 0.27907 </td><td style=\"text-align: right;\"> 0.571429</td><td style=\"text-align: right;\"> 0.571429</td><td style=\"text-align: right;\"> 0.627907</td><td style=\"text-align: right;\"> 0.428571</td><td style=\"text-align: right;\"> 0.428571</td><td style=\"text-align: right;\">  2.25</td><td style=\"text-align: right;\">  0.75</td><td style=\"text-align: right;\">  0.75</td></tr>\n",
       "<tr><td style=\"text-align: right;\">   0.8 </td><td style=\"text-align: right;\"> 0.291262</td><td style=\"text-align: right;\"> 0.588235</td><td style=\"text-align: right;\"> 0.588235</td><td style=\"text-align: right;\"> 0.699029</td><td style=\"text-align: right;\"> 0.470588</td><td style=\"text-align: right;\"> 0.470588</td><td style=\"text-align: right;\">  2.4 </td><td style=\"text-align: right;\">  0.8 </td><td style=\"text-align: right;\">  0.8 </td></tr>\n",
       "<tr><td style=\"text-align: right;\">   0.85</td><td style=\"text-align: right;\"> 0.304569</td><td style=\"text-align: right;\"> 0.606061</td><td style=\"text-align: right;\"> 0.606061</td><td style=\"text-align: right;\"> 0.77665 </td><td style=\"text-align: right;\"> 0.515152</td><td style=\"text-align: right;\"> 0.515152</td><td style=\"text-align: right;\">  2.55</td><td style=\"text-align: right;\">  0.85</td><td style=\"text-align: right;\">  0.85</td></tr>\n",
       "<tr><td style=\"text-align: right;\">   0.9 </td><td style=\"text-align: right;\"> 0.319149</td><td style=\"text-align: right;\"> 0.625   </td><td style=\"text-align: right;\"> 0.625   </td><td style=\"text-align: right;\"> 0.861702</td><td style=\"text-align: right;\"> 0.5625  </td><td style=\"text-align: right;\"> 0.5625  </td><td style=\"text-align: right;\">  2.7 </td><td style=\"text-align: right;\">  0.9 </td><td style=\"text-align: right;\">  0.9 </td></tr>\n",
       "<tr><td style=\"text-align: right;\">   0.95</td><td style=\"text-align: right;\"> 0.335196</td><td style=\"text-align: right;\"> 0.645161</td><td style=\"text-align: right;\"> 0.645161</td><td style=\"text-align: right;\"> 0.955307</td><td style=\"text-align: right;\"> 0.612903</td><td style=\"text-align: right;\"> 0.612903</td><td style=\"text-align: right;\">  2.85</td><td style=\"text-align: right;\">  0.95</td><td style=\"text-align: right;\">  0.95</td></tr>\n",
       "<tr><td style=\"text-align: right;\">   1   </td><td style=\"text-align: right;\"> 0.352941</td><td style=\"text-align: right;\"> 0.666667</td><td style=\"text-align: right;\"> 0.666667</td><td style=\"text-align: right;\"> 1.05882 </td><td style=\"text-align: right;\"> 0.666667</td><td style=\"text-align: right;\"> 0.666667</td><td style=\"text-align: right;\">  3   </td><td style=\"text-align: right;\">  1   </td><td style=\"text-align: right;\">  1   </td></tr>\n",
       "<tr><td style=\"text-align: right;\">   1.05</td><td style=\"text-align: right;\"> 0.372671</td><td style=\"text-align: right;\"> 0.689655</td><td style=\"text-align: right;\"> 0.689655</td><td style=\"text-align: right;\"> 1.17391 </td><td style=\"text-align: right;\"> 0.724138</td><td style=\"text-align: right;\"> 0.724138</td><td style=\"text-align: right;\">  3.15</td><td style=\"text-align: right;\">  1.05</td><td style=\"text-align: right;\">  1.05</td></tr>\n",
       "<tr><td style=\"text-align: right;\">   1.1 </td><td style=\"text-align: right;\"> 0.394737</td><td style=\"text-align: right;\"> 0.714286</td><td style=\"text-align: right;\"> 0.714286</td><td style=\"text-align: right;\"> 1.30263 </td><td style=\"text-align: right;\"> 0.785714</td><td style=\"text-align: right;\"> 0.785714</td><td style=\"text-align: right;\">  3.3 </td><td style=\"text-align: right;\">  1.1 </td><td style=\"text-align: right;\">  1.1 </td></tr>\n",
       "<tr><td style=\"text-align: right;\">   1.15</td><td style=\"text-align: right;\"> 0.41958 </td><td style=\"text-align: right;\"> 0.740741</td><td style=\"text-align: right;\"> 0.740741</td><td style=\"text-align: right;\"> 1.44755 </td><td style=\"text-align: right;\"> 0.851852</td><td style=\"text-align: right;\"> 0.851852</td><td style=\"text-align: right;\">  3.45</td><td style=\"text-align: right;\">  1.15</td><td style=\"text-align: right;\">  1.15</td></tr>\n",
       "<tr><td style=\"text-align: right;\">   1.2 </td><td style=\"text-align: right;\"> 0.447761</td><td style=\"text-align: right;\"> 0.769231</td><td style=\"text-align: right;\"> 0.769231</td><td style=\"text-align: right;\"> 1.61194 </td><td style=\"text-align: right;\"> 0.923077</td><td style=\"text-align: right;\"> 0.923077</td><td style=\"text-align: right;\">  3.6 </td><td style=\"text-align: right;\">  1.2 </td><td style=\"text-align: right;\">  1.2 </td></tr>\n",
       "<tr><td style=\"text-align: right;\">   1.25</td><td style=\"text-align: right;\"> 0.48    </td><td style=\"text-align: right;\"> 0.8     </td><td style=\"text-align: right;\"> 0.8     </td><td style=\"text-align: right;\"> 1.8     </td><td style=\"text-align: right;\"> 1       </td><td style=\"text-align: right;\"> 1       </td><td style=\"text-align: right;\">  3.75</td><td style=\"text-align: right;\">  1.25</td><td style=\"text-align: right;\">  1.25</td></tr>\n",
       "<tr><td style=\"text-align: right;\">   1.3 </td><td style=\"text-align: right;\"> 0.517241</td><td style=\"text-align: right;\"> 0.833333</td><td style=\"text-align: right;\"> 0.833333</td><td style=\"text-align: right;\"> 2.01724 </td><td style=\"text-align: right;\"> 1.08333 </td><td style=\"text-align: right;\"> 1.08333 </td><td style=\"text-align: right;\">  3.9 </td><td style=\"text-align: right;\">  1.3 </td><td style=\"text-align: right;\">  1.3 </td></tr>\n",
       "<tr><td style=\"text-align: right;\">   1.35</td><td style=\"text-align: right;\"> 0.560748</td><td style=\"text-align: right;\"> 0.869565</td><td style=\"text-align: right;\"> 0.869565</td><td style=\"text-align: right;\"> 2.27103 </td><td style=\"text-align: right;\"> 1.17391 </td><td style=\"text-align: right;\"> 1.17391 </td><td style=\"text-align: right;\">  4.05</td><td style=\"text-align: right;\">  1.35</td><td style=\"text-align: right;\">  1.35</td></tr>\n",
       "<tr><td style=\"text-align: right;\">   1.4 </td><td style=\"text-align: right;\"> 0.612245</td><td style=\"text-align: right;\"> 0.909091</td><td style=\"text-align: right;\"> 0.909091</td><td style=\"text-align: right;\"> 2.57143 </td><td style=\"text-align: right;\"> 1.27273 </td><td style=\"text-align: right;\"> 1.27273 </td><td style=\"text-align: right;\">  4.2 </td><td style=\"text-align: right;\">  1.4 </td><td style=\"text-align: right;\">  1.4 </td></tr>\n",
       "</tbody>\n",
       "</table>"
      ],
      "text/plain": [
       "'<table>\\n<thead>\\n<tr><th style=\"text-align: right;\">  gamma</th><th style=\"text-align: right;\">  E[T][A]</th><th style=\"text-align: right;\">  E[T][B]</th><th style=\"text-align: right;\">  E[T][P]</th><th style=\"text-align: right;\">  E[N][A]</th><th style=\"text-align: right;\">  E[N][B]</th><th style=\"text-align: right;\">  E[N][P]</th><th style=\"text-align: right;\">  X[A]</th><th style=\"text-align: right;\">  X[B]</th><th style=\"text-align: right;\">  X[P]</th></tr>\\n</thead>\\n<tbody>\\n<tr><td style=\"text-align: right;\">   0.5 </td><td style=\"text-align: right;\"> 0.230769</td><td style=\"text-align: right;\"> 0.5     </td><td style=\"text-align: right;\"> 0.5     </td><td style=\"text-align: right;\"> 0.346154</td><td style=\"text-align: right;\"> 0.25    </td><td style=\"text-align: right;\"> 0.25    </td><td style=\"text-align: right;\">  1.5 </td><td style=\"text-align: right;\">  0.5 </td><td style=\"text-align: right;\">  0.5 </td></tr>\\n<tr><td style=\"text-align: right;\">   0.55</td><td style=\"text-align: right;\"> 0.239044</td><td style=\"text-align: right;\"> 0.512821</td><td style=\"text-align: right;\"> 0.512821</td><td style=\"text-align: right;\"> 0.394422</td><td style=\"text-align: right;\"> 0.282051</td><td style=\"text-align: right;\"> 0.282051</td><td style=\"text-align: right;\">  1.65</td><td style=\"text-align: right;\">  0.55</td><td style=\"text-align: right;\">  0.55</td></tr>\\n<tr><td style=\"text-align: right;\">   0.6 </td><td style=\"text-align: right;\"> 0.247934</td><td style=\"text-align: right;\"> 0.526316</td><td style=\"text-align: right;\"> 0.526316</td><td style=\"text-align: right;\"> 0.446281</td><td style=\"text-align: right;\"> 0.315789</td><td style=\"text-align: right;\"> 0.315789</td><td style=\"text-align: right;\">  1.8 </td><td style=\"text-align: right;\">  0.6 </td><td style=\"text-align: right;\">  0.6 </td></tr>\\n<tr><td style=\"text-align: right;\">   0.65</td><td style=\"text-align: right;\"> 0.257511</td><td style=\"text-align: right;\"> 0.540541</td><td style=\"text-align: right;\"> 0.540541</td><td style=\"text-align: right;\"> 0.502146</td><td style=\"text-align: right;\"> 0.351351</td><td style=\"text-align: right;\"> 0.351351</td><td style=\"text-align: right;\">  1.95</td><td style=\"text-align: right;\">  0.65</td><td style=\"text-align: right;\">  0.65</td></tr>\\n<tr><td style=\"text-align: right;\">   0.7 </td><td style=\"text-align: right;\"> 0.267857</td><td style=\"text-align: right;\"> 0.555556</td><td style=\"text-align: right;\"> 0.555556</td><td style=\"text-align: right;\"> 0.5625  </td><td style=\"text-align: right;\"> 0.388889</td><td style=\"text-align: right;\"> 0.388889</td><td style=\"text-align: right;\">  2.1 </td><td style=\"text-align: right;\">  0.7 </td><td style=\"text-align: right;\">  0.7 </td></tr>\\n<tr><td style=\"text-align: right;\">   0.75</td><td style=\"text-align: right;\"> 0.27907 </td><td style=\"text-align: right;\"> 0.571429</td><td style=\"text-align: right;\"> 0.571429</td><td style=\"text-align: right;\"> 0.627907</td><td style=\"text-align: right;\"> 0.428571</td><td style=\"text-align: right;\"> 0.428571</td><td style=\"text-align: right;\">  2.25</td><td style=\"text-align: right;\">  0.75</td><td style=\"text-align: right;\">  0.75</td></tr>\\n<tr><td style=\"text-align: right;\">   0.8 </td><td style=\"text-align: right;\"> 0.291262</td><td style=\"text-align: right;\"> 0.588235</td><td style=\"text-align: right;\"> 0.588235</td><td style=\"text-align: right;\"> 0.699029</td><td style=\"text-align: right;\"> 0.470588</td><td style=\"text-align: right;\"> 0.470588</td><td style=\"text-align: right;\">  2.4 </td><td style=\"text-align: right;\">  0.8 </td><td style=\"text-align: right;\">  0.8 </td></tr>\\n<tr><td style=\"text-align: right;\">   0.85</td><td style=\"text-align: right;\"> 0.304569</td><td style=\"text-align: right;\"> 0.606061</td><td style=\"text-align: right;\"> 0.606061</td><td style=\"text-align: right;\"> 0.77665 </td><td style=\"text-align: right;\"> 0.515152</td><td style=\"text-align: right;\"> 0.515152</td><td style=\"text-align: right;\">  2.55</td><td style=\"text-align: right;\">  0.85</td><td style=\"text-align: right;\">  0.85</td></tr>\\n<tr><td style=\"text-align: right;\">   0.9 </td><td style=\"text-align: right;\"> 0.319149</td><td style=\"text-align: right;\"> 0.625   </td><td style=\"text-align: right;\"> 0.625   </td><td style=\"text-align: right;\"> 0.861702</td><td style=\"text-align: right;\"> 0.5625  </td><td style=\"text-align: right;\"> 0.5625  </td><td style=\"text-align: right;\">  2.7 </td><td style=\"text-align: right;\">  0.9 </td><td style=\"text-align: right;\">  0.9 </td></tr>\\n<tr><td style=\"text-align: right;\">   0.95</td><td style=\"text-align: right;\"> 0.335196</td><td style=\"text-align: right;\"> 0.645161</td><td style=\"text-align: right;\"> 0.645161</td><td style=\"text-align: right;\"> 0.955307</td><td style=\"text-align: right;\"> 0.612903</td><td style=\"text-align: right;\"> 0.612903</td><td style=\"text-align: right;\">  2.85</td><td style=\"text-align: right;\">  0.95</td><td style=\"text-align: right;\">  0.95</td></tr>\\n<tr><td style=\"text-align: right;\">   1   </td><td style=\"text-align: right;\"> 0.352941</td><td style=\"text-align: right;\"> 0.666667</td><td style=\"text-align: right;\"> 0.666667</td><td style=\"text-align: right;\"> 1.05882 </td><td style=\"text-align: right;\"> 0.666667</td><td style=\"text-align: right;\"> 0.666667</td><td style=\"text-align: right;\">  3   </td><td style=\"text-align: right;\">  1   </td><td style=\"text-align: right;\">  1   </td></tr>\\n<tr><td style=\"text-align: right;\">   1.05</td><td style=\"text-align: right;\"> 0.372671</td><td style=\"text-align: right;\"> 0.689655</td><td style=\"text-align: right;\"> 0.689655</td><td style=\"text-align: right;\"> 1.17391 </td><td style=\"text-align: right;\"> 0.724138</td><td style=\"text-align: right;\"> 0.724138</td><td style=\"text-align: right;\">  3.15</td><td style=\"text-align: right;\">  1.05</td><td style=\"text-align: right;\">  1.05</td></tr>\\n<tr><td style=\"text-align: right;\">   1.1 </td><td style=\"text-align: right;\"> 0.394737</td><td style=\"text-align: right;\"> 0.714286</td><td style=\"text-align: right;\"> 0.714286</td><td style=\"text-align: right;\"> 1.30263 </td><td style=\"text-align: right;\"> 0.785714</td><td style=\"text-align: right;\"> 0.785714</td><td style=\"text-align: right;\">  3.3 </td><td style=\"text-align: right;\">  1.1 </td><td style=\"text-align: right;\">  1.1 </td></tr>\\n<tr><td style=\"text-align: right;\">   1.15</td><td style=\"text-align: right;\"> 0.41958 </td><td style=\"text-align: right;\"> 0.740741</td><td style=\"text-align: right;\"> 0.740741</td><td style=\"text-align: right;\"> 1.44755 </td><td style=\"text-align: right;\"> 0.851852</td><td style=\"text-align: right;\"> 0.851852</td><td style=\"text-align: right;\">  3.45</td><td style=\"text-align: right;\">  1.15</td><td style=\"text-align: right;\">  1.15</td></tr>\\n<tr><td style=\"text-align: right;\">   1.2 </td><td style=\"text-align: right;\"> 0.447761</td><td style=\"text-align: right;\"> 0.769231</td><td style=\"text-align: right;\"> 0.769231</td><td style=\"text-align: right;\"> 1.61194 </td><td style=\"text-align: right;\"> 0.923077</td><td style=\"text-align: right;\"> 0.923077</td><td style=\"text-align: right;\">  3.6 </td><td style=\"text-align: right;\">  1.2 </td><td style=\"text-align: right;\">  1.2 </td></tr>\\n<tr><td style=\"text-align: right;\">   1.25</td><td style=\"text-align: right;\"> 0.48    </td><td style=\"text-align: right;\"> 0.8     </td><td style=\"text-align: right;\"> 0.8     </td><td style=\"text-align: right;\"> 1.8     </td><td style=\"text-align: right;\"> 1       </td><td style=\"text-align: right;\"> 1       </td><td style=\"text-align: right;\">  3.75</td><td style=\"text-align: right;\">  1.25</td><td style=\"text-align: right;\">  1.25</td></tr>\\n<tr><td style=\"text-align: right;\">   1.3 </td><td style=\"text-align: right;\"> 0.517241</td><td style=\"text-align: right;\"> 0.833333</td><td style=\"text-align: right;\"> 0.833333</td><td style=\"text-align: right;\"> 2.01724 </td><td style=\"text-align: right;\"> 1.08333 </td><td style=\"text-align: right;\"> 1.08333 </td><td style=\"text-align: right;\">  3.9 </td><td style=\"text-align: right;\">  1.3 </td><td style=\"text-align: right;\">  1.3 </td></tr>\\n<tr><td style=\"text-align: right;\">   1.35</td><td style=\"text-align: right;\"> 0.560748</td><td style=\"text-align: right;\"> 0.869565</td><td style=\"text-align: right;\"> 0.869565</td><td style=\"text-align: right;\"> 2.27103 </td><td style=\"text-align: right;\"> 1.17391 </td><td style=\"text-align: right;\"> 1.17391 </td><td style=\"text-align: right;\">  4.05</td><td style=\"text-align: right;\">  1.35</td><td style=\"text-align: right;\">  1.35</td></tr>\\n<tr><td style=\"text-align: right;\">   1.4 </td><td style=\"text-align: right;\"> 0.612245</td><td style=\"text-align: right;\"> 0.909091</td><td style=\"text-align: right;\"> 0.909091</td><td style=\"text-align: right;\"> 2.57143 </td><td style=\"text-align: right;\"> 1.27273 </td><td style=\"text-align: right;\"> 1.27273 </td><td style=\"text-align: right;\">  4.2 </td><td style=\"text-align: right;\">  1.4 </td><td style=\"text-align: right;\">  1.4 </td></tr>\\n</tbody>\\n</table>'"
      ]
     },
     "metadata": {},
     "output_type": "display_data"
    },
    {
     "data": {
      "text/plain": [
       "'----------------------------------'"
      ]
     },
     "metadata": {},
     "output_type": "display_data"
    },
    {
     "data": {
      "image/png": "[encoded data removed]",
      "text/latex": [
       "$\\displaystyle E[T] = \\sum_{s=A}^{P} {E[T]}_{s} {v}_{s}$"
      ],
      "text/plain": [
       "         P               \n",
       "        ___              \n",
       "        ╲                \n",
       "         ╲               \n",
       "E[T] =   ╱   E[T][s]⋅v[s]\n",
       "        ╱                \n",
       "        ‾‾‾              \n",
       "       s = A             "
      ]
     },
     "metadata": {},
     "output_type": "display_data"
    },
    {
     "data": {
      "image/png": "[encoded data removed]",
      "text/latex": [
       "$\\displaystyle E[N] = \\gamma E[T]$"
      ],
      "text/plain": [
       "E[N] = γ⋅E[T]"
      ]
     },
     "metadata": {},
     "output_type": "display_data"
    },
    {
     "data": {
      "image/png": "[encoded data removed]",
      "text/latex": [
       "$\\displaystyle X = {X}_{A} {p}_{A,3}$"
      ],
      "text/plain": [
       "X = X[A]⋅p[A, 3]"
      ]
     },
     "metadata": {},
     "output_type": "display_data"
    },
    {
     "data": {
      "text/html": [
       "<table>\n",
       "<thead>\n",
       "<tr><th style=\"text-align: right;\">  gamma</th><th style=\"text-align: right;\">  E[T][S]</th><th style=\"text-align: right;\">  E[N][S]</th><th style=\"text-align: right;\">  X[S]</th></tr>\n",
       "</thead>\n",
       "<tbody>\n",
       "<tr><td style=\"text-align: right;\">   0.5 </td><td style=\"text-align: right;\">  1.69231</td><td style=\"text-align: right;\"> 0.846154</td><td style=\"text-align: right;\">  0.5 </td></tr>\n",
       "<tr><td style=\"text-align: right;\">   0.55</td><td style=\"text-align: right;\">  1.74277</td><td style=\"text-align: right;\"> 0.958525</td><td style=\"text-align: right;\">  0.55</td></tr>\n",
       "<tr><td style=\"text-align: right;\">   0.6 </td><td style=\"text-align: right;\">  1.79643</td><td style=\"text-align: right;\"> 1.07786 </td><td style=\"text-align: right;\">  0.6 </td></tr>\n",
       "<tr><td style=\"text-align: right;\">   0.65</td><td style=\"text-align: right;\">  1.85361</td><td style=\"text-align: right;\"> 1.20485 </td><td style=\"text-align: right;\">  0.65</td></tr>\n",
       "<tr><td style=\"text-align: right;\">   0.7 </td><td style=\"text-align: right;\">  1.91468</td><td style=\"text-align: right;\"> 1.34028 </td><td style=\"text-align: right;\">  0.7 </td></tr>\n",
       "<tr><td style=\"text-align: right;\">   0.75</td><td style=\"text-align: right;\">  1.98007</td><td style=\"text-align: right;\"> 1.48505 </td><td style=\"text-align: right;\">  0.75</td></tr>\n",
       "<tr><td style=\"text-align: right;\">   0.8 </td><td style=\"text-align: right;\">  2.05026</td><td style=\"text-align: right;\"> 1.64021 </td><td style=\"text-align: right;\">  0.8 </td></tr>\n",
       "<tr><td style=\"text-align: right;\">   0.85</td><td style=\"text-align: right;\">  2.12583</td><td style=\"text-align: right;\"> 1.80695 </td><td style=\"text-align: right;\">  0.85</td></tr>\n",
       "<tr><td style=\"text-align: right;\">   0.9 </td><td style=\"text-align: right;\">  2.20745</td><td style=\"text-align: right;\"> 1.9867  </td><td style=\"text-align: right;\">  0.9 </td></tr>\n",
       "<tr><td style=\"text-align: right;\">   0.95</td><td style=\"text-align: right;\">  2.29591</td><td style=\"text-align: right;\"> 2.18111 </td><td style=\"text-align: right;\">  0.95</td></tr>\n",
       "<tr><td style=\"text-align: right;\">   1   </td><td style=\"text-align: right;\">  2.39216</td><td style=\"text-align: right;\"> 2.39216 </td><td style=\"text-align: right;\">  1   </td></tr>\n",
       "<tr><td style=\"text-align: right;\">   1.05</td><td style=\"text-align: right;\">  2.49732</td><td style=\"text-align: right;\"> 2.62219 </td><td style=\"text-align: right;\">  1.05</td></tr>\n",
       "<tr><td style=\"text-align: right;\">   1.1 </td><td style=\"text-align: right;\">  2.61278</td><td style=\"text-align: right;\"> 2.87406 </td><td style=\"text-align: right;\">  1.1 </td></tr>\n",
       "<tr><td style=\"text-align: right;\">   1.15</td><td style=\"text-align: right;\">  2.74022</td><td style=\"text-align: right;\"> 3.15126 </td><td style=\"text-align: right;\">  1.15</td></tr>\n",
       "<tr><td style=\"text-align: right;\">   1.2 </td><td style=\"text-align: right;\">  2.88175</td><td style=\"text-align: right;\"> 3.45809 </td><td style=\"text-align: right;\">  1.2 </td></tr>\n",
       "<tr><td style=\"text-align: right;\">   1.25</td><td style=\"text-align: right;\">  3.04   </td><td style=\"text-align: right;\"> 3.8     </td><td style=\"text-align: right;\">  1.25</td></tr>\n",
       "<tr><td style=\"text-align: right;\">   1.3 </td><td style=\"text-align: right;\">  3.21839</td><td style=\"text-align: right;\"> 4.18391 </td><td style=\"text-align: right;\">  1.3 </td></tr>\n",
       "<tr><td style=\"text-align: right;\">   1.35</td><td style=\"text-align: right;\">  3.42137</td><td style=\"text-align: right;\"> 4.61885 </td><td style=\"text-align: right;\">  1.35</td></tr>\n",
       "<tr><td style=\"text-align: right;\">   1.4 </td><td style=\"text-align: right;\">  3.65492</td><td style=\"text-align: right;\"> 5.11688 </td><td style=\"text-align: right;\">  1.4 </td></tr>\n",
       "</tbody>\n",
       "</table>"
      ],
      "text/plain": [
       "'<table>\\n<thead>\\n<tr><th style=\"text-align: right;\">  gamma</th><th style=\"text-align: right;\">  E[T][S]</th><th style=\"text-align: right;\">  E[N][S]</th><th style=\"text-align: right;\">  X[S]</th></tr>\\n</thead>\\n<tbody>\\n<tr><td style=\"text-align: right;\">   0.5 </td><td style=\"text-align: right;\">  1.69231</td><td style=\"text-align: right;\"> 0.846154</td><td style=\"text-align: right;\">  0.5 </td></tr>\\n<tr><td style=\"text-align: right;\">   0.55</td><td style=\"text-align: right;\">  1.74277</td><td style=\"text-align: right;\"> 0.958525</td><td style=\"text-align: right;\">  0.55</td></tr>\\n<tr><td style=\"text-align: right;\">   0.6 </td><td style=\"text-align: right;\">  1.79643</td><td style=\"text-align: right;\"> 1.07786 </td><td style=\"text-align: right;\">  0.6 </td></tr>\\n<tr><td style=\"text-align: right;\">   0.65</td><td style=\"text-align: right;\">  1.85361</td><td style=\"text-align: right;\"> 1.20485 </td><td style=\"text-align: right;\">  0.65</td></tr>\\n<tr><td style=\"text-align: right;\">   0.7 </td><td style=\"text-align: right;\">  1.91468</td><td style=\"text-align: right;\"> 1.34028 </td><td style=\"text-align: right;\">  0.7 </td></tr>\\n<tr><td style=\"text-align: right;\">   0.75</td><td style=\"text-align: right;\">  1.98007</td><td style=\"text-align: right;\"> 1.48505 </td><td style=\"text-align: right;\">  0.75</td></tr>\\n<tr><td style=\"text-align: right;\">   0.8 </td><td style=\"text-align: right;\">  2.05026</td><td style=\"text-align: right;\"> 1.64021 </td><td style=\"text-align: right;\">  0.8 </td></tr>\\n<tr><td style=\"text-align: right;\">   0.85</td><td style=\"text-align: right;\">  2.12583</td><td style=\"text-align: right;\"> 1.80695 </td><td style=\"text-align: right;\">  0.85</td></tr>\\n<tr><td style=\"text-align: right;\">   0.9 </td><td style=\"text-align: right;\">  2.20745</td><td style=\"text-align: right;\"> 1.9867  </td><td style=\"text-align: right;\">  0.9 </td></tr>\\n<tr><td style=\"text-align: right;\">   0.95</td><td style=\"text-align: right;\">  2.29591</td><td style=\"text-align: right;\"> 2.18111 </td><td style=\"text-align: right;\">  0.95</td></tr>\\n<tr><td style=\"text-align: right;\">   1   </td><td style=\"text-align: right;\">  2.39216</td><td style=\"text-align: right;\"> 2.39216 </td><td style=\"text-align: right;\">  1   </td></tr>\\n<tr><td style=\"text-align: right;\">   1.05</td><td style=\"text-align: right;\">  2.49732</td><td style=\"text-align: right;\"> 2.62219 </td><td style=\"text-align: right;\">  1.05</td></tr>\\n<tr><td style=\"text-align: right;\">   1.1 </td><td style=\"text-align: right;\">  2.61278</td><td style=\"text-align: right;\"> 2.87406 </td><td style=\"text-align: right;\">  1.1 </td></tr>\\n<tr><td style=\"text-align: right;\">   1.15</td><td style=\"text-align: right;\">  2.74022</td><td style=\"text-align: right;\"> 3.15126 </td><td style=\"text-align: right;\">  1.15</td></tr>\\n<tr><td style=\"text-align: right;\">   1.2 </td><td style=\"text-align: right;\">  2.88175</td><td style=\"text-align: right;\"> 3.45809 </td><td style=\"text-align: right;\">  1.2 </td></tr>\\n<tr><td style=\"text-align: right;\">   1.25</td><td style=\"text-align: right;\">  3.04   </td><td style=\"text-align: right;\"> 3.8     </td><td style=\"text-align: right;\">  1.25</td></tr>\\n<tr><td style=\"text-align: right;\">   1.3 </td><td style=\"text-align: right;\">  3.21839</td><td style=\"text-align: right;\"> 4.18391 </td><td style=\"text-align: right;\">  1.3 </td></tr>\\n<tr><td style=\"text-align: right;\">   1.35</td><td style=\"text-align: right;\">  3.42137</td><td style=\"text-align: right;\"> 4.61885 </td><td style=\"text-align: right;\">  1.35</td></tr>\\n<tr><td style=\"text-align: right;\">   1.4 </td><td style=\"text-align: right;\">  3.65492</td><td style=\"text-align: right;\"> 5.11688 </td><td style=\"text-align: right;\">  1.4 </td></tr>\\n</tbody>\\n</table>'"
      ]
     },
     "metadata": {},
     "output_type": "display_data"
    }
   ],
   "source": [
    "improvments = [0.7, 0.6, 0.5, 0.4]\n",
    "for i in improvments:\n",
    "    service_rates_B_improved['B']['1'] = 1 / i\n",
    "    service_rates = service_rates_B_improved\n",
    "    external_arrival_rates = external_arrival_rates_heavy\n",
    "\n",
    "    obj = f\"obj4_{str(i).replace('.', '')}\"\n",
    "\n",
    "    mu_vals = calc_mu_vals()\n",
    "    display(sep_line)\n",
    "    rho_values, stable_rates = calc_rho_vals(obj)\n",
    "    display(sep_line)\n",
    "    e_t_values, e_n_values, x_values = calc_local_performances(obj)\n",
    "    display(sep_line)\n",
    "    e_t_global_values, e_n_global_values, x_global_values = calc_global_performances(obj)"
   ]
  }
 ],
 "metadata": {
  "kernelspec": {
   "display_name": "sim-env-dev",
   "language": "python",
   "name": "python3"
  },
  "language_info": {
   "codemirror_mode": {
    "name": "ipython",
    "version": 3
   },
   "file_extension": ".py",
   "mimetype": "text/x-python",
   "name": "python",
   "nbconvert_exporter": "python",
   "pygments_lexer": "ipython3",
   "version": "3.9.21"
  }
 },
 "nbformat": 4,
 "nbformat_minor": 2
}
