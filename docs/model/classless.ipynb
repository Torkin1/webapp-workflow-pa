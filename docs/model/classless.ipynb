{
 "cells": [
  {
   "cell_type": "markdown",
   "metadata": {},
   "source": [
    "## TODO:\n",
    "\n",
    "- add variable names in diagram \n",
    "- write code to take simulation result csv as input and output another csv with the following columns:\n",
    "\n",
    "run, statistic, sim_value, model_value, error\n",
    "\n",
    "- objective 2\n",
    "- objective 3\n",
    "- objective 4"
   ]
  },
  {
   "cell_type": "markdown",
   "metadata": {},
   "source": [
    "# Classless Analyitical Model\n",
    "\n",
    "## Description\n",
    "\n",
    "This is a classless modeling proposal of the webapp workflow case study proposed in the following book:\n",
    ">  Performance Engineering Learning Through Applications Using JMT - Giuseppe Serazzi, chapter 6.3\n",
    "\n",
    "In this proposal all jobs are serviced according to the following rules:\n",
    "- Server B services all incoming jobs with class 1 service rate;\n",
    "- Server P treats all incoming jobs with class 2 service rate;\n",
    "- Server A treats all incoming jobs with a service rate averaged equally among classes.\n",
    "\n",
    "## Queue Model\n",
    "\n",
    "<!-- TODO: update diagram with parameters symbols -->\n",
    "![basic queue network](../figs/webapp_conceptual.drawio.png)"
   ]
  },
  {
   "cell_type": "code",
   "execution_count": 114,
   "metadata": {},
   "outputs": [
    {
     "name": "stdout",
     "output_type": "stream",
     "text": [
      "using sympy 1.13.3\n"
     ]
    },
    {
     "data": {
      "text/plain": [
       "\"servers=['A', 'B', 'P']\""
      ]
     },
     "metadata": {},
     "output_type": "display_data"
    },
    {
     "data": {
      "text/plain": [
       "\"classes=['1', '2', '3']\""
      ]
     },
     "metadata": {},
     "output_type": "display_data"
    },
    {
     "data": {
      "text/plain": [
       "\"service rates={'A': {'1': 5.0, '2': 2.5, '3': 10.0}, 'B': {'1': 1.25, '2': 0.0, '3': 0.0}, 'P': {'1': 0.0, '2': 2.5, '3': 0.0}}\""
      ]
     },
     "metadata": {},
     "output_type": "display_data"
    },
    {
     "data": {
      "text/plain": [
       "'arrival rates=[0.5, 0.55, 0.6, 0.65, 0.7, 0.75, 0.8, 0.85, 0.9, 0.95, 1.0, 1.05, 1.1, 1.15, 1.2]'"
      ]
     },
     "metadata": {},
     "output_type": "display_data"
    }
   ],
   "source": [
    "from sympy import Idx, IndexedBase, Symbol\n",
    "import sympy\n",
    "\n",
    "\n",
    "print(f\"using sympy {sympy.__version__}\")\n",
    "\n",
    "servers = [\"A\", \"B\", \"P\"]\n",
    "classes = [\"1\", \"2\", \"3\"]\n",
    "\n",
    "s = Idx(\"s\")\n",
    "\"\"\"\n",
    "server index\n",
    "\"\"\"\n",
    "c = Idx(\"c\")\n",
    "\"\"\"\n",
    "class index\n",
    "\"\"\"\n",
    "mu = IndexedBase(\"mu\", shape=(len(servers), len(classes)))\n",
    "\"\"\"\n",
    "service rate of server s for jobs of class c\n",
    "\"\"\"\n",
    "p = IndexedBase(\"p\", shape=(len(servers), len(classes)))\n",
    "\"\"\"\n",
    "probability that a job in service at server s is of class c\n",
    "\"\"\"\n",
    "gamma = Symbol(\"gamma\")\n",
    "\"\"\"\n",
    "external mean arrival rate\n",
    "\"\"\"\n",
    "x = IndexedBase(\"X\", shape=(len(servers)))\n",
    "\"\"\"\n",
    "throughput of server s\n",
    "\"\"\"\n",
    "e_t = IndexedBase(\"E[T]\", shape=(len(servers)))\n",
    "\"\"\"\n",
    "expected response time (at server s, or global if omitted)\n",
    "\"\"\"\n",
    "e_n = IndexedBase(\"E[N]\", shape=(len(servers)))\n",
    "\"\"\"\n",
    "expected job population (at server s, or global if omitted)\n",
    "\"\"\"\n",
    "v = IndexedBase(\"v\", shape=(len(servers)))\n",
    "\"\"\"\n",
    "mean number of visits of a job to server s\n",
    "\"\"\"\n",
    "mu_s = IndexedBase(\"mu\", shape=(len(servers)))\n",
    "\"\"\"\n",
    "mean service rate of server s without considering the job class\n",
    "\"\"\"\n",
    "\n",
    "\n",
    "service_rates = {\n",
    "    \"A\": {\n",
    "        \"1\": 1 / 0.2,\n",
    "        \"2\": 1 / 0.4,\n",
    "        \"3\": 1 / 0.1,\n",
    "    },\n",
    "    \"B\" : {\n",
    "        \"1\": 1 / 0.8,\n",
    "        \"2\": 0.0,\n",
    "        \"3\": 0.0,\n",
    "    },\n",
    "    \"P\": {\n",
    "        \"1\": 0.0,\n",
    "        \"2\": 1 / 0.4,\n",
    "        \"3\": 0.0,\n",
    "    }\n",
    "}\n",
    "\n",
    "external_arrival_rates = [rate / 100.0 for rate in range(50, 125, 5)]\n",
    "\n",
    "sympy.init_printing()\n",
    "\n",
    "display(f\"servers={servers}\", f\"classes={classes}\")\n",
    "display(f\"service rates={service_rates}\")\n",
    "display(f\"arrival rates={external_arrival_rates}\")"
   ]
  },
  {
   "cell_type": "markdown",
   "metadata": {},
   "source": [
    "## Assumptions:\n",
    "\n",
    "1) Server A treats all incoming jobs with a service rate averaged equally among classes.\n",
    "\n",
    "We compute the service rate of server A assuming that all jobs are serviced with such rate, regardless of their class. Besides, we use an uniform distribution of job class probability."
   ]
  },
  {
   "cell_type": "code",
   "execution_count": 100,
   "metadata": {},
   "outputs": [
    {
     "data": {
      "image/png": "[encoded data removed]",
      "text/latex": [
       "$\\displaystyle {\\mu}_{s} = \\sum_{c=1}^{3} {\\mu}_{s,c} {p}_{s,c}$"
      ],
      "text/plain": [
       "          3                   \n",
       "         ___                  \n",
       "         ╲                    \n",
       "          ╲                   \n",
       "mu[s] =   ╱   mu[s, c]⋅p[s, c]\n",
       "         ╱                    \n",
       "         ‾‾‾                  \n",
       "        c = 1                 "
      ]
     },
     "metadata": {},
     "output_type": "display_data"
    },
    {
     "data": {
      "text/plain": [
       "'----------------------------------'"
      ]
     },
     "metadata": {},
     "output_type": "display_data"
    },
    {
     "data": {
      "image/png": "[encoded data removed]",
      "text/latex": [
       "$\\displaystyle {\\mu}_{A} = 5.83333333333333$"
      ],
      "text/plain": [
       "mu[A] = 5.83333333333333"
      ]
     },
     "metadata": {},
     "output_type": "display_data"
    },
    {
     "data": {
      "image/png": "[encoded data removed]",
      "text/latex": [
       "$\\displaystyle {\\mu}_{B} = 1.25$"
      ],
      "text/plain": [
       "mu[B] = 1.25"
      ]
     },
     "metadata": {},
     "output_type": "display_data"
    },
    {
     "data": {
      "image/png": "[encoded data removed]",
      "text/latex": [
       "$\\displaystyle {\\mu}_{P} = 2.5$"
      ],
      "text/plain": [
       "mu[P] = 2.5"
      ]
     },
     "metadata": {},
     "output_type": "display_data"
    }
   ],
   "source": [
    "from sympy import Eq, Sum, Symbol, Rational\n",
    "\n",
    "# probability that a job of class c is in service at server s,\n",
    "# given that a job is in service at server s\n",
    "class_probabilities = {\n",
    "    \"A\": {\n",
    "        \"1\": Rational(1, 3),\n",
    "        \"2\": Rational(1, 3),\n",
    "        \"3\": Rational(1, 3),\n",
    "    },\n",
    "    \"B\": {\n",
    "        \"1\": 1,\n",
    "        \"2\": 0,\n",
    "        \"3\": 0,\n",
    "    },\n",
    "    \"P\": {\n",
    "        \"1\": 0,\n",
    "        \"2\": 1,\n",
    "        \"3\": 0,\n",
    "    }\n",
    "}\n",
    "\n",
    "def get_mu_expr():\n",
    "    return Sum(mu[s, c] * p[s, c], (c, classes[0], classes[-1]))\n",
    "\n",
    "def get_mu_s_expr(index_s):\n",
    "    mu_s_expr = Sum(mu[s, c] * p[s, c], (s, index_s, index_s), (c, 0, len(classes) - 1))\n",
    "    return mu_s_expr\n",
    "\n",
    "def calc_mu_s(server, class_probabilities, service_rates):\n",
    "    \n",
    "    index_s = server\n",
    "    mu_s_expr = get_mu_s_expr(index_s)\n",
    "\n",
    "    mu_s_expr = mu_s_expr.doit()\n",
    "    mu_s_values = {}\n",
    "    for cl in classes:\n",
    "        index_c = classes.index(cl)\n",
    "        mu_s_values.update({\n",
    "            p[index_s, index_c]: class_probabilities[cl],\n",
    "            mu[index_s, index_c]: service_rates[server][cl]\n",
    "        })\n",
    "\n",
    "    mu_s_res = mu_s_expr.subs(mu_s_values, simultaneous=True)\n",
    "    display(Eq(mu_s[index_s], mu_s_res))\n",
    "    return mu_s_res\n",
    "\n",
    "display(Eq(mu_s[s], get_mu_expr()))\n",
    "display(\"----------------------------------\")\n",
    "\n",
    "mu_a_val = calc_mu_s(\"A\", class_probabilities[\"A\"], service_rates)\n",
    "\n",
    "# we can use same code to calc mu of other servers\n",
    "\n",
    "mu_b_val = calc_mu_s(\"B\", class_probabilities[\"B\"], service_rates)\n",
    "mu_p_val = calc_mu_s(\"P\", class_probabilities[\"P\"], service_rates)\n",
    "\n",
    "mu_vals = {\n",
    "    \"A\": mu_a_val,\n",
    "    \"B\": mu_b_val,\n",
    "    \"P\": mu_p_val\n",
    "}"
   ]
  },
  {
   "cell_type": "markdown",
   "metadata": {},
   "source": [
    "2) Job flow is balanced. Namely, no job is created/destroyed inside the system.\n",
    "\n",
    "Using the above assumptions we can compute local arrival rates at each node of the network"
   ]
  },
  {
   "cell_type": "code",
   "execution_count": 128,
   "metadata": {},
   "outputs": [
    {
     "data": {
      "image/png": "[encoded data removed]",
      "text/latex": [
       "$\\displaystyle {\\lambda}_{A} = \\gamma + {X}_{B} + {X}_{P}$"
      ],
      "text/plain": [
       "lambda[A] = γ + X[B] + X[P]"
      ]
     },
     "metadata": {},
     "output_type": "display_data"
    },
    {
     "data": {
      "image/png": "[encoded data removed]",
      "text/latex": [
       "$\\displaystyle {\\lambda}_{B} = {X}_{B}$"
      ],
      "text/plain": [
       "lambda[B] = X[B]"
      ]
     },
     "metadata": {},
     "output_type": "display_data"
    },
    {
     "data": {
      "image/png": "[encoded data removed]",
      "text/latex": [
       "$\\displaystyle {\\lambda}_{P} = {X}_{P}$"
      ],
      "text/plain": [
       "lambda[P] = X[P]"
      ]
     },
     "metadata": {},
     "output_type": "display_data"
    },
    {
     "data": {
      "text/plain": [
       "'flow balance for A:'"
      ]
     },
     "metadata": {},
     "output_type": "display_data"
    },
    {
     "data": {
      "image/png": "[encoded data removed]",
      "text/latex": [
       "$\\displaystyle \\gamma + {X}_{B} + {X}_{P} = \\left({p}_{A,1} + {p}_{A,2} + {p}_{A,3}\\right) {X}_{A}$"
      ],
      "text/plain": [
       "γ + X[B] + X[P] = (p[A, 1] + p[A, 2] + p[A, 3])⋅X[A]"
      ]
     },
     "metadata": {},
     "output_type": "display_data"
    },
    {
     "data": {
      "text/plain": [
       "'flow balance for B:'"
      ]
     },
     "metadata": {},
     "output_type": "display_data"
    },
    {
     "data": {
      "image/png": "[encoded data removed]",
      "text/latex": [
       "$\\displaystyle {X}_{A} {p}_{A,1} = {X}_{B}$"
      ],
      "text/plain": [
       "X[A]⋅p[A, 1] = X[B]"
      ]
     },
     "metadata": {},
     "output_type": "display_data"
    },
    {
     "data": {
      "text/plain": [
       "'flow balance for P:'"
      ]
     },
     "metadata": {},
     "output_type": "display_data"
    },
    {
     "data": {
      "image/png": "[encoded data removed]",
      "text/latex": [
       "$\\displaystyle {X}_{A} {p}_{P,2} = {X}_{P}$"
      ],
      "text/plain": [
       "X[A]⋅p[P, 2] = X[P]"
      ]
     },
     "metadata": {},
     "output_type": "display_data"
    },
    {
     "data": {
      "text/plain": [
       "'flow balance system:'"
      ]
     },
     "metadata": {},
     "output_type": "display_data"
    },
    {
     "data": {
      "image/png": "[encoded data removed]",
      "text/latex": [
       "$\\displaystyle \\left[ \\gamma + {X}_{B} + {X}_{P} = {X}_{A}, \\  \\frac{{X}_{A}}{3} = {X}_{B}, \\  \\frac{{X}_{A}}{3} = {X}_{P}\\right]$"
      ],
      "text/plain": [
       "⎡                        X[A]         X[A]       ⎤\n",
       "⎢γ + X[B] + X[P] = X[A], ──── = X[B], ──── = X[P]⎥\n",
       "⎣                         3            3         ⎦"
      ]
     },
     "metadata": {},
     "output_type": "display_data"
    },
    {
     "data": {
      "text/plain": [
       "'using class probabilities:'"
      ]
     },
     "metadata": {},
     "output_type": "display_data"
    },
    {
     "data": {
      "text/plain": [
       "{'A': {'1': 1/3, '2': 1/3, '3': 1/3},\n",
       " 'B': {'1': 1, '2': 0, '3': 0},\n",
       " 'P': {'1': 0, '2': 1, '3': 0}}"
      ]
     },
     "metadata": {},
     "output_type": "display_data"
    },
    {
     "data": {
      "text/plain": [
       "'solve for throughputs'"
      ]
     },
     "metadata": {},
     "output_type": "display_data"
    },
    {
     "data": {
      "image/png": "[encoded data removed]",
      "text/latex": [
       "$\\displaystyle \\left\\{ {X}_{A} : 3 \\gamma, \\  {X}_{B} : \\gamma, \\  {X}_{P} : \\gamma\\right\\}$"
      ],
      "text/plain": [
       "{X[A]: 3⋅γ, X[B]: γ, X[P]: γ}"
      ]
     },
     "metadata": {},
     "output_type": "display_data"
    },
    {
     "data": {
      "text/plain": [
       "'----------------------------------'"
      ]
     },
     "metadata": {},
     "output_type": "display_data"
    },
    {
     "data": {
      "image/png": "[encoded data removed]",
      "text/latex": [
       "$\\displaystyle {\\lambda}_{A} = 3 \\gamma$"
      ],
      "text/plain": [
       "lambda[A] = 3⋅γ"
      ]
     },
     "metadata": {},
     "output_type": "display_data"
    },
    {
     "data": {
      "image/png": "[encoded data removed]",
      "text/latex": [
       "$\\displaystyle {\\lambda}_{B} = \\gamma$"
      ],
      "text/plain": [
       "lambda[B] = γ"
      ]
     },
     "metadata": {},
     "output_type": "display_data"
    },
    {
     "data": {
      "image/png": "[encoded data removed]",
      "text/latex": [
       "$\\displaystyle {\\lambda}_{P} = \\gamma$"
      ],
      "text/plain": [
       "lambda[P] = γ"
      ]
     },
     "metadata": {},
     "output_type": "display_data"
    }
   ],
   "source": [
    "from sympy import Eq, Expr, IndexedBase, solve\n",
    "\n",
    "lambda_ = IndexedBase(\"lambda\", shape=(len(servers)))\n",
    "\n",
    "lambda_a = Eq(lambda_[\"A\"], gamma + x[\"B\"] + x[\"P\"])\n",
    "lambda_b = Eq(lambda_[\"B\"], x[\"B\"])\n",
    "lambda_p = Eq(lambda_[\"P\"], x[\"P\"])\n",
    "\n",
    "lambdas = {\n",
    "    \"A\": lambda_a,\n",
    "    \"B\": lambda_b,\n",
    "    \"P\": lambda_p,\n",
    "}\n",
    "\n",
    "for server in servers:\n",
    "    display(lambdas[server])\n",
    "\n",
    "# solve flow balance linear system of equations\n",
    "flow_balance_a = Eq(gamma + x[\"B\"] + x[\"P\"], Sum(x[s] * p[s, c], (s, \"A\", \"A\"), (c, \"1\", \"3\")).doit())\n",
    "display(\"flow balance for A:\", flow_balance_a)\n",
    "flow_balance_b = Eq(x[\"A\"] * p[\"A\",\"1\"], x[\"B\"])\n",
    "display(\"flow balance for B:\", flow_balance_b)\n",
    "flow_balance_p = Eq(x[\"A\"] * p[\"P\", \"2\"], x[\"P\"])\n",
    "display(\"flow balance for P:\", flow_balance_p)\n",
    "\n",
    "flow_balance_eqs = [\n",
    "    flow_balance_a,\n",
    "    flow_balance_b,\n",
    "    flow_balance_p,\n",
    "]\n",
    "\n",
    "for i in range(len(flow_balance_eqs)):\n",
    "    for cl in classes:\n",
    "        for server in servers:\n",
    "            index_c = classes.index(cl)\n",
    "            flow_balance_eqs[i] = flow_balance_eqs[i].doit().subs(p[server, cl], class_probabilities[\"A\"][cl])\n",
    "\n",
    "display(\"flow balance system:\", flow_balance_eqs)\n",
    "\n",
    "throughputs = solve(flow_balance_eqs, x[\"A\"], x[\"B\"], x[\"P\"])\n",
    "display(\"using class probabilities:\", class_probabilities)\n",
    "display(\"solve for throughputs\", throughputs)\n",
    "\n",
    "lambda_exprs = {\n",
    "    \"A\": gamma + throughputs[x[\"B\"]] + throughputs[x[\"P\"]],\n",
    "    \"B\": throughputs[x[\"B\"]],\n",
    "    \"P\": throughputs[x[\"P\"]],\n",
    "}\n",
    "\n",
    "display(\"----------------------------------\")\n",
    "for server in servers:\n",
    "    display(Eq(lambda_[server], lambda_exprs[server]))\n"
   ]
  },
  {
   "cell_type": "markdown",
   "metadata": {},
   "source": [
    "## Objective 1\n",
    "\n",
    "We check for system stability for each arrival rate used in the experiment"
   ]
  },
  {
   "cell_type": "code",
   "execution_count": 98,
   "metadata": {},
   "outputs": [
    {
     "data": {
      "image/png": "[encoded data removed]",
      "text/latex": [
       "$\\displaystyle {\\rho}_{s} = \\frac{{\\lambda}_{s}}{\\mu_{s}}$"
      ],
      "text/plain": [
       "         lambda[s]\n",
       "rho[s] = ─────────\n",
       "            μₛ    "
      ]
     },
     "metadata": {},
     "output_type": "display_data"
    },
    {
     "data": {
      "text/plain": [
       "'Searching for stable system configurations ...'"
      ]
     },
     "metadata": {},
     "output_type": "display_data"
    },
    {
     "data": {
      "text/plain": [
       "'----------------------------------'"
      ]
     },
     "metadata": {},
     "output_type": "display_data"
    },
    {
     "data": {
      "image/png": "[encoded data removed]",
      "text/latex": [
       "$\\displaystyle \\gamma = 0.5$"
      ],
      "text/plain": [
       "γ = 0.5"
      ]
     },
     "metadata": {},
     "output_type": "display_data"
    },
    {
     "data": {
      "image/png": "[encoded data removed]",
      "text/latex": [
       "$\\displaystyle {\\rho}_{A} = 0.257142857142857$"
      ],
      "text/plain": [
       "rho[A] = 0.257142857142857"
      ]
     },
     "metadata": {},
     "output_type": "display_data"
    },
    {
     "data": {
      "image/png": "[encoded data removed]",
      "text/latex": [
       "$\\displaystyle {\\rho}_{B} = 0.4$"
      ],
      "text/plain": [
       "rho[B] = 0.4"
      ]
     },
     "metadata": {},
     "output_type": "display_data"
    },
    {
     "data": {
      "image/png": "[encoded data removed]",
      "text/latex": [
       "$\\displaystyle {\\rho}_{P} = 0.2$"
      ],
      "text/plain": [
       "rho[P] = 0.2"
      ]
     },
     "metadata": {},
     "output_type": "display_data"
    },
    {
     "data": {
      "text/plain": [
       "'----------------------------------'"
      ]
     },
     "metadata": {},
     "output_type": "display_data"
    },
    {
     "data": {
      "image/png": "[encoded data removed]",
      "text/latex": [
       "$\\displaystyle \\gamma = 0.55$"
      ],
      "text/plain": [
       "γ = 0.55"
      ]
     },
     "metadata": {},
     "output_type": "display_data"
    },
    {
     "data": {
      "image/png": "[encoded data removed]",
      "text/latex": [
       "$\\displaystyle {\\rho}_{A} = 0.282857142857143$"
      ],
      "text/plain": [
       "rho[A] = 0.282857142857143"
      ]
     },
     "metadata": {},
     "output_type": "display_data"
    },
    {
     "data": {
      "image/png": "[encoded data removed]",
      "text/latex": [
       "$\\displaystyle {\\rho}_{B} = 0.44$"
      ],
      "text/plain": [
       "rho[B] = 0.44"
      ]
     },
     "metadata": {},
     "output_type": "display_data"
    },
    {
     "data": {
      "image/png": "[encoded data removed]",
      "text/latex": [
       "$\\displaystyle {\\rho}_{P} = 0.22$"
      ],
      "text/plain": [
       "rho[P] = 0.22"
      ]
     },
     "metadata": {},
     "output_type": "display_data"
    },
    {
     "data": {
      "text/plain": [
       "'----------------------------------'"
      ]
     },
     "metadata": {},
     "output_type": "display_data"
    },
    {
     "data": {
      "image/png": "[encoded data removed]",
      "text/latex": [
       "$\\displaystyle \\gamma = 0.6$"
      ],
      "text/plain": [
       "γ = 0.6"
      ]
     },
     "metadata": {},
     "output_type": "display_data"
    },
    {
     "data": {
      "image/png": "[encoded data removed]",
      "text/latex": [
       "$\\displaystyle {\\rho}_{A} = 0.308571428571429$"
      ],
      "text/plain": [
       "rho[A] = 0.308571428571429"
      ]
     },
     "metadata": {},
     "output_type": "display_data"
    },
    {
     "data": {
      "image/png": "[encoded data removed]",
      "text/latex": [
       "$\\displaystyle {\\rho}_{B} = 0.48$"
      ],
      "text/plain": [
       "rho[B] = 0.48"
      ]
     },
     "metadata": {},
     "output_type": "display_data"
    },
    {
     "data": {
      "image/png": "[encoded data removed]",
      "text/latex": [
       "$\\displaystyle {\\rho}_{P} = 0.24$"
      ],
      "text/plain": [
       "rho[P] = 0.24"
      ]
     },
     "metadata": {},
     "output_type": "display_data"
    },
    {
     "data": {
      "text/plain": [
       "'----------------------------------'"
      ]
     },
     "metadata": {},
     "output_type": "display_data"
    },
    {
     "data": {
      "image/png": "[encoded data removed]",
      "text/latex": [
       "$\\displaystyle \\gamma = 0.65$"
      ],
      "text/plain": [
       "γ = 0.65"
      ]
     },
     "metadata": {},
     "output_type": "display_data"
    },
    {
     "data": {
      "image/png": "[encoded data removed]",
      "text/latex": [
       "$\\displaystyle {\\rho}_{A} = 0.334285714285714$"
      ],
      "text/plain": [
       "rho[A] = 0.334285714285714"
      ]
     },
     "metadata": {},
     "output_type": "display_data"
    },
    {
     "data": {
      "image/png": "[encoded data removed]",
      "text/latex": [
       "$\\displaystyle {\\rho}_{B} = 0.52$"
      ],
      "text/plain": [
       "rho[B] = 0.52"
      ]
     },
     "metadata": {},
     "output_type": "display_data"
    },
    {
     "data": {
      "image/png": "[encoded data removed]",
      "text/latex": [
       "$\\displaystyle {\\rho}_{P} = 0.26$"
      ],
      "text/plain": [
       "rho[P] = 0.26"
      ]
     },
     "metadata": {},
     "output_type": "display_data"
    },
    {
     "data": {
      "text/plain": [
       "'----------------------------------'"
      ]
     },
     "metadata": {},
     "output_type": "display_data"
    },
    {
     "data": {
      "image/png": "[encoded data removed]",
      "text/latex": [
       "$\\displaystyle \\gamma = 0.7$"
      ],
      "text/plain": [
       "γ = 0.7"
      ]
     },
     "metadata": {},
     "output_type": "display_data"
    },
    {
     "data": {
      "image/png": "[encoded data removed]",
      "text/latex": [
       "$\\displaystyle {\\rho}_{A} = 0.36$"
      ],
      "text/plain": [
       "rho[A] = 0.36"
      ]
     },
     "metadata": {},
     "output_type": "display_data"
    },
    {
     "data": {
      "image/png": "[encoded data removed]",
      "text/latex": [
       "$\\displaystyle {\\rho}_{B} = 0.56$"
      ],
      "text/plain": [
       "rho[B] = 0.56"
      ]
     },
     "metadata": {},
     "output_type": "display_data"
    },
    {
     "data": {
      "image/png": "[encoded data removed]",
      "text/latex": [
       "$\\displaystyle {\\rho}_{P} = 0.28$"
      ],
      "text/plain": [
       "rho[P] = 0.28"
      ]
     },
     "metadata": {},
     "output_type": "display_data"
    },
    {
     "data": {
      "text/plain": [
       "'----------------------------------'"
      ]
     },
     "metadata": {},
     "output_type": "display_data"
    },
    {
     "data": {
      "image/png": "[encoded data removed]",
      "text/latex": [
       "$\\displaystyle \\gamma = 0.75$"
      ],
      "text/plain": [
       "γ = 0.75"
      ]
     },
     "metadata": {},
     "output_type": "display_data"
    },
    {
     "data": {
      "image/png": "[encoded data removed]",
      "text/latex": [
       "$\\displaystyle {\\rho}_{A} = 0.385714285714286$"
      ],
      "text/plain": [
       "rho[A] = 0.385714285714286"
      ]
     },
     "metadata": {},
     "output_type": "display_data"
    },
    {
     "data": {
      "image/png": "[encoded data removed]",
      "text/latex": [
       "$\\displaystyle {\\rho}_{B} = 0.6$"
      ],
      "text/plain": [
       "rho[B] = 0.6"
      ]
     },
     "metadata": {},
     "output_type": "display_data"
    },
    {
     "data": {
      "image/png": "[encoded data removed]",
      "text/latex": [
       "$\\displaystyle {\\rho}_{P} = 0.3$"
      ],
      "text/plain": [
       "rho[P] = 0.3"
      ]
     },
     "metadata": {},
     "output_type": "display_data"
    },
    {
     "data": {
      "text/plain": [
       "'----------------------------------'"
      ]
     },
     "metadata": {},
     "output_type": "display_data"
    },
    {
     "data": {
      "image/png": "[encoded data removed]",
      "text/latex": [
       "$\\displaystyle \\gamma = 0.8$"
      ],
      "text/plain": [
       "γ = 0.8"
      ]
     },
     "metadata": {},
     "output_type": "display_data"
    },
    {
     "data": {
      "image/png": "[encoded data removed]",
      "text/latex": [
       "$\\displaystyle {\\rho}_{A} = 0.411428571428571$"
      ],
      "text/plain": [
       "rho[A] = 0.411428571428571"
      ]
     },
     "metadata": {},
     "output_type": "display_data"
    },
    {
     "data": {
      "image/png": "[encoded data removed]",
      "text/latex": [
       "$\\displaystyle {\\rho}_{B} = 0.64$"
      ],
      "text/plain": [
       "rho[B] = 0.64"
      ]
     },
     "metadata": {},
     "output_type": "display_data"
    },
    {
     "data": {
      "image/png": "[encoded data removed]",
      "text/latex": [
       "$\\displaystyle {\\rho}_{P} = 0.32$"
      ],
      "text/plain": [
       "rho[P] = 0.32"
      ]
     },
     "metadata": {},
     "output_type": "display_data"
    },
    {
     "data": {
      "text/plain": [
       "'----------------------------------'"
      ]
     },
     "metadata": {},
     "output_type": "display_data"
    },
    {
     "data": {
      "image/png": "[encoded data removed]",
      "text/latex": [
       "$\\displaystyle \\gamma = 0.85$"
      ],
      "text/plain": [
       "γ = 0.85"
      ]
     },
     "metadata": {},
     "output_type": "display_data"
    },
    {
     "data": {
      "image/png": "[encoded data removed]",
      "text/latex": [
       "$\\displaystyle {\\rho}_{A} = 0.437142857142857$"
      ],
      "text/plain": [
       "rho[A] = 0.437142857142857"
      ]
     },
     "metadata": {},
     "output_type": "display_data"
    },
    {
     "data": {
      "image/png": "[encoded data removed]",
      "text/latex": [
       "$\\displaystyle {\\rho}_{B} = 0.68$"
      ],
      "text/plain": [
       "rho[B] = 0.68"
      ]
     },
     "metadata": {},
     "output_type": "display_data"
    },
    {
     "data": {
      "image/png": "[encoded data removed]",
      "text/latex": [
       "$\\displaystyle {\\rho}_{P} = 0.34$"
      ],
      "text/plain": [
       "rho[P] = 0.34"
      ]
     },
     "metadata": {},
     "output_type": "display_data"
    },
    {
     "data": {
      "text/plain": [
       "'----------------------------------'"
      ]
     },
     "metadata": {},
     "output_type": "display_data"
    },
    {
     "data": {
      "image/png": "[encoded data removed]",
      "text/latex": [
       "$\\displaystyle \\gamma = 0.9$"
      ],
      "text/plain": [
       "γ = 0.9"
      ]
     },
     "metadata": {},
     "output_type": "display_data"
    },
    {
     "data": {
      "image/png": "[encoded data removed]",
      "text/latex": [
       "$\\displaystyle {\\rho}_{A} = 0.462857142857143$"
      ],
      "text/plain": [
       "rho[A] = 0.462857142857143"
      ]
     },
     "metadata": {},
     "output_type": "display_data"
    },
    {
     "data": {
      "image/png": "[encoded data removed]",
      "text/latex": [
       "$\\displaystyle {\\rho}_{B} = 0.72$"
      ],
      "text/plain": [
       "rho[B] = 0.72"
      ]
     },
     "metadata": {},
     "output_type": "display_data"
    },
    {
     "data": {
      "image/png": "[encoded data removed]",
      "text/latex": [
       "$\\displaystyle {\\rho}_{P} = 0.36$"
      ],
      "text/plain": [
       "rho[P] = 0.36"
      ]
     },
     "metadata": {},
     "output_type": "display_data"
    },
    {
     "data": {
      "text/plain": [
       "'----------------------------------'"
      ]
     },
     "metadata": {},
     "output_type": "display_data"
    },
    {
     "data": {
      "image/png": "[encoded data removed]",
      "text/latex": [
       "$\\displaystyle \\gamma = 0.95$"
      ],
      "text/plain": [
       "γ = 0.95"
      ]
     },
     "metadata": {},
     "output_type": "display_data"
    },
    {
     "data": {
      "image/png": "[encoded data removed]",
      "text/latex": [
       "$\\displaystyle {\\rho}_{A} = 0.488571428571428$"
      ],
      "text/plain": [
       "rho[A] = 0.488571428571428"
      ]
     },
     "metadata": {},
     "output_type": "display_data"
    },
    {
     "data": {
      "image/png": "[encoded data removed]",
      "text/latex": [
       "$\\displaystyle {\\rho}_{B} = 0.76$"
      ],
      "text/plain": [
       "rho[B] = 0.76"
      ]
     },
     "metadata": {},
     "output_type": "display_data"
    },
    {
     "data": {
      "image/png": "[encoded data removed]",
      "text/latex": [
       "$\\displaystyle {\\rho}_{P} = 0.38$"
      ],
      "text/plain": [
       "rho[P] = 0.38"
      ]
     },
     "metadata": {},
     "output_type": "display_data"
    },
    {
     "data": {
      "text/plain": [
       "'----------------------------------'"
      ]
     },
     "metadata": {},
     "output_type": "display_data"
    },
    {
     "data": {
      "image/png": "[encoded data removed]",
      "text/latex": [
       "$\\displaystyle \\gamma = 1.0$"
      ],
      "text/plain": [
       "γ = 1.0"
      ]
     },
     "metadata": {},
     "output_type": "display_data"
    },
    {
     "data": {
      "image/png": "[encoded data removed]",
      "text/latex": [
       "$\\displaystyle {\\rho}_{A} = 0.514285714285714$"
      ],
      "text/plain": [
       "rho[A] = 0.514285714285714"
      ]
     },
     "metadata": {},
     "output_type": "display_data"
    },
    {
     "data": {
      "image/png": "[encoded data removed]",
      "text/latex": [
       "$\\displaystyle {\\rho}_{B} = 0.8$"
      ],
      "text/plain": [
       "rho[B] = 0.8"
      ]
     },
     "metadata": {},
     "output_type": "display_data"
    },
    {
     "data": {
      "image/png": "[encoded data removed]",
      "text/latex": [
       "$\\displaystyle {\\rho}_{P} = 0.4$"
      ],
      "text/plain": [
       "rho[P] = 0.4"
      ]
     },
     "metadata": {},
     "output_type": "display_data"
    },
    {
     "data": {
      "text/plain": [
       "'----------------------------------'"
      ]
     },
     "metadata": {},
     "output_type": "display_data"
    },
    {
     "data": {
      "image/png": "[encoded data removed]",
      "text/latex": [
       "$\\displaystyle \\gamma = 1.05$"
      ],
      "text/plain": [
       "γ = 1.05"
      ]
     },
     "metadata": {},
     "output_type": "display_data"
    },
    {
     "data": {
      "image/png": "[encoded data removed]",
      "text/latex": [
       "$\\displaystyle {\\rho}_{A} = 0.54$"
      ],
      "text/plain": [
       "rho[A] = 0.54"
      ]
     },
     "metadata": {},
     "output_type": "display_data"
    },
    {
     "data": {
      "image/png": "[encoded data removed]",
      "text/latex": [
       "$\\displaystyle {\\rho}_{B} = 0.84$"
      ],
      "text/plain": [
       "rho[B] = 0.84"
      ]
     },
     "metadata": {},
     "output_type": "display_data"
    },
    {
     "data": {
      "image/png": "[encoded data removed]",
      "text/latex": [
       "$\\displaystyle {\\rho}_{P} = 0.42$"
      ],
      "text/plain": [
       "rho[P] = 0.42"
      ]
     },
     "metadata": {},
     "output_type": "display_data"
    },
    {
     "data": {
      "text/plain": [
       "'----------------------------------'"
      ]
     },
     "metadata": {},
     "output_type": "display_data"
    },
    {
     "data": {
      "image/png": "[encoded data removed]",
      "text/latex": [
       "$\\displaystyle \\gamma = 1.1$"
      ],
      "text/plain": [
       "γ = 1.1"
      ]
     },
     "metadata": {},
     "output_type": "display_data"
    },
    {
     "data": {
      "image/png": "[encoded data removed]",
      "text/latex": [
       "$\\displaystyle {\\rho}_{A} = 0.565714285714286$"
      ],
      "text/plain": [
       "rho[A] = 0.565714285714286"
      ]
     },
     "metadata": {},
     "output_type": "display_data"
    },
    {
     "data": {
      "image/png": "[encoded data removed]",
      "text/latex": [
       "$\\displaystyle {\\rho}_{B} = 0.88$"
      ],
      "text/plain": [
       "rho[B] = 0.88"
      ]
     },
     "metadata": {},
     "output_type": "display_data"
    },
    {
     "data": {
      "image/png": "[encoded data removed]",
      "text/latex": [
       "$\\displaystyle {\\rho}_{P} = 0.44$"
      ],
      "text/plain": [
       "rho[P] = 0.44"
      ]
     },
     "metadata": {},
     "output_type": "display_data"
    },
    {
     "data": {
      "text/plain": [
       "'----------------------------------'"
      ]
     },
     "metadata": {},
     "output_type": "display_data"
    },
    {
     "data": {
      "image/png": "[encoded data removed]",
      "text/latex": [
       "$\\displaystyle \\gamma = 1.15$"
      ],
      "text/plain": [
       "γ = 1.15"
      ]
     },
     "metadata": {},
     "output_type": "display_data"
    },
    {
     "data": {
      "image/png": "[encoded data removed]",
      "text/latex": [
       "$\\displaystyle {\\rho}_{A} = 0.591428571428571$"
      ],
      "text/plain": [
       "rho[A] = 0.591428571428571"
      ]
     },
     "metadata": {},
     "output_type": "display_data"
    },
    {
     "data": {
      "image/png": "[encoded data removed]",
      "text/latex": [
       "$\\displaystyle {\\rho}_{B} = 0.92$"
      ],
      "text/plain": [
       "rho[B] = 0.92"
      ]
     },
     "metadata": {},
     "output_type": "display_data"
    },
    {
     "data": {
      "image/png": "[encoded data removed]",
      "text/latex": [
       "$\\displaystyle {\\rho}_{P} = 0.46$"
      ],
      "text/plain": [
       "rho[P] = 0.46"
      ]
     },
     "metadata": {},
     "output_type": "display_data"
    },
    {
     "data": {
      "text/plain": [
       "'----------------------------------'"
      ]
     },
     "metadata": {},
     "output_type": "display_data"
    },
    {
     "data": {
      "image/png": "[encoded data removed]",
      "text/latex": [
       "$\\displaystyle \\gamma = 1.2$"
      ],
      "text/plain": [
       "γ = 1.2"
      ]
     },
     "metadata": {},
     "output_type": "display_data"
    },
    {
     "data": {
      "image/png": "[encoded data removed]",
      "text/latex": [
       "$\\displaystyle {\\rho}_{A} = 0.617142857142857$"
      ],
      "text/plain": [
       "rho[A] = 0.617142857142857"
      ]
     },
     "metadata": {},
     "output_type": "display_data"
    },
    {
     "data": {
      "image/png": "[encoded data removed]",
      "text/latex": [
       "$\\displaystyle {\\rho}_{B} = 0.96$"
      ],
      "text/plain": [
       "rho[B] = 0.96"
      ]
     },
     "metadata": {},
     "output_type": "display_data"
    },
    {
     "data": {
      "image/png": "[encoded data removed]",
      "text/latex": [
       "$\\displaystyle {\\rho}_{P} = 0.48$"
      ],
      "text/plain": [
       "rho[P] = 0.48"
      ]
     },
     "metadata": {},
     "output_type": "display_data"
    }
   ],
   "source": [
    "def is_stable(rho_values):\n",
    "    for value in rho_values:\n",
    "        if value >= 1:\n",
    "            return False\n",
    "    return True\n",
    "\n",
    "rho = IndexedBase(\"rho\", shape=(len(servers)))\n",
    "\n",
    "def display_rho():\n",
    "    mu_s = Symbol(f\"mu_s\")\n",
    "    display(Eq(rho[s], lambda_[s] / mu_s))\n",
    "\n",
    "# for server in servers:\n",
    "display_rho()\n",
    "\n",
    "display(\"Searching for stable system configurations ...\")\n",
    "\n",
    "rho_values = {}\n",
    "stable_rates = []\n",
    "\n",
    "for rate in external_arrival_rates:\n",
    "\n",
    "    rho_values_per_server = {}\n",
    "    \n",
    "    for server in servers:\n",
    "\n",
    "        index_s = server\n",
    "\n",
    "        mu_s_expr = get_mu_s_expr(index_s)\n",
    "        mu_s_expr = mu_s_expr.doit().subs({p[index_s, classes.index(cl)]: class_probabilities[server][cl] for cl in classes}, simultaneous=True)\n",
    "        mu_s_expr = mu_s_expr.subs({mu[index_s, classes.index(cl)]: service_rates[server][cl] for cl in classes}, simultaneous=True)\n",
    "        rho_expr = lambda_[index_s] / mu_s_expr\n",
    "        rho_expr = rho_expr.subs(lambda_[index_s], lambda_exprs[server])\n",
    "        rho_expr = rho_expr.subs(gamma, rate)\n",
    "\n",
    "        rho_values_per_server[server] = rho_expr\n",
    "        \n",
    "    if is_stable(rho_values_per_server.values()):\n",
    "        \n",
    "        stable_rates.append(rate)\n",
    "        rho_values[rate] = rho_values_per_server\n",
    "        display(\"----------------------------------\")\n",
    "        display(Eq(gamma, rate))\n",
    "        for server in servers:\n",
    "            display(Eq(rho[server], rho_values_per_server[server]))\n"
   ]
  },
  {
   "cell_type": "markdown",
   "metadata": {},
   "source": [
    "### Local perfomances\n",
    "We assume a Processor Sharing (PS) queue policy for each server, since this is the policy used in the case study.\n",
    "\n",
    "Throughputs have already been computed when solving the queue network\n",
    "\n",
    "N is computed using Little's Law."
   ]
  },
  {
   "cell_type": "code",
   "execution_count": 131,
   "metadata": {},
   "outputs": [
    {
     "data": {
      "image/png": "[encoded data removed]",
      "text/latex": [
       "$\\displaystyle {E[T]}_{s} = \\frac{1}{\\left(1 - {\\rho}_{s}\\right) {\\mu}_{s}}$"
      ],
      "text/plain": [
       "                  1         \n",
       "E[T][s] = ──────────────────\n",
       "          (1 - rho[s])⋅mu[s]"
      ]
     },
     "metadata": {},
     "output_type": "display_data"
    },
    {
     "data": {
      "image/png": "[encoded data removed]",
      "text/latex": [
       "$\\displaystyle {E[N]}_{s} = {E[T]}_{s} {\\lambda}_{s}$"
      ],
      "text/plain": [
       "E[N][s] = E[T][s]⋅lambda[s]"
      ]
     },
     "metadata": {},
     "output_type": "display_data"
    },
    {
     "data": {
      "image/png": "[encoded data removed]",
      "text/latex": [
       "$\\displaystyle \\left\\{ {X}_{A} : 3 \\gamma, \\  {X}_{B} : \\gamma, \\  {X}_{P} : \\gamma\\right\\}$"
      ],
      "text/plain": [
       "{X[A]: 3⋅γ, X[B]: γ, X[P]: γ}"
      ]
     },
     "metadata": {},
     "output_type": "display_data"
    },
    {
     "data": {
      "text/plain": [
       "'----------------------------------'"
      ]
     },
     "metadata": {},
     "output_type": "display_data"
    },
    {
     "data": {
      "image/png": "[encoded data removed]",
      "text/latex": [
       "$\\displaystyle \\gamma = 0.5$"
      ],
      "text/plain": [
       "γ = 0.5"
      ]
     },
     "metadata": {},
     "output_type": "display_data"
    },
    {
     "data": {
      "image/png": "[encoded data removed]",
      "text/latex": [
       "$\\displaystyle {E[T]}_{A} = 0.230769230769231$"
      ],
      "text/plain": [
       "E[T][A] = 0.230769230769231"
      ]
     },
     "metadata": {},
     "output_type": "display_data"
    },
    {
     "data": {
      "image/png": "[encoded data removed]",
      "text/latex": [
       "$\\displaystyle {X}_{A} = 1.5$"
      ],
      "text/plain": [
       "X[A] = 1.5"
      ]
     },
     "metadata": {},
     "output_type": "display_data"
    },
    {
     "data": {
      "image/png": "[encoded data removed]",
      "text/latex": [
       "$\\displaystyle {E[N]}_{A} = 0.346153846153846$"
      ],
      "text/plain": [
       "E[N][A] = 0.346153846153846"
      ]
     },
     "metadata": {},
     "output_type": "display_data"
    },
    {
     "data": {
      "image/png": "[encoded data removed]",
      "text/latex": [
       "$\\displaystyle {E[T]}_{B} = 1.33333333333333$"
      ],
      "text/plain": [
       "E[T][B] = 1.33333333333333"
      ]
     },
     "metadata": {},
     "output_type": "display_data"
    },
    {
     "data": {
      "image/png": "[encoded data removed]",
      "text/latex": [
       "$\\displaystyle {X}_{B} = 0.5$"
      ],
      "text/plain": [
       "X[B] = 0.5"
      ]
     },
     "metadata": {},
     "output_type": "display_data"
    },
    {
     "data": {
      "image/png": "[encoded data removed]",
      "text/latex": [
       "$\\displaystyle {E[N]}_{B} = 0.666666666666667$"
      ],
      "text/plain": [
       "E[N][B] = 0.666666666666667"
      ]
     },
     "metadata": {},
     "output_type": "display_data"
    },
    {
     "data": {
      "image/png": "[encoded data removed]",
      "text/latex": [
       "$\\displaystyle {E[T]}_{P} = 0.5$"
      ],
      "text/plain": [
       "E[T][P] = 0.5"
      ]
     },
     "metadata": {},
     "output_type": "display_data"
    },
    {
     "data": {
      "image/png": "[encoded data removed]",
      "text/latex": [
       "$\\displaystyle {X}_{P} = 0.5$"
      ],
      "text/plain": [
       "X[P] = 0.5"
      ]
     },
     "metadata": {},
     "output_type": "display_data"
    },
    {
     "data": {
      "image/png": "[encoded data removed]",
      "text/latex": [
       "$\\displaystyle {E[N]}_{P} = 0.25$"
      ],
      "text/plain": [
       "E[N][P] = 0.25"
      ]
     },
     "metadata": {},
     "output_type": "display_data"
    },
    {
     "data": {
      "text/plain": [
       "'----------------------------------'"
      ]
     },
     "metadata": {},
     "output_type": "display_data"
    },
    {
     "data": {
      "image/png": "[encoded data removed]",
      "text/latex": [
       "$\\displaystyle \\gamma = 0.55$"
      ],
      "text/plain": [
       "γ = 0.55"
      ]
     },
     "metadata": {},
     "output_type": "display_data"
    },
    {
     "data": {
      "image/png": "[encoded data removed]",
      "text/latex": [
       "$\\displaystyle {E[T]}_{A} = 0.239043824701195$"
      ],
      "text/plain": [
       "E[T][A] = 0.239043824701195"
      ]
     },
     "metadata": {},
     "output_type": "display_data"
    },
    {
     "data": {
      "image/png": "[encoded data removed]",
      "text/latex": [
       "$\\displaystyle {X}_{A} = 1.65$"
      ],
      "text/plain": [
       "X[A] = 1.65"
      ]
     },
     "metadata": {},
     "output_type": "display_data"
    },
    {
     "data": {
      "image/png": "[encoded data removed]",
      "text/latex": [
       "$\\displaystyle {E[N]}_{A} = 0.394422310756972$"
      ],
      "text/plain": [
       "E[N][A] = 0.394422310756972"
      ]
     },
     "metadata": {},
     "output_type": "display_data"
    },
    {
     "data": {
      "image/png": "[encoded data removed]",
      "text/latex": [
       "$\\displaystyle {E[T]}_{B} = 1.42857142857143$"
      ],
      "text/plain": [
       "E[T][B] = 1.42857142857143"
      ]
     },
     "metadata": {},
     "output_type": "display_data"
    },
    {
     "data": {
      "image/png": "[encoded data removed]",
      "text/latex": [
       "$\\displaystyle {X}_{B} = 0.55$"
      ],
      "text/plain": [
       "X[B] = 0.55"
      ]
     },
     "metadata": {},
     "output_type": "display_data"
    },
    {
     "data": {
      "image/png": "[encoded data removed]",
      "text/latex": [
       "$\\displaystyle {E[N]}_{B} = 0.785714285714286$"
      ],
      "text/plain": [
       "E[N][B] = 0.785714285714286"
      ]
     },
     "metadata": {},
     "output_type": "display_data"
    },
    {
     "data": {
      "image/png": "[encoded data removed]",
      "text/latex": [
       "$\\displaystyle {E[T]}_{P} = 0.512820512820513$"
      ],
      "text/plain": [
       "E[T][P] = 0.512820512820513"
      ]
     },
     "metadata": {},
     "output_type": "display_data"
    },
    {
     "data": {
      "image/png": "[encoded data removed]",
      "text/latex": [
       "$\\displaystyle {X}_{P} = 0.55$"
      ],
      "text/plain": [
       "X[P] = 0.55"
      ]
     },
     "metadata": {},
     "output_type": "display_data"
    },
    {
     "data": {
      "image/png": "[encoded data removed]",
      "text/latex": [
       "$\\displaystyle {E[N]}_{P} = 0.282051282051282$"
      ],
      "text/plain": [
       "E[N][P] = 0.282051282051282"
      ]
     },
     "metadata": {},
     "output_type": "display_data"
    },
    {
     "data": {
      "text/plain": [
       "'----------------------------------'"
      ]
     },
     "metadata": {},
     "output_type": "display_data"
    },
    {
     "data": {
      "image/png": "[encoded data removed]",
      "text/latex": [
       "$\\displaystyle \\gamma = 0.6$"
      ],
      "text/plain": [
       "γ = 0.6"
      ]
     },
     "metadata": {},
     "output_type": "display_data"
    },
    {
     "data": {
      "image/png": "[encoded data removed]",
      "text/latex": [
       "$\\displaystyle {E[T]}_{A} = 0.247933884297521$"
      ],
      "text/plain": [
       "E[T][A] = 0.247933884297521"
      ]
     },
     "metadata": {},
     "output_type": "display_data"
    },
    {
     "data": {
      "image/png": "[encoded data removed]",
      "text/latex": [
       "$\\displaystyle {X}_{A} = 1.8$"
      ],
      "text/plain": [
       "X[A] = 1.8"
      ]
     },
     "metadata": {},
     "output_type": "display_data"
    },
    {
     "data": {
      "image/png": "[encoded data removed]",
      "text/latex": [
       "$\\displaystyle {E[N]}_{A} = 0.446280991735537$"
      ],
      "text/plain": [
       "E[N][A] = 0.446280991735537"
      ]
     },
     "metadata": {},
     "output_type": "display_data"
    },
    {
     "data": {
      "image/png": "[encoded data removed]",
      "text/latex": [
       "$\\displaystyle {E[T]}_{B} = 1.53846153846154$"
      ],
      "text/plain": [
       "E[T][B] = 1.53846153846154"
      ]
     },
     "metadata": {},
     "output_type": "display_data"
    },
    {
     "data": {
      "image/png": "[encoded data removed]",
      "text/latex": [
       "$\\displaystyle {X}_{B} = 0.6$"
      ],
      "text/plain": [
       "X[B] = 0.6"
      ]
     },
     "metadata": {},
     "output_type": "display_data"
    },
    {
     "data": {
      "image/png": "[encoded data removed]",
      "text/latex": [
       "$\\displaystyle {E[N]}_{B} = 0.923076923076923$"
      ],
      "text/plain": [
       "E[N][B] = 0.923076923076923"
      ]
     },
     "metadata": {},
     "output_type": "display_data"
    },
    {
     "data": {
      "image/png": "[encoded data removed]",
      "text/latex": [
       "$\\displaystyle {E[T]}_{P} = 0.526315789473684$"
      ],
      "text/plain": [
       "E[T][P] = 0.526315789473684"
      ]
     },
     "metadata": {},
     "output_type": "display_data"
    },
    {
     "data": {
      "image/png": "[encoded data removed]",
      "text/latex": [
       "$\\displaystyle {X}_{P} = 0.6$"
      ],
      "text/plain": [
       "X[P] = 0.6"
      ]
     },
     "metadata": {},
     "output_type": "display_data"
    },
    {
     "data": {
      "image/png": "[encoded data removed]",
      "text/latex": [
       "$\\displaystyle {E[N]}_{P} = 0.315789473684211$"
      ],
      "text/plain": [
       "E[N][P] = 0.315789473684211"
      ]
     },
     "metadata": {},
     "output_type": "display_data"
    },
    {
     "data": {
      "text/plain": [
       "'----------------------------------'"
      ]
     },
     "metadata": {},
     "output_type": "display_data"
    },
    {
     "data": {
      "image/png": "[encoded data removed]",
      "text/latex": [
       "$\\displaystyle \\gamma = 0.65$"
      ],
      "text/plain": [
       "γ = 0.65"
      ]
     },
     "metadata": {},
     "output_type": "display_data"
    },
    {
     "data": {
      "image/png": "[encoded data removed]",
      "text/latex": [
       "$\\displaystyle {E[T]}_{A} = 0.257510729613734$"
      ],
      "text/plain": [
       "E[T][A] = 0.257510729613734"
      ]
     },
     "metadata": {},
     "output_type": "display_data"
    },
    {
     "data": {
      "image/png": "[encoded data removed]",
      "text/latex": [
       "$\\displaystyle {X}_{A} = 1.95$"
      ],
      "text/plain": [
       "X[A] = 1.95"
      ]
     },
     "metadata": {},
     "output_type": "display_data"
    },
    {
     "data": {
      "image/png": "[encoded data removed]",
      "text/latex": [
       "$\\displaystyle {E[N]}_{A} = 0.502145922746781$"
      ],
      "text/plain": [
       "E[N][A] = 0.502145922746781"
      ]
     },
     "metadata": {},
     "output_type": "display_data"
    },
    {
     "data": {
      "image/png": "[encoded data removed]",
      "text/latex": [
       "$\\displaystyle {E[T]}_{B} = 1.66666666666667$"
      ],
      "text/plain": [
       "E[T][B] = 1.66666666666667"
      ]
     },
     "metadata": {},
     "output_type": "display_data"
    },
    {
     "data": {
      "image/png": "[encoded data removed]",
      "text/latex": [
       "$\\displaystyle {X}_{B} = 0.65$"
      ],
      "text/plain": [
       "X[B] = 0.65"
      ]
     },
     "metadata": {},
     "output_type": "display_data"
    },
    {
     "data": {
      "image/png": "[encoded data removed]",
      "text/latex": [
       "$\\displaystyle {E[N]}_{B} = 1.08333333333333$"
      ],
      "text/plain": [
       "E[N][B] = 1.08333333333333"
      ]
     },
     "metadata": {},
     "output_type": "display_data"
    },
    {
     "data": {
      "image/png": "[encoded data removed]",
      "text/latex": [
       "$\\displaystyle {E[T]}_{P} = 0.540540540540541$"
      ],
      "text/plain": [
       "E[T][P] = 0.540540540540541"
      ]
     },
     "metadata": {},
     "output_type": "display_data"
    },
    {
     "data": {
      "image/png": "[encoded data removed]",
      "text/latex": [
       "$\\displaystyle {X}_{P} = 0.65$"
      ],
      "text/plain": [
       "X[P] = 0.65"
      ]
     },
     "metadata": {},
     "output_type": "display_data"
    },
    {
     "data": {
      "image/png": "[encoded data removed]",
      "text/latex": [
       "$\\displaystyle {E[N]}_{P} = 0.351351351351351$"
      ],
      "text/plain": [
       "E[N][P] = 0.351351351351351"
      ]
     },
     "metadata": {},
     "output_type": "display_data"
    },
    {
     "data": {
      "text/plain": [
       "'----------------------------------'"
      ]
     },
     "metadata": {},
     "output_type": "display_data"
    },
    {
     "data": {
      "image/png": "[encoded data removed]",
      "text/latex": [
       "$\\displaystyle \\gamma = 0.7$"
      ],
      "text/plain": [
       "γ = 0.7"
      ]
     },
     "metadata": {},
     "output_type": "display_data"
    },
    {
     "data": {
      "image/png": "[encoded data removed]",
      "text/latex": [
       "$\\displaystyle {E[T]}_{A} = 0.267857142857143$"
      ],
      "text/plain": [
       "E[T][A] = 0.267857142857143"
      ]
     },
     "metadata": {},
     "output_type": "display_data"
    },
    {
     "data": {
      "image/png": "[encoded data removed]",
      "text/latex": [
       "$\\displaystyle {X}_{A} = 2.1$"
      ],
      "text/plain": [
       "X[A] = 2.1"
      ]
     },
     "metadata": {},
     "output_type": "display_data"
    },
    {
     "data": {
      "image/png": "[encoded data removed]",
      "text/latex": [
       "$\\displaystyle {E[N]}_{A} = 0.5625$"
      ],
      "text/plain": [
       "E[N][A] = 0.5625"
      ]
     },
     "metadata": {},
     "output_type": "display_data"
    },
    {
     "data": {
      "image/png": "[encoded data removed]",
      "text/latex": [
       "$\\displaystyle {E[T]}_{B} = 1.81818181818182$"
      ],
      "text/plain": [
       "E[T][B] = 1.81818181818182"
      ]
     },
     "metadata": {},
     "output_type": "display_data"
    },
    {
     "data": {
      "image/png": "[encoded data removed]",
      "text/latex": [
       "$\\displaystyle {X}_{B} = 0.7$"
      ],
      "text/plain": [
       "X[B] = 0.7"
      ]
     },
     "metadata": {},
     "output_type": "display_data"
    },
    {
     "data": {
      "image/png": "[encoded data removed]",
      "text/latex": [
       "$\\displaystyle {E[N]}_{B} = 1.27272727272727$"
      ],
      "text/plain": [
       "E[N][B] = 1.27272727272727"
      ]
     },
     "metadata": {},
     "output_type": "display_data"
    },
    {
     "data": {
      "image/png": "[encoded data removed]",
      "text/latex": [
       "$\\displaystyle {E[T]}_{P} = 0.555555555555556$"
      ],
      "text/plain": [
       "E[T][P] = 0.555555555555556"
      ]
     },
     "metadata": {},
     "output_type": "display_data"
    },
    {
     "data": {
      "image/png": "[encoded data removed]",
      "text/latex": [
       "$\\displaystyle {X}_{P} = 0.7$"
      ],
      "text/plain": [
       "X[P] = 0.7"
      ]
     },
     "metadata": {},
     "output_type": "display_data"
    },
    {
     "data": {
      "image/png": "[encoded data removed]",
      "text/latex": [
       "$\\displaystyle {E[N]}_{P} = 0.388888888888889$"
      ],
      "text/plain": [
       "E[N][P] = 0.388888888888889"
      ]
     },
     "metadata": {},
     "output_type": "display_data"
    },
    {
     "data": {
      "text/plain": [
       "'----------------------------------'"
      ]
     },
     "metadata": {},
     "output_type": "display_data"
    },
    {
     "data": {
      "image/png": "[encoded data removed]",
      "text/latex": [
       "$\\displaystyle \\gamma = 0.75$"
      ],
      "text/plain": [
       "γ = 0.75"
      ]
     },
     "metadata": {},
     "output_type": "display_data"
    },
    {
     "data": {
      "image/png": "[encoded data removed]",
      "text/latex": [
       "$\\displaystyle {E[T]}_{A} = 0.27906976744186$"
      ],
      "text/plain": [
       "E[T][A] = 0.27906976744186"
      ]
     },
     "metadata": {},
     "output_type": "display_data"
    },
    {
     "data": {
      "image/png": "[encoded data removed]",
      "text/latex": [
       "$\\displaystyle {X}_{A} = 2.25$"
      ],
      "text/plain": [
       "X[A] = 2.25"
      ]
     },
     "metadata": {},
     "output_type": "display_data"
    },
    {
     "data": {
      "image/png": "[encoded data removed]",
      "text/latex": [
       "$\\displaystyle {E[N]}_{A} = 0.627906976744186$"
      ],
      "text/plain": [
       "E[N][A] = 0.627906976744186"
      ]
     },
     "metadata": {},
     "output_type": "display_data"
    },
    {
     "data": {
      "image/png": "[encoded data removed]",
      "text/latex": [
       "$\\displaystyle {E[T]}_{B} = 2.0$"
      ],
      "text/plain": [
       "E[T][B] = 2.0"
      ]
     },
     "metadata": {},
     "output_type": "display_data"
    },
    {
     "data": {
      "image/png": "[encoded data removed]",
      "text/latex": [
       "$\\displaystyle {X}_{B} = 0.75$"
      ],
      "text/plain": [
       "X[B] = 0.75"
      ]
     },
     "metadata": {},
     "output_type": "display_data"
    },
    {
     "data": {
      "image/png": "[encoded data removed]",
      "text/latex": [
       "$\\displaystyle {E[N]}_{B} = 1.5$"
      ],
      "text/plain": [
       "E[N][B] = 1.5"
      ]
     },
     "metadata": {},
     "output_type": "display_data"
    },
    {
     "data": {
      "image/png": "[encoded data removed]",
      "text/latex": [
       "$\\displaystyle {E[T]}_{P} = 0.571428571428572$"
      ],
      "text/plain": [
       "E[T][P] = 0.571428571428572"
      ]
     },
     "metadata": {},
     "output_type": "display_data"
    },
    {
     "data": {
      "image/png": "[encoded data removed]",
      "text/latex": [
       "$\\displaystyle {X}_{P} = 0.75$"
      ],
      "text/plain": [
       "X[P] = 0.75"
      ]
     },
     "metadata": {},
     "output_type": "display_data"
    },
    {
     "data": {
      "image/png": "[encoded data removed]",
      "text/latex": [
       "$\\displaystyle {E[N]}_{P} = 0.428571428571429$"
      ],
      "text/plain": [
       "E[N][P] = 0.428571428571429"
      ]
     },
     "metadata": {},
     "output_type": "display_data"
    },
    {
     "data": {
      "text/plain": [
       "'----------------------------------'"
      ]
     },
     "metadata": {},
     "output_type": "display_data"
    },
    {
     "data": {
      "image/png": "[encoded data removed]",
      "text/latex": [
       "$\\displaystyle \\gamma = 0.8$"
      ],
      "text/plain": [
       "γ = 0.8"
      ]
     },
     "metadata": {},
     "output_type": "display_data"
    },
    {
     "data": {
      "image/png": "[encoded data removed]",
      "text/latex": [
       "$\\displaystyle {E[T]}_{A} = 0.29126213592233$"
      ],
      "text/plain": [
       "E[T][A] = 0.29126213592233"
      ]
     },
     "metadata": {},
     "output_type": "display_data"
    },
    {
     "data": {
      "image/png": "[encoded data removed]",
      "text/latex": [
       "$\\displaystyle {X}_{A} = 2.4$"
      ],
      "text/plain": [
       "X[A] = 2.4"
      ]
     },
     "metadata": {},
     "output_type": "display_data"
    },
    {
     "data": {
      "image/png": "[encoded data removed]",
      "text/latex": [
       "$\\displaystyle {E[N]}_{A} = 0.699029126213592$"
      ],
      "text/plain": [
       "E[N][A] = 0.699029126213592"
      ]
     },
     "metadata": {},
     "output_type": "display_data"
    },
    {
     "data": {
      "image/png": "[encoded data removed]",
      "text/latex": [
       "$\\displaystyle {E[T]}_{B} = 2.22222222222222$"
      ],
      "text/plain": [
       "E[T][B] = 2.22222222222222"
      ]
     },
     "metadata": {},
     "output_type": "display_data"
    },
    {
     "data": {
      "image/png": "[encoded data removed]",
      "text/latex": [
       "$\\displaystyle {X}_{B} = 0.8$"
      ],
      "text/plain": [
       "X[B] = 0.8"
      ]
     },
     "metadata": {},
     "output_type": "display_data"
    },
    {
     "data": {
      "image/png": "[encoded data removed]",
      "text/latex": [
       "$\\displaystyle {E[N]}_{B} = 1.77777777777778$"
      ],
      "text/plain": [
       "E[N][B] = 1.77777777777778"
      ]
     },
     "metadata": {},
     "output_type": "display_data"
    },
    {
     "data": {
      "image/png": "[encoded data removed]",
      "text/latex": [
       "$\\displaystyle {E[T]}_{P} = 0.588235294117647$"
      ],
      "text/plain": [
       "E[T][P] = 0.588235294117647"
      ]
     },
     "metadata": {},
     "output_type": "display_data"
    },
    {
     "data": {
      "image/png": "[encoded data removed]",
      "text/latex": [
       "$\\displaystyle {X}_{P} = 0.8$"
      ],
      "text/plain": [
       "X[P] = 0.8"
      ]
     },
     "metadata": {},
     "output_type": "display_data"
    },
    {
     "data": {
      "image/png": "[encoded data removed]",
      "text/latex": [
       "$\\displaystyle {E[N]}_{P} = 0.470588235294118$"
      ],
      "text/plain": [
       "E[N][P] = 0.470588235294118"
      ]
     },
     "metadata": {},
     "output_type": "display_data"
    },
    {
     "data": {
      "text/plain": [
       "'----------------------------------'"
      ]
     },
     "metadata": {},
     "output_type": "display_data"
    },
    {
     "data": {
      "image/png": "[encoded data removed]",
      "text/latex": [
       "$\\displaystyle \\gamma = 0.85$"
      ],
      "text/plain": [
       "γ = 0.85"
      ]
     },
     "metadata": {},
     "output_type": "display_data"
    },
    {
     "data": {
      "image/png": "[encoded data removed]",
      "text/latex": [
       "$\\displaystyle {E[T]}_{A} = 0.304568527918782$"
      ],
      "text/plain": [
       "E[T][A] = 0.304568527918782"
      ]
     },
     "metadata": {},
     "output_type": "display_data"
    },
    {
     "data": {
      "image/png": "[encoded data removed]",
      "text/latex": [
       "$\\displaystyle {X}_{A} = 2.55$"
      ],
      "text/plain": [
       "X[A] = 2.55"
      ]
     },
     "metadata": {},
     "output_type": "display_data"
    },
    {
     "data": {
      "image/png": "[encoded data removed]",
      "text/latex": [
       "$\\displaystyle {E[N]}_{A} = 0.776649746192893$"
      ],
      "text/plain": [
       "E[N][A] = 0.776649746192893"
      ]
     },
     "metadata": {},
     "output_type": "display_data"
    },
    {
     "data": {
      "image/png": "[encoded data removed]",
      "text/latex": [
       "$\\displaystyle {E[T]}_{B} = 2.5$"
      ],
      "text/plain": [
       "E[T][B] = 2.5"
      ]
     },
     "metadata": {},
     "output_type": "display_data"
    },
    {
     "data": {
      "image/png": "[encoded data removed]",
      "text/latex": [
       "$\\displaystyle {X}_{B} = 0.85$"
      ],
      "text/plain": [
       "X[B] = 0.85"
      ]
     },
     "metadata": {},
     "output_type": "display_data"
    },
    {
     "data": {
      "image/png": "[encoded data removed]",
      "text/latex": [
       "$\\displaystyle {E[N]}_{B} = 2.125$"
      ],
      "text/plain": [
       "E[N][B] = 2.125"
      ]
     },
     "metadata": {},
     "output_type": "display_data"
    },
    {
     "data": {
      "image/png": "[encoded data removed]",
      "text/latex": [
       "$\\displaystyle {E[T]}_{P} = 0.606060606060606$"
      ],
      "text/plain": [
       "E[T][P] = 0.606060606060606"
      ]
     },
     "metadata": {},
     "output_type": "display_data"
    },
    {
     "data": {
      "image/png": "[encoded data removed]",
      "text/latex": [
       "$\\displaystyle {X}_{P} = 0.85$"
      ],
      "text/plain": [
       "X[P] = 0.85"
      ]
     },
     "metadata": {},
     "output_type": "display_data"
    },
    {
     "data": {
      "image/png": "[encoded data removed]",
      "text/latex": [
       "$\\displaystyle {E[N]}_{P} = 0.515151515151515$"
      ],
      "text/plain": [
       "E[N][P] = 0.515151515151515"
      ]
     },
     "metadata": {},
     "output_type": "display_data"
    },
    {
     "data": {
      "text/plain": [
       "'----------------------------------'"
      ]
     },
     "metadata": {},
     "output_type": "display_data"
    },
    {
     "data": {
      "image/png": "[encoded data removed]",
      "text/latex": [
       "$\\displaystyle \\gamma = 0.9$"
      ],
      "text/plain": [
       "γ = 0.9"
      ]
     },
     "metadata": {},
     "output_type": "display_data"
    },
    {
     "data": {
      "image/png": "[encoded data removed]",
      "text/latex": [
       "$\\displaystyle {E[T]}_{A} = 0.319148936170213$"
      ],
      "text/plain": [
       "E[T][A] = 0.319148936170213"
      ]
     },
     "metadata": {},
     "output_type": "display_data"
    },
    {
     "data": {
      "image/png": "[encoded data removed]",
      "text/latex": [
       "$\\displaystyle {X}_{A} = 2.7$"
      ],
      "text/plain": [
       "X[A] = 2.7"
      ]
     },
     "metadata": {},
     "output_type": "display_data"
    },
    {
     "data": {
      "image/png": "[encoded data removed]",
      "text/latex": [
       "$\\displaystyle {E[N]}_{A} = 0.861702127659575$"
      ],
      "text/plain": [
       "E[N][A] = 0.861702127659575"
      ]
     },
     "metadata": {},
     "output_type": "display_data"
    },
    {
     "data": {
      "image/png": "[encoded data removed]",
      "text/latex": [
       "$\\displaystyle {E[T]}_{B} = 2.85714285714286$"
      ],
      "text/plain": [
       "E[T][B] = 2.85714285714286"
      ]
     },
     "metadata": {},
     "output_type": "display_data"
    },
    {
     "data": {
      "image/png": "[encoded data removed]",
      "text/latex": [
       "$\\displaystyle {X}_{B} = 0.9$"
      ],
      "text/plain": [
       "X[B] = 0.9"
      ]
     },
     "metadata": {},
     "output_type": "display_data"
    },
    {
     "data": {
      "image/png": "[encoded data removed]",
      "text/latex": [
       "$\\displaystyle {E[N]}_{B} = 2.57142857142857$"
      ],
      "text/plain": [
       "E[N][B] = 2.57142857142857"
      ]
     },
     "metadata": {},
     "output_type": "display_data"
    },
    {
     "data": {
      "image/png": "[encoded data removed]",
      "text/latex": [
       "$\\displaystyle {E[T]}_{P} = 0.625$"
      ],
      "text/plain": [
       "E[T][P] = 0.625"
      ]
     },
     "metadata": {},
     "output_type": "display_data"
    },
    {
     "data": {
      "image/png": "[encoded data removed]",
      "text/latex": [
       "$\\displaystyle {X}_{P} = 0.9$"
      ],
      "text/plain": [
       "X[P] = 0.9"
      ]
     },
     "metadata": {},
     "output_type": "display_data"
    },
    {
     "data": {
      "image/png": "[encoded data removed]",
      "text/latex": [
       "$\\displaystyle {E[N]}_{P} = 0.5625$"
      ],
      "text/plain": [
       "E[N][P] = 0.5625"
      ]
     },
     "metadata": {},
     "output_type": "display_data"
    },
    {
     "data": {
      "text/plain": [
       "'----------------------------------'"
      ]
     },
     "metadata": {},
     "output_type": "display_data"
    },
    {
     "data": {
      "image/png": "[encoded data removed]",
      "text/latex": [
       "$\\displaystyle \\gamma = 0.95$"
      ],
      "text/plain": [
       "γ = 0.95"
      ]
     },
     "metadata": {},
     "output_type": "display_data"
    },
    {
     "data": {
      "image/png": "[encoded data removed]",
      "text/latex": [
       "$\\displaystyle {E[T]}_{A} = 0.335195530726257$"
      ],
      "text/plain": [
       "E[T][A] = 0.335195530726257"
      ]
     },
     "metadata": {},
     "output_type": "display_data"
    },
    {
     "data": {
      "image/png": "[encoded data removed]",
      "text/latex": [
       "$\\displaystyle {X}_{A} = 2.85$"
      ],
      "text/plain": [
       "X[A] = 2.85"
      ]
     },
     "metadata": {},
     "output_type": "display_data"
    },
    {
     "data": {
      "image/png": "[encoded data removed]",
      "text/latex": [
       "$\\displaystyle {E[N]}_{A} = 0.955307262569832$"
      ],
      "text/plain": [
       "E[N][A] = 0.955307262569832"
      ]
     },
     "metadata": {},
     "output_type": "display_data"
    },
    {
     "data": {
      "image/png": "[encoded data removed]",
      "text/latex": [
       "$\\displaystyle {E[T]}_{B} = 3.33333333333333$"
      ],
      "text/plain": [
       "E[T][B] = 3.33333333333333"
      ]
     },
     "metadata": {},
     "output_type": "display_data"
    },
    {
     "data": {
      "image/png": "[encoded data removed]",
      "text/latex": [
       "$\\displaystyle {X}_{B} = 0.95$"
      ],
      "text/plain": [
       "X[B] = 0.95"
      ]
     },
     "metadata": {},
     "output_type": "display_data"
    },
    {
     "data": {
      "image/png": "[encoded data removed]",
      "text/latex": [
       "$\\displaystyle {E[N]}_{B} = 3.16666666666667$"
      ],
      "text/plain": [
       "E[N][B] = 3.16666666666667"
      ]
     },
     "metadata": {},
     "output_type": "display_data"
    },
    {
     "data": {
      "image/png": "[encoded data removed]",
      "text/latex": [
       "$\\displaystyle {E[T]}_{P} = 0.645161290322581$"
      ],
      "text/plain": [
       "E[T][P] = 0.645161290322581"
      ]
     },
     "metadata": {},
     "output_type": "display_data"
    },
    {
     "data": {
      "image/png": "[encoded data removed]",
      "text/latex": [
       "$\\displaystyle {X}_{P} = 0.95$"
      ],
      "text/plain": [
       "X[P] = 0.95"
      ]
     },
     "metadata": {},
     "output_type": "display_data"
    },
    {
     "data": {
      "image/png": "[encoded data removed]",
      "text/latex": [
       "$\\displaystyle {E[N]}_{P} = 0.612903225806452$"
      ],
      "text/plain": [
       "E[N][P] = 0.612903225806452"
      ]
     },
     "metadata": {},
     "output_type": "display_data"
    },
    {
     "data": {
      "text/plain": [
       "'----------------------------------'"
      ]
     },
     "metadata": {},
     "output_type": "display_data"
    },
    {
     "data": {
      "image/png": "[encoded data removed]",
      "text/latex": [
       "$\\displaystyle \\gamma = 1.0$"
      ],
      "text/plain": [
       "γ = 1.0"
      ]
     },
     "metadata": {},
     "output_type": "display_data"
    },
    {
     "data": {
      "image/png": "[encoded data removed]",
      "text/latex": [
       "$\\displaystyle {E[T]}_{A} = 0.352941176470588$"
      ],
      "text/plain": [
       "E[T][A] = 0.352941176470588"
      ]
     },
     "metadata": {},
     "output_type": "display_data"
    },
    {
     "data": {
      "image/png": "[encoded data removed]",
      "text/latex": [
       "$\\displaystyle {X}_{A} = 3.0$"
      ],
      "text/plain": [
       "X[A] = 3.0"
      ]
     },
     "metadata": {},
     "output_type": "display_data"
    },
    {
     "data": {
      "image/png": "[encoded data removed]",
      "text/latex": [
       "$\\displaystyle {E[N]}_{A} = 1.05882352941176$"
      ],
      "text/plain": [
       "E[N][A] = 1.05882352941176"
      ]
     },
     "metadata": {},
     "output_type": "display_data"
    },
    {
     "data": {
      "image/png": "[encoded data removed]",
      "text/latex": [
       "$\\displaystyle {E[T]}_{B} = 4.0$"
      ],
      "text/plain": [
       "E[T][B] = 4.0"
      ]
     },
     "metadata": {},
     "output_type": "display_data"
    },
    {
     "data": {
      "image/png": "[encoded data removed]",
      "text/latex": [
       "$\\displaystyle {X}_{B} = 1.0$"
      ],
      "text/plain": [
       "X[B] = 1.0"
      ]
     },
     "metadata": {},
     "output_type": "display_data"
    },
    {
     "data": {
      "image/png": "[encoded data removed]",
      "text/latex": [
       "$\\displaystyle {E[N]}_{B} = 4.0$"
      ],
      "text/plain": [
       "E[N][B] = 4.0"
      ]
     },
     "metadata": {},
     "output_type": "display_data"
    },
    {
     "data": {
      "image/png": "[encoded data removed]",
      "text/latex": [
       "$\\displaystyle {E[T]}_{P} = 0.666666666666667$"
      ],
      "text/plain": [
       "E[T][P] = 0.666666666666667"
      ]
     },
     "metadata": {},
     "output_type": "display_data"
    },
    {
     "data": {
      "image/png": "[encoded data removed]",
      "text/latex": [
       "$\\displaystyle {X}_{P} = 1.0$"
      ],
      "text/plain": [
       "X[P] = 1.0"
      ]
     },
     "metadata": {},
     "output_type": "display_data"
    },
    {
     "data": {
      "image/png": "[encoded data removed]",
      "text/latex": [
       "$\\displaystyle {E[N]}_{P} = 0.666666666666667$"
      ],
      "text/plain": [
       "E[N][P] = 0.666666666666667"
      ]
     },
     "metadata": {},
     "output_type": "display_data"
    },
    {
     "data": {
      "text/plain": [
       "'----------------------------------'"
      ]
     },
     "metadata": {},
     "output_type": "display_data"
    },
    {
     "data": {
      "image/png": "[encoded data removed]",
      "text/latex": [
       "$\\displaystyle \\gamma = 1.05$"
      ],
      "text/plain": [
       "γ = 1.05"
      ]
     },
     "metadata": {},
     "output_type": "display_data"
    },
    {
     "data": {
      "image/png": "[encoded data removed]",
      "text/latex": [
       "$\\displaystyle {E[T]}_{A} = 0.372670807453416$"
      ],
      "text/plain": [
       "E[T][A] = 0.372670807453416"
      ]
     },
     "metadata": {},
     "output_type": "display_data"
    },
    {
     "data": {
      "image/png": "[encoded data removed]",
      "text/latex": [
       "$\\displaystyle {X}_{A} = 3.15$"
      ],
      "text/plain": [
       "X[A] = 3.15"
      ]
     },
     "metadata": {},
     "output_type": "display_data"
    },
    {
     "data": {
      "image/png": "[encoded data removed]",
      "text/latex": [
       "$\\displaystyle {E[N]}_{A} = 1.17391304347826$"
      ],
      "text/plain": [
       "E[N][A] = 1.17391304347826"
      ]
     },
     "metadata": {},
     "output_type": "display_data"
    },
    {
     "data": {
      "image/png": "[encoded data removed]",
      "text/latex": [
       "$\\displaystyle {E[T]}_{B} = 5.0$"
      ],
      "text/plain": [
       "E[T][B] = 5.0"
      ]
     },
     "metadata": {},
     "output_type": "display_data"
    },
    {
     "data": {
      "image/png": "[encoded data removed]",
      "text/latex": [
       "$\\displaystyle {X}_{B} = 1.05$"
      ],
      "text/plain": [
       "X[B] = 1.05"
      ]
     },
     "metadata": {},
     "output_type": "display_data"
    },
    {
     "data": {
      "image/png": "[encoded data removed]",
      "text/latex": [
       "$\\displaystyle {E[N]}_{B} = 5.25$"
      ],
      "text/plain": [
       "E[N][B] = 5.25"
      ]
     },
     "metadata": {},
     "output_type": "display_data"
    },
    {
     "data": {
      "image/png": "[encoded data removed]",
      "text/latex": [
       "$\\displaystyle {E[T]}_{P} = 0.689655172413793$"
      ],
      "text/plain": [
       "E[T][P] = 0.689655172413793"
      ]
     },
     "metadata": {},
     "output_type": "display_data"
    },
    {
     "data": {
      "image/png": "[encoded data removed]",
      "text/latex": [
       "$\\displaystyle {X}_{P} = 1.05$"
      ],
      "text/plain": [
       "X[P] = 1.05"
      ]
     },
     "metadata": {},
     "output_type": "display_data"
    },
    {
     "data": {
      "image/png": "[encoded data removed]",
      "text/latex": [
       "$\\displaystyle {E[N]}_{P} = 0.724137931034483$"
      ],
      "text/plain": [
       "E[N][P] = 0.724137931034483"
      ]
     },
     "metadata": {},
     "output_type": "display_data"
    },
    {
     "data": {
      "text/plain": [
       "'----------------------------------'"
      ]
     },
     "metadata": {},
     "output_type": "display_data"
    },
    {
     "data": {
      "image/png": "[encoded data removed]",
      "text/latex": [
       "$\\displaystyle \\gamma = 1.1$"
      ],
      "text/plain": [
       "γ = 1.1"
      ]
     },
     "metadata": {},
     "output_type": "display_data"
    },
    {
     "data": {
      "image/png": "[encoded data removed]",
      "text/latex": [
       "$\\displaystyle {E[T]}_{A} = 0.394736842105263$"
      ],
      "text/plain": [
       "E[T][A] = 0.394736842105263"
      ]
     },
     "metadata": {},
     "output_type": "display_data"
    },
    {
     "data": {
      "image/png": "[encoded data removed]",
      "text/latex": [
       "$\\displaystyle {X}_{A} = 3.3$"
      ],
      "text/plain": [
       "X[A] = 3.3"
      ]
     },
     "metadata": {},
     "output_type": "display_data"
    },
    {
     "data": {
      "image/png": "[encoded data removed]",
      "text/latex": [
       "$\\displaystyle {E[N]}_{A} = 1.30263157894737$"
      ],
      "text/plain": [
       "E[N][A] = 1.30263157894737"
      ]
     },
     "metadata": {},
     "output_type": "display_data"
    },
    {
     "data": {
      "image/png": "[encoded data removed]",
      "text/latex": [
       "$\\displaystyle {E[T]}_{B} = 6.66666666666667$"
      ],
      "text/plain": [
       "E[T][B] = 6.66666666666667"
      ]
     },
     "metadata": {},
     "output_type": "display_data"
    },
    {
     "data": {
      "image/png": "[encoded data removed]",
      "text/latex": [
       "$\\displaystyle {X}_{B} = 1.1$"
      ],
      "text/plain": [
       "X[B] = 1.1"
      ]
     },
     "metadata": {},
     "output_type": "display_data"
    },
    {
     "data": {
      "image/png": "[encoded data removed]",
      "text/latex": [
       "$\\displaystyle {E[N]}_{B} = 7.33333333333334$"
      ],
      "text/plain": [
       "E[N][B] = 7.33333333333334"
      ]
     },
     "metadata": {},
     "output_type": "display_data"
    },
    {
     "data": {
      "image/png": "[encoded data removed]",
      "text/latex": [
       "$\\displaystyle {E[T]}_{P} = 0.714285714285714$"
      ],
      "text/plain": [
       "E[T][P] = 0.714285714285714"
      ]
     },
     "metadata": {},
     "output_type": "display_data"
    },
    {
     "data": {
      "image/png": "[encoded data removed]",
      "text/latex": [
       "$\\displaystyle {X}_{P} = 1.1$"
      ],
      "text/plain": [
       "X[P] = 1.1"
      ]
     },
     "metadata": {},
     "output_type": "display_data"
    },
    {
     "data": {
      "image/png": "[encoded data removed]",
      "text/latex": [
       "$\\displaystyle {E[N]}_{P} = 0.785714285714286$"
      ],
      "text/plain": [
       "E[N][P] = 0.785714285714286"
      ]
     },
     "metadata": {},
     "output_type": "display_data"
    },
    {
     "data": {
      "text/plain": [
       "'----------------------------------'"
      ]
     },
     "metadata": {},
     "output_type": "display_data"
    },
    {
     "data": {
      "image/png": "[encoded data removed]",
      "text/latex": [
       "$\\displaystyle \\gamma = 1.15$"
      ],
      "text/plain": [
       "γ = 1.15"
      ]
     },
     "metadata": {},
     "output_type": "display_data"
    },
    {
     "data": {
      "image/png": "[encoded data removed]",
      "text/latex": [
       "$\\displaystyle {E[T]}_{A} = 0.419580419580419$"
      ],
      "text/plain": [
       "E[T][A] = 0.419580419580419"
      ]
     },
     "metadata": {},
     "output_type": "display_data"
    },
    {
     "data": {
      "image/png": "[encoded data removed]",
      "text/latex": [
       "$\\displaystyle {X}_{A} = 3.45$"
      ],
      "text/plain": [
       "X[A] = 3.45"
      ]
     },
     "metadata": {},
     "output_type": "display_data"
    },
    {
     "data": {
      "image/png": "[encoded data removed]",
      "text/latex": [
       "$\\displaystyle {E[N]}_{A} = 1.44755244755245$"
      ],
      "text/plain": [
       "E[N][A] = 1.44755244755245"
      ]
     },
     "metadata": {},
     "output_type": "display_data"
    },
    {
     "data": {
      "image/png": "[encoded data removed]",
      "text/latex": [
       "$\\displaystyle {E[T]}_{B} = 9.99999999999999$"
      ],
      "text/plain": [
       "E[T][B] = 9.99999999999999"
      ]
     },
     "metadata": {},
     "output_type": "display_data"
    },
    {
     "data": {
      "image/png": "[encoded data removed]",
      "text/latex": [
       "$\\displaystyle {X}_{B} = 1.15$"
      ],
      "text/plain": [
       "X[B] = 1.15"
      ]
     },
     "metadata": {},
     "output_type": "display_data"
    },
    {
     "data": {
      "image/png": "[encoded data removed]",
      "text/latex": [
       "$\\displaystyle {E[N]}_{B} = 11.5$"
      ],
      "text/plain": [
       "E[N][B] = 11.5"
      ]
     },
     "metadata": {},
     "output_type": "display_data"
    },
    {
     "data": {
      "image/png": "[encoded data removed]",
      "text/latex": [
       "$\\displaystyle {E[T]}_{P} = 0.740740740740741$"
      ],
      "text/plain": [
       "E[T][P] = 0.740740740740741"
      ]
     },
     "metadata": {},
     "output_type": "display_data"
    },
    {
     "data": {
      "image/png": "[encoded data removed]",
      "text/latex": [
       "$\\displaystyle {X}_{P} = 1.15$"
      ],
      "text/plain": [
       "X[P] = 1.15"
      ]
     },
     "metadata": {},
     "output_type": "display_data"
    },
    {
     "data": {
      "image/png": "[encoded data removed]",
      "text/latex": [
       "$\\displaystyle {E[N]}_{P} = 0.851851851851852$"
      ],
      "text/plain": [
       "E[N][P] = 0.851851851851852"
      ]
     },
     "metadata": {},
     "output_type": "display_data"
    },
    {
     "data": {
      "text/plain": [
       "'----------------------------------'"
      ]
     },
     "metadata": {},
     "output_type": "display_data"
    },
    {
     "data": {
      "image/png": "[encoded data removed]",
      "text/latex": [
       "$\\displaystyle \\gamma = 1.2$"
      ],
      "text/plain": [
       "γ = 1.2"
      ]
     },
     "metadata": {},
     "output_type": "display_data"
    },
    {
     "data": {
      "image/png": "[encoded data removed]",
      "text/latex": [
       "$\\displaystyle {E[T]}_{A} = 0.447761194029851$"
      ],
      "text/plain": [
       "E[T][A] = 0.447761194029851"
      ]
     },
     "metadata": {},
     "output_type": "display_data"
    },
    {
     "data": {
      "image/png": "[encoded data removed]",
      "text/latex": [
       "$\\displaystyle {X}_{A} = 3.6$"
      ],
      "text/plain": [
       "X[A] = 3.6"
      ]
     },
     "metadata": {},
     "output_type": "display_data"
    },
    {
     "data": {
      "image/png": "[encoded data removed]",
      "text/latex": [
       "$\\displaystyle {E[N]}_{A} = 1.61194029850746$"
      ],
      "text/plain": [
       "E[N][A] = 1.61194029850746"
      ]
     },
     "metadata": {},
     "output_type": "display_data"
    },
    {
     "data": {
      "image/png": "[encoded data removed]",
      "text/latex": [
       "$\\displaystyle {E[T]}_{B} = 20.0$"
      ],
      "text/plain": [
       "E[T][B] = 20.0"
      ]
     },
     "metadata": {},
     "output_type": "display_data"
    },
    {
     "data": {
      "image/png": "[encoded data removed]",
      "text/latex": [
       "$\\displaystyle {X}_{B} = 1.2$"
      ],
      "text/plain": [
       "X[B] = 1.2"
      ]
     },
     "metadata": {},
     "output_type": "display_data"
    },
    {
     "data": {
      "image/png": "[encoded data removed]",
      "text/latex": [
       "$\\displaystyle {E[N]}_{B} = 24.0$"
      ],
      "text/plain": [
       "E[N][B] = 24.0"
      ]
     },
     "metadata": {},
     "output_type": "display_data"
    },
    {
     "data": {
      "image/png": "[encoded data removed]",
      "text/latex": [
       "$\\displaystyle {E[T]}_{P} = 0.769230769230769$"
      ],
      "text/plain": [
       "E[T][P] = 0.769230769230769"
      ]
     },
     "metadata": {},
     "output_type": "display_data"
    },
    {
     "data": {
      "image/png": "[encoded data removed]",
      "text/latex": [
       "$\\displaystyle {X}_{P} = 1.2$"
      ],
      "text/plain": [
       "X[P] = 1.2"
      ]
     },
     "metadata": {},
     "output_type": "display_data"
    },
    {
     "data": {
      "image/png": "[encoded data removed]",
      "text/latex": [
       "$\\displaystyle {E[N]}_{P} = 0.923076923076923$"
      ],
      "text/plain": [
       "E[N][P] = 0.923076923076923"
      ]
     },
     "metadata": {},
     "output_type": "display_data"
    }
   ],
   "source": [
    "e_t_values = {}\n",
    "\n",
    "for rate in stable_rates:\n",
    "    e_t_values[rate] = {}\n",
    "\n",
    "e_t_expr = 1 / (mu_s[s] * (1 - rho[s]))\n",
    "display(Eq(e_t[s], e_t_expr))\n",
    "\n",
    "e_n_expr = lambda_[s] * e_t[s]\n",
    "display(Eq(e_n[s], e_n_expr))\n",
    "\n",
    "display(throughputs)\n",
    "\n",
    "for rate in rho_values.keys():\n",
    "    display(\"----------------------------------\")\n",
    "    display(Eq(gamma, rate))\n",
    "    for server in servers:\n",
    "        \n",
    "        # response time\n",
    "        mu_s_expr = get_mu_s_expr(server).doit().subs({mu[server, cl]: service_rates[server][cl] for cl in classes}, simultaneous=True)\n",
    "        mu_s_val = mu_vals[server]\n",
    "        rho_val = rho_values[rate][server]\n",
    "        e_t_val = e_t_expr.subs({\n",
    "            mu_s[s]: mu_s_val,\n",
    "            rho[s]: rho_val\n",
    "        }).doit()\n",
    "        display(Eq(e_t[server], e_t_val))\n",
    "        e_t_values[rate][server] = e_t_val\n",
    "\n",
    "        # throughput\n",
    "        display(Eq(x[server], throughputs[x[server]].subs(gamma, rate)))\n",
    "\n",
    "        # mean population\n",
    "        lambda_expr = lambda_exprs[server].subs(gamma, rate)\n",
    "        e_n_val = e_n_expr.subs({\n",
    "            lambda_[s]: lambda_expr,\n",
    "            e_t[s]: e_t_val\n",
    "        })\n",
    "        display(Eq(e_n[server], e_n_val))\n",
    "        \n"
   ]
  },
  {
   "cell_type": "markdown",
   "metadata": {},
   "source": [
    "### Global Performances\n",
    "\n",
    "We have to consider mean job visits to each node in order to compute the global mean response time.\n",
    "\n",
    "Global throughput is given by external arrival rate $\\gamma$ in each stable configuration.\n",
    "\n",
    "Once again, we can leverage little to compute the global mean population."
   ]
  },
  {
   "cell_type": "code",
   "execution_count": 156,
   "metadata": {},
   "outputs": [
    {
     "data": {
      "image/png": "[encoded data removed]",
      "text/latex": [
       "$\\displaystyle {v}_{s} = \\frac{{\\lambda}_{s}}{\\gamma}$"
      ],
      "text/plain": [
       "       lambda[s]\n",
       "v[s] = ─────────\n",
       "           γ    "
      ]
     },
     "metadata": {},
     "output_type": "display_data"
    },
    {
     "data": {
      "text/plain": [
       "'----------------------------------'"
      ]
     },
     "metadata": {},
     "output_type": "display_data"
    },
    {
     "data": {
      "image/png": "[encoded data removed]",
      "text/latex": [
       "$\\displaystyle {v}_{A} = 3$"
      ],
      "text/plain": [
       "v[A] = 3"
      ]
     },
     "metadata": {},
     "output_type": "display_data"
    },
    {
     "data": {
      "image/png": "[encoded data removed]",
      "text/latex": [
       "$\\displaystyle {v}_{B} = 1$"
      ],
      "text/plain": [
       "v[B] = 1"
      ]
     },
     "metadata": {},
     "output_type": "display_data"
    },
    {
     "data": {
      "image/png": "[encoded data removed]",
      "text/latex": [
       "$\\displaystyle {v}_{P} = 1$"
      ],
      "text/plain": [
       "v[P] = 1"
      ]
     },
     "metadata": {},
     "output_type": "display_data"
    },
    {
     "data": {
      "text/plain": [
       "'----------------------------------'"
      ]
     },
     "metadata": {},
     "output_type": "display_data"
    },
    {
     "data": {
      "image/png": "[encoded data removed]",
      "text/latex": [
       "$\\displaystyle E[T] = \\sum_{s=A}^{P} {E[T]}_{s} {v}_{s}$"
      ],
      "text/plain": [
       "         P               \n",
       "        ___              \n",
       "        ╲                \n",
       "         ╲               \n",
       "E[T] =   ╱   E[T][s]⋅v[s]\n",
       "        ╱                \n",
       "        ‾‾‾              \n",
       "       s = A             "
      ]
     },
     "metadata": {},
     "output_type": "display_data"
    },
    {
     "data": {
      "image/png": "[encoded data removed]",
      "text/latex": [
       "$\\displaystyle E[N] = \\gamma E[T]$"
      ],
      "text/plain": [
       "E[N] = γ⋅E[T]"
      ]
     },
     "metadata": {},
     "output_type": "display_data"
    },
    {
     "data": {
      "image/png": "[encoded data removed]",
      "text/latex": [
       "$\\displaystyle X = {X}_{A} {p}_{A,3}$"
      ],
      "text/plain": [
       "X = X[A]⋅p[A, 3]"
      ]
     },
     "metadata": {},
     "output_type": "display_data"
    },
    {
     "data": {
      "text/plain": [
       "'----------------------------------'"
      ]
     },
     "metadata": {},
     "output_type": "display_data"
    },
    {
     "data": {
      "image/png": "[encoded data removed]",
      "text/latex": [
       "$\\displaystyle \\gamma = 0.5$"
      ],
      "text/plain": [
       "γ = 0.5"
      ]
     },
     "metadata": {},
     "output_type": "display_data"
    },
    {
     "data": {
      "image/png": "[encoded data removed]",
      "text/latex": [
       "$\\displaystyle E[T] = 2.52564102564103$"
      ],
      "text/plain": [
       "E[T] = 2.52564102564103"
      ]
     },
     "metadata": {},
     "output_type": "display_data"
    },
    {
     "data": {
      "image/png": "[encoded data removed]",
      "text/latex": [
       "$\\displaystyle E[N] = 1.26282051282051$"
      ],
      "text/plain": [
       "E[N] = 1.26282051282051"
      ]
     },
     "metadata": {},
     "output_type": "display_data"
    },
    {
     "data": {
      "image/png": "[encoded data removed]",
      "text/latex": [
       "$\\displaystyle X = 0.5$"
      ],
      "text/plain": [
       "X = 0.5"
      ]
     },
     "metadata": {},
     "output_type": "display_data"
    },
    {
     "data": {
      "text/plain": [
       "'----------------------------------'"
      ]
     },
     "metadata": {},
     "output_type": "display_data"
    },
    {
     "data": {
      "image/png": "[encoded data removed]",
      "text/latex": [
       "$\\displaystyle \\gamma = 0.55$"
      ],
      "text/plain": [
       "γ = 0.55"
      ]
     },
     "metadata": {},
     "output_type": "display_data"
    },
    {
     "data": {
      "image/png": "[encoded data removed]",
      "text/latex": [
       "$\\displaystyle E[T] = 2.65852341549553$"
      ],
      "text/plain": [
       "E[T] = 2.65852341549553"
      ]
     },
     "metadata": {},
     "output_type": "display_data"
    },
    {
     "data": {
      "image/png": "[encoded data removed]",
      "text/latex": [
       "$\\displaystyle E[N] = 1.46218787852254$"
      ],
      "text/plain": [
       "E[N] = 1.46218787852254"
      ]
     },
     "metadata": {},
     "output_type": "display_data"
    },
    {
     "data": {
      "image/png": "[encoded data removed]",
      "text/latex": [
       "$\\displaystyle X = 0.55$"
      ],
      "text/plain": [
       "X = 0.55"
      ]
     },
     "metadata": {},
     "output_type": "display_data"
    },
    {
     "data": {
      "text/plain": [
       "'----------------------------------'"
      ]
     },
     "metadata": {},
     "output_type": "display_data"
    },
    {
     "data": {
      "image/png": "[encoded data removed]",
      "text/latex": [
       "$\\displaystyle \\gamma = 0.6$"
      ],
      "text/plain": [
       "γ = 0.6"
      ]
     },
     "metadata": {},
     "output_type": "display_data"
    },
    {
     "data": {
      "image/png": "[encoded data removed]",
      "text/latex": [
       "$\\displaystyle E[T] = 2.80857898082778$"
      ],
      "text/plain": [
       "E[T] = 2.80857898082778"
      ]
     },
     "metadata": {},
     "output_type": "display_data"
    },
    {
     "data": {
      "image/png": "[encoded data removed]",
      "text/latex": [
       "$\\displaystyle E[N] = 1.68514738849667$"
      ],
      "text/plain": [
       "E[N] = 1.68514738849667"
      ]
     },
     "metadata": {},
     "output_type": "display_data"
    },
    {
     "data": {
      "image/png": "[encoded data removed]",
      "text/latex": [
       "$\\displaystyle X = 0.6$"
      ],
      "text/plain": [
       "X = 0.6"
      ]
     },
     "metadata": {},
     "output_type": "display_data"
    },
    {
     "data": {
      "text/plain": [
       "'----------------------------------'"
      ]
     },
     "metadata": {},
     "output_type": "display_data"
    },
    {
     "data": {
      "image/png": "[encoded data removed]",
      "text/latex": [
       "$\\displaystyle \\gamma = 0.65$"
      ],
      "text/plain": [
       "γ = 0.65"
      ]
     },
     "metadata": {},
     "output_type": "display_data"
    },
    {
     "data": {
      "image/png": "[encoded data removed]",
      "text/latex": [
       "$\\displaystyle E[T] = 2.97973939604841$"
      ],
      "text/plain": [
       "E[T] = 2.97973939604841"
      ]
     },
     "metadata": {},
     "output_type": "display_data"
    },
    {
     "data": {
      "image/png": "[encoded data removed]",
      "text/latex": [
       "$\\displaystyle E[N] = 1.93683060743147$"
      ],
      "text/plain": [
       "E[N] = 1.93683060743147"
      ]
     },
     "metadata": {},
     "output_type": "display_data"
    },
    {
     "data": {
      "image/png": "[encoded data removed]",
      "text/latex": [
       "$\\displaystyle X = 0.65$"
      ],
      "text/plain": [
       "X = 0.65"
      ]
     },
     "metadata": {},
     "output_type": "display_data"
    },
    {
     "data": {
      "text/plain": [
       "'----------------------------------'"
      ]
     },
     "metadata": {},
     "output_type": "display_data"
    },
    {
     "data": {
      "image/png": "[encoded data removed]",
      "text/latex": [
       "$\\displaystyle \\gamma = 0.7$"
      ],
      "text/plain": [
       "γ = 0.7"
      ]
     },
     "metadata": {},
     "output_type": "display_data"
    },
    {
     "data": {
      "image/png": "[encoded data removed]",
      "text/latex": [
       "$\\displaystyle E[T] = 3.1773088023088$"
      ],
      "text/plain": [
       "E[T] = 3.1773088023088"
      ]
     },
     "metadata": {},
     "output_type": "display_data"
    },
    {
     "data": {
      "image/png": "[encoded data removed]",
      "text/latex": [
       "$\\displaystyle E[N] = 2.22411616161616$"
      ],
      "text/plain": [
       "E[N] = 2.22411616161616"
      ]
     },
     "metadata": {},
     "output_type": "display_data"
    },
    {
     "data": {
      "image/png": "[encoded data removed]",
      "text/latex": [
       "$\\displaystyle X = 0.7$"
      ],
      "text/plain": [
       "X = 0.7"
      ]
     },
     "metadata": {},
     "output_type": "display_data"
    },
    {
     "data": {
      "text/plain": [
       "'----------------------------------'"
      ]
     },
     "metadata": {},
     "output_type": "display_data"
    },
    {
     "data": {
      "image/png": "[encoded data removed]",
      "text/latex": [
       "$\\displaystyle \\gamma = 0.75$"
      ],
      "text/plain": [
       "γ = 0.75"
      ]
     },
     "metadata": {},
     "output_type": "display_data"
    },
    {
     "data": {
      "image/png": "[encoded data removed]",
      "text/latex": [
       "$\\displaystyle E[T] = 3.40863787375415$"
      ],
      "text/plain": [
       "E[T] = 3.40863787375415"
      ]
     },
     "metadata": {},
     "output_type": "display_data"
    },
    {
     "data": {
      "image/png": "[encoded data removed]",
      "text/latex": [
       "$\\displaystyle E[N] = 2.55647840531562$"
      ],
      "text/plain": [
       "E[N] = 2.55647840531562"
      ]
     },
     "metadata": {},
     "output_type": "display_data"
    },
    {
     "data": {
      "image/png": "[encoded data removed]",
      "text/latex": [
       "$\\displaystyle X = 0.75$"
      ],
      "text/plain": [
       "X = 0.75"
      ]
     },
     "metadata": {},
     "output_type": "display_data"
    },
    {
     "data": {
      "text/plain": [
       "'----------------------------------'"
      ]
     },
     "metadata": {},
     "output_type": "display_data"
    },
    {
     "data": {
      "image/png": "[encoded data removed]",
      "text/latex": [
       "$\\displaystyle \\gamma = 0.8$"
      ],
      "text/plain": [
       "γ = 0.8"
      ]
     },
     "metadata": {},
     "output_type": "display_data"
    },
    {
     "data": {
      "image/png": "[encoded data removed]",
      "text/latex": [
       "$\\displaystyle E[T] = 3.68424392410686$"
      ],
      "text/plain": [
       "E[T] = 3.68424392410686"
      ]
     },
     "metadata": {},
     "output_type": "display_data"
    },
    {
     "data": {
      "image/png": "[encoded data removed]",
      "text/latex": [
       "$\\displaystyle E[N] = 2.94739513928549$"
      ],
      "text/plain": [
       "E[N] = 2.94739513928549"
      ]
     },
     "metadata": {},
     "output_type": "display_data"
    },
    {
     "data": {
      "image/png": "[encoded data removed]",
      "text/latex": [
       "$\\displaystyle X = 0.8$"
      ],
      "text/plain": [
       "X = 0.8"
      ]
     },
     "metadata": {},
     "output_type": "display_data"
    },
    {
     "data": {
      "text/plain": [
       "'----------------------------------'"
      ]
     },
     "metadata": {},
     "output_type": "display_data"
    },
    {
     "data": {
      "image/png": "[encoded data removed]",
      "text/latex": [
       "$\\displaystyle \\gamma = 0.85$"
      ],
      "text/plain": [
       "γ = 0.85"
      ]
     },
     "metadata": {},
     "output_type": "display_data"
    },
    {
     "data": {
      "image/png": "[encoded data removed]",
      "text/latex": [
       "$\\displaystyle E[T] = 4.01976618981695$"
      ],
      "text/plain": [
       "E[T] = 4.01976618981695"
      ]
     },
     "metadata": {},
     "output_type": "display_data"
    },
    {
     "data": {
      "image/png": "[encoded data removed]",
      "text/latex": [
       "$\\displaystyle E[N] = 3.41680126134441$"
      ],
      "text/plain": [
       "E[N] = 3.41680126134441"
      ]
     },
     "metadata": {},
     "output_type": "display_data"
    },
    {
     "data": {
      "image/png": "[encoded data removed]",
      "text/latex": [
       "$\\displaystyle X = 0.85$"
      ],
      "text/plain": [
       "X = 0.85"
      ]
     },
     "metadata": {},
     "output_type": "display_data"
    },
    {
     "data": {
      "text/plain": [
       "'----------------------------------'"
      ]
     },
     "metadata": {},
     "output_type": "display_data"
    },
    {
     "data": {
      "image/png": "[encoded data removed]",
      "text/latex": [
       "$\\displaystyle \\gamma = 0.9$"
      ],
      "text/plain": [
       "γ = 0.9"
      ]
     },
     "metadata": {},
     "output_type": "display_data"
    },
    {
     "data": {
      "image/png": "[encoded data removed]",
      "text/latex": [
       "$\\displaystyle E[T] = 4.4395896656535$"
      ],
      "text/plain": [
       "E[T] = 4.4395896656535"
      ]
     },
     "metadata": {},
     "output_type": "display_data"
    },
    {
     "data": {
      "image/png": "[encoded data removed]",
      "text/latex": [
       "$\\displaystyle E[N] = 3.99563069908815$"
      ],
      "text/plain": [
       "E[N] = 3.99563069908815"
      ]
     },
     "metadata": {},
     "output_type": "display_data"
    },
    {
     "data": {
      "image/png": "[encoded data removed]",
      "text/latex": [
       "$\\displaystyle X = 0.9$"
      ],
      "text/plain": [
       "X = 0.9"
      ]
     },
     "metadata": {},
     "output_type": "display_data"
    },
    {
     "data": {
      "text/plain": [
       "'----------------------------------'"
      ]
     },
     "metadata": {},
     "output_type": "display_data"
    },
    {
     "data": {
      "image/png": "[encoded data removed]",
      "text/latex": [
       "$\\displaystyle \\gamma = 0.95$"
      ],
      "text/plain": [
       "γ = 0.95"
      ]
     },
     "metadata": {},
     "output_type": "display_data"
    },
    {
     "data": {
      "image/png": "[encoded data removed]",
      "text/latex": [
       "$\\displaystyle E[T] = 4.98408121583469$"
      ],
      "text/plain": [
       "E[T] = 4.98408121583469"
      ]
     },
     "metadata": {},
     "output_type": "display_data"
    },
    {
     "data": {
      "image/png": "[encoded data removed]",
      "text/latex": [
       "$\\displaystyle E[N] = 4.73487715504295$"
      ],
      "text/plain": [
       "E[N] = 4.73487715504295"
      ]
     },
     "metadata": {},
     "output_type": "display_data"
    },
    {
     "data": {
      "image/png": "[encoded data removed]",
      "text/latex": [
       "$\\displaystyle X = 0.95$"
      ],
      "text/plain": [
       "X = 0.95"
      ]
     },
     "metadata": {},
     "output_type": "display_data"
    },
    {
     "data": {
      "text/plain": [
       "'----------------------------------'"
      ]
     },
     "metadata": {},
     "output_type": "display_data"
    },
    {
     "data": {
      "image/png": "[encoded data removed]",
      "text/latex": [
       "$\\displaystyle \\gamma = 1.0$"
      ],
      "text/plain": [
       "γ = 1.0"
      ]
     },
     "metadata": {},
     "output_type": "display_data"
    },
    {
     "data": {
      "image/png": "[encoded data removed]",
      "text/latex": [
       "$\\displaystyle E[T] = 5.72549019607843$"
      ],
      "text/plain": [
       "E[T] = 5.72549019607843"
      ]
     },
     "metadata": {},
     "output_type": "display_data"
    },
    {
     "data": {
      "image/png": "[encoded data removed]",
      "text/latex": [
       "$\\displaystyle E[N] = 5.72549019607843$"
      ],
      "text/plain": [
       "E[N] = 5.72549019607843"
      ]
     },
     "metadata": {},
     "output_type": "display_data"
    },
    {
     "data": {
      "image/png": "[encoded data removed]",
      "text/latex": [
       "$\\displaystyle X = 1.0$"
      ],
      "text/plain": [
       "X = 1.0"
      ]
     },
     "metadata": {},
     "output_type": "display_data"
    },
    {
     "data": {
      "text/plain": [
       "'----------------------------------'"
      ]
     },
     "metadata": {},
     "output_type": "display_data"
    },
    {
     "data": {
      "image/png": "[encoded data removed]",
      "text/latex": [
       "$\\displaystyle \\gamma = 1.05$"
      ],
      "text/plain": [
       "γ = 1.05"
      ]
     },
     "metadata": {},
     "output_type": "display_data"
    },
    {
     "data": {
      "image/png": "[encoded data removed]",
      "text/latex": [
       "$\\displaystyle E[T] = 6.80766759477405$"
      ],
      "text/plain": [
       "E[T] = 6.80766759477405"
      ]
     },
     "metadata": {},
     "output_type": "display_data"
    },
    {
     "data": {
      "image/png": "[encoded data removed]",
      "text/latex": [
       "$\\displaystyle E[N] = 7.14805097451275$"
      ],
      "text/plain": [
       "E[N] = 7.14805097451275"
      ]
     },
     "metadata": {},
     "output_type": "display_data"
    },
    {
     "data": {
      "image/png": "[encoded data removed]",
      "text/latex": [
       "$\\displaystyle X = 1.05$"
      ],
      "text/plain": [
       "X = 1.05"
      ]
     },
     "metadata": {},
     "output_type": "display_data"
    },
    {
     "data": {
      "text/plain": [
       "'----------------------------------'"
      ]
     },
     "metadata": {},
     "output_type": "display_data"
    },
    {
     "data": {
      "image/png": "[encoded data removed]",
      "text/latex": [
       "$\\displaystyle \\gamma = 1.1$"
      ],
      "text/plain": [
       "γ = 1.1"
      ]
     },
     "metadata": {},
     "output_type": "display_data"
    },
    {
     "data": {
      "image/png": "[encoded data removed]",
      "text/latex": [
       "$\\displaystyle E[T] = 8.56516290726818$"
      ],
      "text/plain": [
       "E[T] = 8.56516290726818"
      ]
     },
     "metadata": {},
     "output_type": "display_data"
    },
    {
     "data": {
      "image/png": "[encoded data removed]",
      "text/latex": [
       "$\\displaystyle E[N] = 9.421679197995$"
      ],
      "text/plain": [
       "E[N] = 9.421679197995"
      ]
     },
     "metadata": {},
     "output_type": "display_data"
    },
    {
     "data": {
      "image/png": "[encoded data removed]",
      "text/latex": [
       "$\\displaystyle X = 1.1$"
      ],
      "text/plain": [
       "X = 1.1"
      ]
     },
     "metadata": {},
     "output_type": "display_data"
    },
    {
     "data": {
      "text/plain": [
       "'----------------------------------'"
      ]
     },
     "metadata": {},
     "output_type": "display_data"
    },
    {
     "data": {
      "image/png": "[encoded data removed]",
      "text/latex": [
       "$\\displaystyle \\gamma = 1.15$"
      ],
      "text/plain": [
       "γ = 1.15"
      ]
     },
     "metadata": {},
     "output_type": "display_data"
    },
    {
     "data": {
      "image/png": "[encoded data removed]",
      "text/latex": [
       "$\\displaystyle E[T] = 11.999481999482$"
      ],
      "text/plain": [
       "E[T] = 11.999481999482"
      ]
     },
     "metadata": {},
     "output_type": "display_data"
    },
    {
     "data": {
      "image/png": "[encoded data removed]",
      "text/latex": [
       "$\\displaystyle E[N] = 13.7994042994043$"
      ],
      "text/plain": [
       "E[N] = 13.7994042994043"
      ]
     },
     "metadata": {},
     "output_type": "display_data"
    },
    {
     "data": {
      "image/png": "[encoded data removed]",
      "text/latex": [
       "$\\displaystyle X = 1.15$"
      ],
      "text/plain": [
       "X = 1.15"
      ]
     },
     "metadata": {},
     "output_type": "display_data"
    },
    {
     "data": {
      "text/plain": [
       "'----------------------------------'"
      ]
     },
     "metadata": {},
     "output_type": "display_data"
    },
    {
     "data": {
      "image/png": "[encoded data removed]",
      "text/latex": [
       "$\\displaystyle \\gamma = 1.2$"
      ],
      "text/plain": [
       "γ = 1.2"
      ]
     },
     "metadata": {},
     "output_type": "display_data"
    },
    {
     "data": {
      "image/png": "[encoded data removed]",
      "text/latex": [
       "$\\displaystyle E[T] = 22.1125143513203$"
      ],
      "text/plain": [
       "E[T] = 22.1125143513203"
      ]
     },
     "metadata": {},
     "output_type": "display_data"
    },
    {
     "data": {
      "image/png": "[encoded data removed]",
      "text/latex": [
       "$\\displaystyle E[N] = 26.5350172215844$"
      ],
      "text/plain": [
       "E[N] = 26.5350172215844"
      ]
     },
     "metadata": {},
     "output_type": "display_data"
    },
    {
     "data": {
      "image/png": "[encoded data removed]",
      "text/latex": [
       "$\\displaystyle X = 1.2$"
      ],
      "text/plain": [
       "X = 1.2"
      ]
     },
     "metadata": {},
     "output_type": "display_data"
    }
   ],
   "source": [
    "v_expr = lambda_[s] / gamma\n",
    "display(Eq(v[s], v_expr))\n",
    "display(\"----------------------------------\")\n",
    "for server in servers:\n",
    "    display(Eq(v[server], (v_expr).subs({\n",
    "        lambda_[s]: lambda_exprs[server],\n",
    "    })))\n",
    "display(\"----------------------------------\")\n",
    "display(Eq(e_t, Sum(v[s] * e_t[s], (s, servers[0], servers[-1]))))\n",
    "display(Eq(e_n, gamma * e_t))\n",
    "x_expr = x[\"A\"] * p[\"A\", \"3\"]\n",
    "display(Eq(x, x_expr))\n",
    "\n",
    "for rate in stable_rates:\n",
    "    display(\"----------------------------------\")\n",
    "    \n",
    "    # Response time\n",
    "    display(Eq(gamma, rate))\n",
    "    e_t_global_expr = Sum(v[s] * e_t[s], (s, 0, len(servers) - 1)).doit()\n",
    "    for server in servers:\n",
    "        index_s = servers.index(server)\n",
    "        v_s_expr = v_expr.subs(lambda_[s], lambda_exprs[server])\n",
    "        e_t_global_expr = e_t_global_expr.subs({\n",
    "            v[index_s]: v_s_expr,\n",
    "            e_t[index_s]: e_t_values[rate][server],\n",
    "        })\n",
    "    display(Eq(e_t, e_t_global_expr))\n",
    "\n",
    "    # Population\n",
    "    e_n_global_expr = gamma * e_t_global_expr\n",
    "    e_n_global_expr = e_n_global_expr.subs(gamma, rate)\n",
    "    display(Eq(e_n, e_n_global_expr))\n",
    "\n",
    "    # Throughput\n",
    "    x_val = x_expr.subs({\n",
    "        x[\"A\"]: throughputs[x[\"A\"]],\n",
    "        gamma: rate,\n",
    "        p[\"A\", \"3\"]: class_probabilities[\"A\"][\"3\"]\n",
    "    })\n",
    "    display(Eq(x, x_val))\n",
    "        "
   ]
  }
 ],
 "metadata": {
  "kernelspec": {
   "display_name": "Python 3",
   "language": "python",
   "name": "python3"
  },
  "language_info": {
   "codemirror_mode": {
    "name": "ipython",
    "version": 3
   },
   "file_extension": ".py",
   "mimetype": "text/x-python",
   "name": "python",
   "nbconvert_exporter": "python",
   "pygments_lexer": "ipython3",
   "version": "3.9.21"
  }
 },
 "nbformat": 4,
 "nbformat_minor": 2
}
